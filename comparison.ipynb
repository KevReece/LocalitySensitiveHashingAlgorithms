{
 "cells": [
  {
   "cell_type": "code",
   "execution_count": 1,
   "metadata": {},
   "outputs": [],
   "source": [
    "import gensim.downloader\n",
    "import numpy as np\n",
    "from algorithms.RandomProjectionsLsh import RandomProjectionsLsh\n",
    "from algorithms.PcaBasedLsh import PcaBasedLsh\n",
    "from algorithms.MinkowskiLsh import L1Lsh, L2Lsh\n",
    "from algorithms.PcaMinkowskiLsh import PcaL1Lsh, PcaL2Lsh\n",
    "from algorithms.SuperBitLsh import SuperBitLsh\n",
    "from algorithms.HierarchicalLsh import HierarchicalLsh\n",
    "from algorithms.HierarchicalHyperplaneLsh import HierarchicalHyperplaneLsh"
   ]
  },
  {
   "cell_type": "markdown",
   "metadata": {},
   "source": [
    "# Load vocabulary"
   ]
  },
  {
   "cell_type": "code",
   "execution_count": 2,
   "metadata": {},
   "outputs": [
    {
     "name": "stdout",
     "output_type": "stream",
     "text": [
      "Loading words...\n",
      "Words loaded: 4319\n"
     ]
    }
   ],
   "source": [
    "import urllib.request\n",
    "\n",
    "\n",
    "def load_common_words():\n",
    "    print('Loading words...')\n",
    "    words = set()\n",
    "    target_url = 'https://raw.githubusercontent.com/pkLazer/password_rank/master/4000-most-common-english-words-csv.csv'\n",
    "    is_header_line = True\n",
    "    for line in urllib.request.urlopen(target_url):\n",
    "        if is_header_line:\n",
    "            is_header_line = False\n",
    "            continue\n",
    "        words.add(line.decode('utf-8').strip())\n",
    "    print(f'Words loaded: {len(words)}')\n",
    "\n",
    "    return words\n",
    "\n",
    "vocabulary = load_common_words()"
   ]
  },
  {
   "cell_type": "markdown",
   "metadata": {},
   "source": [
    "# Embedding Models\n",
    "\n",
    "Note that first downloads will be very slow, then first memory load will still be slow, but then each model is cached."
   ]
  },
  {
   "cell_type": "code",
   "execution_count": 3,
   "metadata": {},
   "outputs": [],
   "source": [
    "class EmbeddingsModel:\n",
    "    _instances = {}\n",
    "\n",
    "    @classmethod\n",
    "    def get(cls, model_name):\n",
    "        if not model_name in cls._instances:\n",
    "            cls._instances[model_name] = cls(model_name)\n",
    "        return cls._instances[model_name]\n",
    "\n",
    "    def __init__(self, model_name):\n",
    "        print(f'Loading {model_name} embeddings model')\n",
    "        self.embeddings_model = gensim.downloader.load(model_name)\n",
    "\n",
    "    def embed_word(self, word):\n",
    "        return self.embeddings_model[word]\n",
    "    \n",
    "    def embed_words(self, words):\n",
    "        existing_words = [word for word in words if self.word_exists(word)]\n",
    "        return np.array(self.embeddings_model.vectors_for_all(existing_words).vectors)\n",
    "    \n",
    "    def embed_words_as_dict(self, words):\n",
    "        existing_words = [word for word in words if self.word_exists(word)]\n",
    "        embeddings_for_words = self.embeddings_model.vectors_for_all(existing_words).vectors\n",
    "        return {word: embeddings_for_words[i] for i, word in enumerate(existing_words)}\n",
    "    \n",
    "    def word_exists(self, word):\n",
    "        return word in self.embeddings_model.key_to_index"
   ]
  },
  {
   "cell_type": "code",
   "execution_count": 4,
   "metadata": {},
   "outputs": [
    {
     "name": "stdout",
     "output_type": "stream",
     "text": [
      "All possible models: ['fasttext-wiki-news-subwords-300', 'conceptnet-numberbatch-17-06-300', 'word2vec-ruscorpora-300', 'word2vec-google-news-300', 'glove-wiki-gigaword-50', 'glove-wiki-gigaword-100', 'glove-wiki-gigaword-200', 'glove-wiki-gigaword-300', 'glove-twitter-25', 'glove-twitter-50', 'glove-twitter-100', 'glove-twitter-200', '__testing_word2vec-matrix-synopsis']\n"
     ]
    }
   ],
   "source": [
    "possible_models = list(gensim.downloader.info()['models'].keys())\n",
    "print(f'All possible models: {possible_models}')\n",
    "\n",
    "EMBEDDING_MODEL = 'glove-wiki-gigaword-100'"
   ]
  },
  {
   "cell_type": "markdown",
   "metadata": {},
   "source": [
    "# Comparisons"
   ]
  },
  {
   "cell_type": "code",
   "execution_count": 5,
   "metadata": {},
   "outputs": [],
   "source": [
    "def _hash_vocabulary(vocabulary, embeddings_model_name, hasher):\n",
    "    embeddings_model = EmbeddingsModel.get(embeddings_model_name)\n",
    "    print(f'Embedding vocabulary of {len(vocabulary)} words')\n",
    "    vocabulary_embeddings = embeddings_model.embed_words_as_dict(vocabulary)\n",
    "    print(f'Training hasher with all {len(vocabulary_embeddings)} vocabulary embeddings')\n",
    "    hasher.fit(np.array(list(vocabulary_embeddings.values())))\n",
    "    print(f'Hashing all {len(vocabulary_embeddings)} vocabulary embeddings')\n",
    "    vocabulary_hashes = {word: hasher.hash_vector(embedding) for word, embedding in vocabulary_embeddings.items() }\n",
    "    return vocabulary_hashes\n",
    "\n",
    "def _get_hash_words(hash, vocabulary_hashes):\n",
    "    words = []\n",
    "    for word, word_hash in vocabulary_hashes.items():\n",
    "        if word_hash == hash:\n",
    "            words.append(word)\n",
    "    return words\n",
    "\n",
    "def _print_word_neighbourhood(word, vocabulary_hashes):\n",
    "    hash = vocabulary_hashes[word]\n",
    "    neighbourhood = _get_hash_words(hash, vocabulary_hashes)\n",
    "    print(f'Words for word {word}, hash {hash}: {neighbourhood}')\n",
    "\n",
    "def compare_vocabulary_hashes(embeddings_model_name, hasher, search_terms):\n",
    "    print(f'Comparing vocabulary hashes for {embeddings_model_name} embeddings model with {hasher.to_string()}')\n",
    "    vocabulary_hashes = _hash_vocabulary(vocabulary, embeddings_model_name, hasher)\n",
    "    for term in search_terms:\n",
    "        _print_word_neighbourhood(term, vocabulary_hashes)"
   ]
  },
  {
   "cell_type": "code",
   "execution_count": 6,
   "metadata": {},
   "outputs": [],
   "source": [
    "search_terms = ['apple', 'orange', 'banana', 'grape', 'fruit', 'cheese', 'plane', 'train', 'universe', 'love', 'anger']"
   ]
  },
  {
   "cell_type": "code",
   "execution_count": 7,
   "metadata": {},
   "outputs": [
    {
     "name": "stdout",
     "output_type": "stream",
     "text": [
      "Comparing vocabulary hashes for glove-wiki-gigaword-100 embeddings model with RandomProjectionsLsh (hash_length=11)\n",
      "Loading glove-wiki-gigaword-100 embeddings model\n",
      "Embedding vocabulary of 4319 words\n",
      "Training hasher with all 4253 vocabulary embeddings\n",
      "Hashing all 4253 vocabulary embeddings\n",
      "Words for word apple, hash 1717: ['apple', 'programming']\n",
      "Words for word orange, hash 708: ['hazard', 'fever', 'orange', 'brake', 'pink', 'cloud', 'headache', 'shock']\n",
      "Words for word banana, hash 1007: ['pasta', 'tooth', 'shell', 'vertical', 'snake', 'chop', 'banana', 'operation']\n",
      "Words for word grape, hash 750: ['nest', 'grape', 'rat', 'cup', 'additional', 'brush']\n",
      "Words for word fruit, hash 646: ['bacteria', 'laboratory', 'sleep', 'fruit', 'cancer', 'supply']\n",
      "Words for word cheese, hash 1773: ['cheese']\n",
      "Words for word plane, hash 983: ['scream', 'killer', 'off', 'out', 'plane']\n",
      "Words for word train, hash 963: ['heaven', 'train', 'hit', 'blade', 'spot']\n",
      "Words for word universe, hash 2038: ['battle', 'adapt', 'weaken', 'ability', 'universe', 'instead', 'earth', 'machine', 'possibly', 'reality', 'cold', 'combination', 'unfair', 'stage', 'satellite', 'capture', 'impossible', 'invent', 'able', 'manipulate', 'rather']\n",
      "Words for word love, hash 2002: ['roll', 'either', 'deliberately', 'somebody', 'drag', 'pick', 'break', 'touch', 'strictly', 'fiction', 'best', 'chance', 'try', 'fat', 'push', 'play', 'put', 'dancer', 'promote', 'comedy', 'score', 'shelf', 'bring', 'dance', 'love']\n",
      "Words for word anger, hash 518: ['lung', 'assistance', 'anger', 'safety', 'food', 'economist']\n"
     ]
    }
   ],
   "source": [
    "compare_vocabulary_hashes(EMBEDDING_MODEL, RandomProjectionsLsh(hash_length=11), search_terms)"
   ]
  },
  {
   "cell_type": "code",
   "execution_count": 8,
   "metadata": {},
   "outputs": [
    {
     "name": "stdout",
     "output_type": "stream",
     "text": [
      "Comparing vocabulary hashes for glove-wiki-gigaword-100 embeddings model with PcaBasedLsh (hash_length=14)\n",
      "Embedding vocabulary of 4319 words\n",
      "Training hasher with all 4253 vocabulary embeddings\n",
      "Hashing all 4253 vocabulary embeddings\n",
      "Words for word apple, hash 10352: ['buy', 'apple', 'energy', 'giant']\n",
      "Words for word orange, hash 2393: ['leaf', 'orange', 'fur']\n",
      "Words for word banana, hash 2136: ['bean', 'chicken', 'meat', 'egg', 'shrimp', 'fruit', 'banana', 'pie', 'sugar']\n",
      "Words for word grape, hash 3160: ['grape']\n",
      "Words for word fruit, hash 2136: ['bean', 'chicken', 'meat', 'egg', 'shrimp', 'fruit', 'banana', 'pie', 'sugar']\n",
      "Words for word cheese, hash 2138: ['pour', 'cheese', 'milk', 'vegetable', 'soup', 'pasta', 'chocolate', 'tablespoon', 'mixture', 'tomato', 'flour', 'potato', 'onion', 'dessert', 'sauce', 'juice', 'lemon', 'salad', 'dried', 'honey', 'peanut', 'pepper', 'butter', 'salt', 'garlic', 'corn']\n",
      "Words for word plane, hash 10672: ['rocket', 'missile', 'radar', 'cargo', 'shell', 'ship', 'nuclear', 'aircraft', 'search', 'plane']\n",
      "Words for word train, hash 10659: ['train']\n",
      "Words for word universe, hash 9268: ['universe', 'genre']\n",
      "Words for word love, hash 125: ['love']\n",
      "Words for word anger, hash 12627: ['anger', 'sympathy']\n"
     ]
    }
   ],
   "source": [
    "compare_vocabulary_hashes(EMBEDDING_MODEL, PcaBasedLsh(hash_length=14), search_terms)"
   ]
  },
  {
   "cell_type": "code",
   "execution_count": 9,
   "metadata": {},
   "outputs": [
    {
     "name": "stdout",
     "output_type": "stream",
     "text": [
      "Comparing vocabulary hashes for glove-wiki-gigaword-100 embeddings model with L1Lsh (dimensions_count=100, bucket_width=0.01, count_hash_tables=200\n",
      "Embedding vocabulary of 4319 words\n",
      "Training hasher with all 4253 vocabulary embeddings\n",
      "Hashing all 4253 vocabulary embeddings\n",
      "Words for word apple, hash 1533: ['jungle', 'apple', 'step', 'silence', 'definition']\n",
      "Words for word orange, hash 1225: ['crazy', 'assess', 'astronomer', 'orange', 'processing', 'voter', 'specify']\n",
      "Words for word banana, hash 1417: ['directly', 'strong', 'proportion', 'climb', 'dissolve', 'banana', 'fierce']\n",
      "Words for word grape, hash 1722: ['law', 'grape']\n",
      "Words for word fruit, hash 1614: ['extend', 'tragic', 'fruit']\n",
      "Words for word cheese, hash 1394: ['cheese', 'finding', 'donor', 'husband', 'practice', 'hunger', 'asleep', 'toilet']\n",
      "Words for word plane, hash 1690: ['boss', 'try', 'plane']\n",
      "Words for word train, hash 1229: ['skirt', 'roof', 'suspicious', 'opposite', 'train', 'pizza', 'bathroom', 'commercial', 'puzzle', 'isolated', 'effect']\n",
      "Words for word universe, hash 1378: ['healthy', 'universe', 'provide', 'prevention', 'purse', 'focus', 'collective', 'impossible', 'plead']\n",
      "Words for word love, hash 1783: ['love']\n",
      "Words for word anger, hash 1314: ['tragedy', 'religious', 'town', 'anger', 'bid', 'change', 'measure', 'demonstration', 'supply']\n"
     ]
    }
   ],
   "source": [
    "compare_vocabulary_hashes(EMBEDDING_MODEL, L1Lsh(dimensions_count=100, bucket_width=0.01, count_hash_tables=200), search_terms)"
   ]
  },
  {
   "cell_type": "code",
   "execution_count": 10,
   "metadata": {},
   "outputs": [
    {
     "name": "stdout",
     "output_type": "stream",
     "text": [
      "Comparing vocabulary hashes for glove-wiki-gigaword-100 embeddings model with L2Lsh (dimensions_count=100, bucket_width=0.01, count_hash_tables=200\n",
      "Embedding vocabulary of 4319 words\n",
      "Training hasher with all 4253 vocabulary embeddings\n",
      "Hashing all 4253 vocabulary embeddings\n",
      "Words for word apple, hash 314: ['margin', 'apple', 'careful', 'there', 'task']\n",
      "Words for word orange, hash 736: ['direct', 'orange', 'special', 'accountability']\n",
      "Words for word banana, hash 834: ['poster', 'banana', 'very']\n",
      "Words for word grape, hash 1808: ['grape']\n",
      "Words for word fruit, hash 1325: ['image', 'awareness', 'fruit', 'chamber']\n",
      "Words for word cheese, hash 1159: ['cheese', 'percentage', 'empty']\n",
      "Words for word plane, hash 1864: ['plane']\n",
      "Words for word train, hash 741: ['anywhere', 'hidden', 'train', 'supportive', 'occasional', 'increase', 'visual', 'yours', 'fewer', 'courage', 'grip']\n",
      "Words for word universe, hash 578: ['universe', 'the', 'artifact', 'suspicion']\n",
      "Words for word love, hash 672: ['treasure', 'boom', 'giant', 'love']\n",
      "Words for word anger, hash 970: ['friendly', 'quiet', 'implement', 'anger']\n"
     ]
    }
   ],
   "source": [
    "compare_vocabulary_hashes(EMBEDDING_MODEL, L2Lsh(dimensions_count=100, bucket_width=0.01, count_hash_tables=200), search_terms)"
   ]
  },
  {
   "cell_type": "code",
   "execution_count": 11,
   "metadata": {},
   "outputs": [
    {
     "name": "stdout",
     "output_type": "stream",
     "text": [
      "Comparing vocabulary hashes for glove-wiki-gigaword-100 embeddings model with PcaL1Lsh (bucket_width=0.005, count_hash_tables=50)\n",
      "Embedding vocabulary of 4319 words\n",
      "Training hasher with all 4253 vocabulary embeddings\n",
      "Hashing all 4253 vocabulary embeddings\n",
      "Words for word apple, hash 376: ['instead', 'existing', 'apple', 'lots', 'reserve', 'vote', 'root', 'arrange', 'enact', 'workout', 'craft', 'graduation']\n",
      "Words for word orange, hash 416: ['writer', 'scheme', 'order', 'orange', 'time', 'alternative', 'discover', 'refer', 'thus', 'household', 'radical', 'blend', 'someone', 'while', 'defend']\n",
      "Words for word banana, hash 405: ['significance', 'link', 'walking', 'introduce', 'banana', 'upon']\n",
      "Words for word grape, hash 386: ['judgment', 'below', 'grape', 'lobby', 'compound', 'acknowledge', 'daughter', 'season', 'rape', 'editor', 'pilot']\n",
      "Words for word fruit, hash 529: ['contribution', 'the', 'sustainable', 'fruit', 'pepper', 'territory', 'fuel']\n",
      "Words for word cheese, hash 591: ['cheese', 'strategy', 'processing', 'involvement']\n",
      "Words for word plane, hash 464: ['unless', 'respond', 'violence', 'inventory', 'plane']\n",
      "Words for word train, hash 554: ['scholar', 'train', 'protein', 'despite', 'safely']\n",
      "Words for word universe, hash 243: ['universe', 'teammate', 'nut', 'equally', 'equivalent', 'franchise', 'apologize', 'combined', 'accuracy']\n",
      "Words for word love, hash 11: ['thing', 'love']\n",
      "Words for word anger, hash 325: ['tourist', 'merit', 'die', 'degree', 'intimate', 'rail', 'system', 'anger', 'retired', 'quote', 'electronics', 'couch', 'crawl', 'sell', 'log', 'supporter', 'minute']\n"
     ]
    }
   ],
   "source": [
    "compare_vocabulary_hashes(EMBEDDING_MODEL, PcaL1Lsh(bucket_width=0.005, count_hash_tables=50), search_terms)"
   ]
  },
  {
   "cell_type": "code",
   "execution_count": 12,
   "metadata": {},
   "outputs": [
    {
     "name": "stdout",
     "output_type": "stream",
     "text": [
      "Comparing vocabulary hashes for glove-wiki-gigaword-100 embeddings model with PcaL2Lsh (bucket_width=0.005, count_hash_tables=50)\n",
      "Embedding vocabulary of 4319 words\n",
      "Training hasher with all 4253 vocabulary embeddings\n",
      "Hashing all 4253 vocabulary embeddings\n",
      "Words for word apple, hash 376: ['instead', 'duty', 'apple', 'lots', 'exact', 'full', 'root', 'arrange', 'enact', 'workout', 'craft', 'graduation']\n",
      "Words for word orange, hash 416: ['being', 'writer', 'maintenance', 'scheme', 'professional', 'orange', 'time', 'alternative', 'discover', 'refer', 'thus', 'household', 'radical', 'blend', 'someone', 'while', 'defend', 'now']\n",
      "Words for word banana, hash 405: ['achievement', 'land', 'animal', 'stomach', 'goal', 'significance', 'essay', 'link', 'walking', 'introduce', 'brake', 'considerable', 'banana', 'cord', 'upon']\n",
      "Words for word grape, hash 386: ['judgment', 'below', 'connection', 'offensive', 'grape', 'lobby', 'compound', 'acknowledge', 'daughter', 'season', 'colorful', 'editor', 'pilot']\n",
      "Words for word fruit, hash 529: ['contribution', 'the', 'sustainable', 'fruit', 'pepper', 'teaspoon', 'territory', 'fuel']\n",
      "Words for word cheese, hash 591: ['cheese', 'strategy', 'processing', 'involvement']\n",
      "Words for word plane, hash 464: ['unless', 'respond', 'league', 'say', 'inventory', 'plane', 'estimate']\n",
      "Words for word train, hash 554: ['scholar', 'train', 'protein', 'despite', 'safely']\n",
      "Words for word universe, hash 243: ['audience', 'universe', 'attach', 'hall', 'golf', 'formula', 'artifact', 'franchise', 'dump', 'apologize']\n",
      "Words for word love, hash 268: ['teammate', 'and/or', 'remind', 'ordinary', 'silly', 'viewer', 'down', 'finish', 'soccer', 'slope', 'grasp', 'love']\n",
      "Words for word anger, hash 325: ['tourist', 'merit', 'die', 'intimate', 'anger', 'retired', 'quote', 'custom', 'class', 'couch', 'crawl', 'sell', 'empty', 'log', 'supporter', 'minute', 'accuracy']\n"
     ]
    }
   ],
   "source": [
    "compare_vocabulary_hashes(EMBEDDING_MODEL, PcaL2Lsh(bucket_width=0.005, count_hash_tables=50), search_terms)"
   ]
  },
  {
   "cell_type": "code",
   "execution_count": 13,
   "metadata": {},
   "outputs": [
    {
     "name": "stdout",
     "output_type": "stream",
     "text": [
      "Comparing vocabulary hashes for glove-wiki-gigaword-100 embeddings model with SuperBitLsh(hash_length=14, num_bits_per_batch=4)\n",
      "Embedding vocabulary of 4319 words\n",
      "Training hasher with all 4253 vocabulary embeddings\n",
      "Hashing all 4253 vocabulary embeddings\n"
     ]
    },
    {
     "name": "stderr",
     "output_type": "stream",
     "text": [
      "c:\\Projects\\LocalitySensitiveHashingAlgorithms\\.venv\\lib\\site-packages\\numpy\\linalg\\linalg.py:2582: RuntimeWarning: overflow encountered in multiply\n",
      "  s = (x.conj() * x).real\n",
      "c:\\Projects\\LocalitySensitiveHashingAlgorithms\\algorithms\\SuperBitLsh.py:20: RuntimeWarning: overflow encountered in multiply\n",
      "  proj = np.dot(vectors[j], vectors[i]) * vectors[j]\n",
      "c:\\Projects\\LocalitySensitiveHashingAlgorithms\\algorithms\\SuperBitLsh.py:24: RuntimeWarning: invalid value encountered in divide\n",
      "  vectors = vectors / norms\n",
      "c:\\Projects\\LocalitySensitiveHashingAlgorithms\\algorithms\\SuperBitLsh.py:21: RuntimeWarning: invalid value encountered in subtract\n",
      "  vectors[i] -= proj\n",
      "c:\\Projects\\LocalitySensitiveHashingAlgorithms\\.venv\\lib\\site-packages\\numpy\\linalg\\linalg.py:2583: RuntimeWarning: overflow encountered in reduce\n",
      "  return sqrt(add.reduce(s, axis=axis, keepdims=keepdims))\n"
     ]
    },
    {
     "name": "stdout",
     "output_type": "stream",
     "text": [
      "Words for word apple, hash 8224: ['bite', 'studio', 'beach', 'scan', 'already', 'hotel', 'smell', 'revelation', 'exposure', 'fleet', 'weather', 'damage', 'late', 'window', 'destruction', 'bulb', 'tropical', 'globe', 'their', 'living', 'deck', 'darkness', 'display', 'arrival', 'roof', 'financial', 'tourism', 'original', 'outfit', 'ocean', 'below', 'sunlight', 'bubble', 'storm', 'weaken', 'mirror', 'powerful', 'likelihood', 'building', 'arena', 'perceive', 'birthday', 'glass', 'descend', 'diminish', 'universe', 'crystal', 'porch', 'lion', 'emerging', 'shell', 'vs', 'attack', 'mall', 'earth', 'portrait', 'basement', 'consumer', 'nest', 'crew', 'fate', 'air', 'screen', 'assess', 'apple', 'cell', 'grandparent', 'convention', 'picture', 'palace', 'shark', 'operating', 'organism', 'electronic', 'elsewhere', 'earnings', 'estate', 'well-being', 'warehouse', 'ah', 'annual', 'origin', 'since', 'lobby', 'hurricane', 'immune', 'bedroom', 'retailer', 'plunge', 'drawer', 'holiday', 'landscape', 'merchant', 'city', 'overwhelm', 'earthquake', 'compare', 'early', 'visitor', 'computer', 'intensity', 'reflect', 'launch', 'creature', 'breeze', 'entertainment', 'weakness', 'terrorist', 'recovery', 'distant', 'unit', 'exhibit', 'syndrome', 'galaxy', 'market', 'temperature', 'ship', 'shopping', 'world', 'capital', 'decline', 'magnitude', 'recover', 'sale', 'impact', 'marketplace', 'rise', 'casino', 'photo', 'cruise', 'property', 'midnight', 'resemble', 'developer', 'fall', 'sunny', 'label', 'visual', 'its', 'video', 'hint', 'viewer', 'marine', 'mansion', 'radiation', 'year', 'recording', 'lower', 'afternoon', 'initial', 'island', 'inventory', 'restaurant', 'collapse', 'retail', 'sentiment', 'electronics', 'boom', 'expected', 'pack', 'room', 'bombing', 'coast', 'dawn', 'age', 'cue', 'sound', 'giant', 'await', 'catalog', 'recession', 'advance', 'disk', 'builder', 'backyard', 'planet', 'economy', 'flesh', 'sensation', 'solar', 'external', 'store', 'delight', 'wind', 'monster', 'dealer', 'cage', 'growth', 'climate', 'sail', 'quarter', 'ecosystem', 'inherit', 'battery', 'hi', 'sun', 'excitement', 'horizon', 'twentieth', 'apartment', 'industrial', 'gather', 'wall', 'arrive', 'theater']\n",
      "Words for word orange, hash 544: ['laughter', 'respectively', 'any', 'personality', 'drunk', 'different', 'first', 'him', 'mate', 'companion', 'bias', 'particular', 'many', 'similarly', 'example', 'invisible', 'rock', 'relate', 'physical', 'quickly', 'result', 'poll', 'generation', 'judge', 'proclaim', 'inevitable', 'number', 'sue', 'look', 'myself', 'player', 'inmate', 'hero', 'also', 'secular', 'reply', 'compose', 'proceed', 'nightmare', 'pause', 'outcome', 'together', 'condition', 'outsider', 'defeat', 'sit', 'recall', 'feel', 'write', 'replace', 'undergo', 'inevitably', 'dancing', 'move', 'being', 'still', 'horrible', 'soup', 'roll', 'competitive', 'interfere', 'widely', 'spouse', 'prime', 'notion', 'something', 'disease', 'what', 'own', 'jail', 'flower', 'anyway', 'face', 'acceptance', 'as', 'prison', 'encounter', 'dirty', 'prevail', 'ambassador', 'without', 'bucket', 'certainly', 'weird', 'single', 'tone', 'danger', 'remember', 'benefit', 'variation', 'see', 'ourselves', 'trial', 'various', 'therefore', 'anymore', 'each', 'day', 'confusion', 'prisoner', 'vacuum', 'often', 'come', 'well-known', 'exit', 'retire', 'problem', 'lawsuit', 'disorder', 'tell', 'tendency', 'bond', 'psychological', 'crime', 'suffer', 'angel', 'passion', 'street', 'against', 'violent', 'among', 'disappointment', 'satisfaction', 'characterize', 'reverse', 'sock', 'known', 'subject', 'kiss', 'bishop', 'because', 'role', 'conscious', 'fault', 'voting', 'either', 'forget', 'general', 'bench', 'guess', 'kill', 'radio', 'smile', 'friendly', 'application', 'dinner', 'opinion', 'criticism', 'simply', 'immediately', 'let', 'country', 'die', 'same', 'else', 'afraid', 'bowl', 'parade', 'happen', 'afterward', 'recent', 'enter', 'favorite', 'unless', 'respondent', 'respond', 'simultaneously', 'form', 'regret', 'set', 'norm', 'sing', 'guilty', 'opposite', 'war', 'variety', 'follow', 'intention', 'frustration', 'shine', 'public', 'most', 'big', 'question', 'contest', 'duty', 'rage', 'but', 'almost', 'please', 'refuse', 'awful', 'similar', 'desire', 'somebody', 'phenomenon', 'romantic', 'appearance', 'few', 'attorney', 'twenty', 'welcome', 'romance', 'murder', 'distinct', 'and/or', 'detective', 'expect', 'attend', 'profile', 'cry', 'scared', 'whereas', 'ask', 'consider', 'well', 'way', 'government', 'fail', 'eligible', 'failure', 'alongside', 'common', 'emotional', 'though', 'desperate', 'idea', 'drag', 'dilemma', 'struggle', 'interrupt', 'especially', 'championship', 'reality', 'forgive', 'fourth', 'popular', 'series', 'universal', 'fortunately', 'professional', 'ballot', 'know', 'transformation', 'consist', 'rival', 'watch', 'and', 'order', 'everybody', 'wet', 'stuff', 'pick', 'primary', 'normally', 'sin', 'life', 'become', 'wait', 'replacement', 'status', 'armed', 'ticket', 'invite', 'elect', 'gradually', 'surprise', 'loud', 'occasion', 'warm', 'familiar', 'chaos', 'surprised', 'submit', 'criminal', 'gay', 'swear', 'however', 'will', 'consciousness', 'indeed', 'motivate', 'album', 'drink', 'diverse', 'adult', 'odd', 'bitter', 'unusual', 'consequently', 'would', 'cast', 'orange', 'celebrate', 'manner', 'progressive', 'socially', 'labor', 'ignore', 'exist', 'everywhere', 'dominant', 'following', 'bit', 'occur', 'health', 'lover', 'foreigner', 'participant', 'separate', 'widespread', 'regularly', 'sudden', 'reminder', 'coup', 'turn', 'just', 'represent', 'consideration', 'seem', 'character', 'avoid', 'twist', 'momentum', 'circumstance', 'cabinet', 'altogether', 'mayor', 'freely', 'there', 'fit', 'painful', 'nation', 'pillow', 'leave', 'feminist', 'society', 'action', 'constantly', 'slavery', 'such', 'spite', 'recognize', 'lately', 'beat', 'chronic', 'chase', 'sexual', 'rank', 'yes', 'governor', 'chair', 'then', 'praise', 'unfortunately', 'hear', 'nominee', 'exception', 'composition', 'slow', 're', 'happily', 'folk', 'multiple', 'evolution', 'others', 'laugh', 'cup', 'liability', 'partner', 'another', 'fiction', 'tonight', 'scare', 'like', 'subsequent', 'gentleman', 'show', 'social', 'brave', 'urge', 'match', 'thoroughly', 'yet', 'workplace', 'instance', 'register', 'consequence', 'strain', 'police', 'stage', 'object', 'leading', 'pet', 'practitioner', 'fantastic', 'rapid', 'anger', 'dad', 'likewise', 'that', 'stranger', 'briefly', 'joy', 'moderate', 'citizen', 'tragic', 'wash', 'otherwise', 'stress', 'racism', 'time', 'frown', 'possible', 'count', 'entity', 'ugly', 'intent', 'boil', 'experienced', 'innocent', 'boss', 'cheer', 'man', 'her', 'place', 'serious', 'riot', 'wave', 'everyone', 'sorry', 'think', 'alternative', 'symbol', 'voter', 'not', 'row', 'call', 'say', 'dismiss', 'vulnerable', 'direction', 'take', 'civil', 'super', 'hurry', 'embarrassed', 'urban', 'serving', 'unlikely', 'president', 'join', 'crowd', 'everyday', 'distract', 'inspire', 'appoint', 'unhappy', 'obligation', 'several', 'final', 'abstract', 'constant', 'thinking', 'severe', 'conscience', 'surely', 'resist', 'shall', 'usually', 'opponent', 'forever', 'contemplate', 'ordinary', 'bride', 'tournament', 'reflection', 'vote', 'dramatic', 'scenario', 'civic', 'equation', 'thought', 'hurt', 'exciting', 'fact', 'punishment', 'disappointed', 'today', 'squad', 'evident', 'despite', 'mode', 'triumph', 'feeling', 'refer', 'one', 'fire', 'maybe', 'thus', 'prospect', 'dynamic', 'functional', 'couple', 'king', 'second', 'dream', 'grocery', 'initiate', 'cop', 'conviction', 'occasionally', 'twelve', 'thank', 'swell', 'opposition', 'silly', 'coming', 'species', 'dissolve', 'why', 'appeal', 'rare', 'puzzle', 'theme', 'should', 'division', 'wish', 'split', 'overwhelming', 'unite', 'trouble', 'stupid', 'brutal', 'condemn', 'continue', 'decide', 'cruel', 'once', 'strike', 'could', 'spit', 'persist', 'neutral', 'everything', 'begin', 'motion', 'ultimately', 'topic', 'politics', 'although', 'themselves', 'want', 'decision', 'concept', 'selection', 'violence', 'guest', 'competition', 'profession', 'doubt', 'suppose', 'change', 'fantasy', 'irony', 'election', 'eventually', 'title', 'yours', 'tune', 'endure', 'book', 'third', 'sympathy', 'singer', 'justice', 'differently', 'happy', 'discourse', 'might', 'event', 'juror', 'sometimes', 'peel', 'lose', 'notice', 'interesting', 'class', 'remain', 'suffering', 'mistake', 'evolve', 'mystery', 'fame', 'regular', 'rape', 'marry', 'embrace', 'play', 'himself', 'perform', 'particularly', 'candidate', 'reason', 'disability', 'race', 'trauma', 'operator', 'apologize', 'can', 'furthermore', 'both', 'departure', 'thing', 'moment', 'strange', 'every', 'ego', 'all', 'increasingly', 'victory', 'advocate', 'retirement', 'voice', 'participate', 'even', 'possibility', 'quietly', 'situation', 'hot', 'yell', 'extreme', 'court', 'provoke', 'certain', 'arise', 'power', 'symptom', 'continued', 'seemingly', 'treat', 'tend', 'headache', 'circuit', 'angry', 'performer', 'hate', 'open', 'dare', 'silent', 'who', 'theory', 'panic', 'cause', 'succeed', 'conclusion', 'matter', 'genre', 'future', 'too', 'cancel', 'announce', 'anxious', 'drama', 'side', 'terms', 'impulse', 'read', 'comedy', 'fill', 'fierce', 'policeman', 'frequently', 'bother', 'cart', 'out', 'terrible', 'courtroom', 'accelerate', 'meet', 'inform', 'rolling', 'wife', 'rain', 'perhaps', 'empty', 'swing', 'pressure', 'skip', 'declare', 'nomination', 'pride', 'episode', 'comparison', 'tired', 'intense', 'upset', 'clerk', 'suddenly', 'plea', 'talk', 'choose', 'flag', 'plead', 'behave', 'characteristic', 'sense', 'reject', 'convict', 'depart', 'they', 'shame', 'manager', 'mental', 'starter', 'operate', 'divorce', 'listen', 'hell', 'understand', 'disaster', 'likely', 'how', 'presidential', 'except', 'landmark', 'actor', 'insurance', 'diabetes', 'response', 'have', 'random', 'twice', 'she', 'worry', 'debate', 'two', 'person', 'ahead', 'dance', 'science', 'harassment', 'assignment', 'fare', 'type', 'soap', 'context', 'people', 'comment', 'round', 'never', 'quit', 'whenever', 'these', 'numerous', 'now', 'category', 'resign', 'function', 'till', 'imagine', 'minor', 'again', 'eleven', 'winner', 'rather', 'bounce', 'for', 'task', 'engineering', 'govern', 'game', 'other', 'start', 'love', 'latter', 'abroad', 'factor', 'element', 'major', 'appear', 'suicide', 'switch']\n",
      "Words for word banana, hash 512: ['cheese', 'telephone', 'stone', 'placement', 'blame', 'boring', 'shout', 'firmly', 'reasonable', 'strong', 'lap', 'approve', 'entitle', 'sanction', 'mathematics', 'decent', 'margin', 'qualify', 'deny', 'pitch', 'comprise', 'nobody', 'achieve', 'relatively', 'argue', 'mean', 'confront', 'cake', 'pose', 'negotiate', 'difficulty', 'abortion', 'opportunity', 'sum', 'moral', 'carefully', 'admit', 'frankly', 'ideology', 'execute', 'endorse', 'conceive', 'table', 'pasta', 'afford', 'enjoy', 'relation', 'hardly', 'textbook', 'blessing', 'classroom', 'servant', 'harsh', 'challenge', 'make', 'routinely', 'rhetoric', 'fight', 'odds', 'imply', 'reliable', 'deliver', 'simple', 'warning', 'willingness', 'prepare', 'besides', 'seat', 'engage', 'gently', 'used', 'toss', 'foreign', 'constitute', 'ideological', 'cook', 'verbal', 'instrument', 'introduction', 'hour', 'hire', 'leg', 'fly', 'booth', 'seek', 'promotion', 'poverty', 'cooking', 'payment', 'eager', 'beg', 'champion', 'over', 'lawn', 'instruct', 'agree', 'difficult', 'standard', 'learn', 'merit', 'curve', 'concede', 'hook', 'speak', 'insist', 'earn', 'strategy', 'execution', 'aware', 'issue', 'deserve', 'knock', 'mix', 'identification', 'shorts', 'least', 'fairly', 'support', 'instead', 'drum', 'explanation', 'ten', 'degree', 'black', 'constraint', 'exactly', 'emphasize', 'purpose', 'burden', 'bush', 'nothing', 'religion', 'remaining', 'oppose', 'strongly', 'smart', 'button', 'unable', 'contrast', 'lay', 'grade', 'appropriate', 'subtle', 'bat', 'manage', 'softly', 'walk', 'confident', 'preach', 'direct', 'climb', 'easy', 'gender', 'prescription', 'jump', 'easily', 'luck', 'handful', 'behind', 'convenience', 'reduction', 'argument', 'stiff', 'knife', 'care', 'bean', 'emphasis', 'elaborate', 'portray', 'always', 'belt', 'find', 'punch', 'combination', 'define', 'full-time', 'expensive', 'enough', 'obvious', 'distinction', 'job', 'uniform', 'given', 'whether', 'equally', 'basis', 'signature', 'equal', 'prefer', 'impose', 'ultimate', 'personal', 'claim', 'differ', 'sack', 'sandwich', 'metaphor', 'hesitate', 'meal', 'employment', 'planning', 'domestic', 'fully', 'mere', 'ride', 'preference', 'plate', 'careful', 'opposed', 'convinced', 'oral', 'supportive', 'some', 'openly', 'potato', 'shortage', 'publicly', 'barely', 'generally', 'math', 'tag', 'pleased', 'trainer', 'nevertheless', 'acknowledge', 'render', 'choice', 'background', 'lots', 'ready', 'sprinkle', 'correctly', 'responsibility', 'cream', 'fixed', 'opt', 'occasional', 'mostly', 'accommodate', 'steadily', 'jeans', 'classify', 'happiness', 'usual', 'terrorism', 'attract', 'runner', 'aside', 'unfair', 'rubber', 'logical', 'best', 'limited', 'swallow', 'concrete', 'breakfast', 'identical', 'coordinate', 'calculation', 'scramble', 'compete', 'more', 'admission', 'immediate', 'pretend', 'merely', 'lie', 'apply', 'cover', 'hard', 'need', 'structural', 'physically', 'only', 'uncomfortable', 'equivalent', 'method', 'require', 'bold', 'construct', 'prompt', 'truth', 'weapon', 'health-care', 'flip', 'handle', 'valid', 'surprisingly', 'custom', 'accept', 'shift', 'costly', 'assign', 'chance', 'receive', 'get', 'readily', 'threat', 'sauce', 'try', 'lemon', 'sacrifice', 'double', 'advise', 'dedicate', 'comfortable', 'bread', 'fast', 'less', 'ring', 'lecture', 'useful', 'distinguish', 'sexy', 'lunch', 'disagree', 'egg', 'representation', 'neither', 'logic', 'hold', 'rope', 'win', 'gray', 'recommend', 'funny', 'walking', 'percentage', 'additional', 'basic', 'cooperate', 'flat', 'solid', 'teach', 'suggestion', 'lack', 'typically', 'arrange', 'quite', 'racial', 'complain', 'commit', 'ridiculous', 'plenty', 'grass', 'unemployment', 'brush', 'pray', 'mention', 'coin', 'poor', 'purple', 'undertake', 'consistently', 'discuss', 'settle', 'introduce', 'perceived', 'recipe', 'intelligent', 'serve', 'willing', 'flexible', 'enact', 'stand', 'extra', 'reluctant', 'accomplish', 'focus', 'pair', 'significant', 'translate', 'concentrate', 'propose', 'politically', 'rabbit', 'pay', 'barn', 'rational', 'dumb', 'couch', 'dough', 'comply', 'impossible', 'rating', 'tuck', 'sustainable', 'explain', 'invent', 'slip', 'favor', 'sharp', 'soft', 'intend', 'phone', 'ought', 'towel', 'attribute', 'specific', 'tactic', 'solve', 'employ', 'impress', 'interpret', 'accessible', 'transportation', 'answer', 'seldom', 'measure', 'lucky', 'nor', 'weed', 'formal', 'describe', 'steady', 'personally', 'accent', 'position', 'someone', 'banana', 'necessarily', 'pant', 'necessity', 'obviously', 'sex', 'lightly', 'actually', 'sufficient', 'wheelchair', 'score', 'error', 'lesson', 'actively', 'pepper', 'wage', 'aggressive', 'hug', 'pastor', 'suitable', 'straw', 'quick', 'nonetheless', 'enroll', 'practical', 'able', 'charge', 'shirt', 'devote', 'stance', 'articulate', 'ideal', 'unique', 'justify', 'abandon', 'very', 'item', 'confuse', 'hence', 'kneel', 'old-fashioned', 'teaspoon', 'regard', 'slave', 'hers', 'them', 'slope', 'permission', 'virtue', 'colorful', 'cloth', 'weight', 'honestly', 'discrimination', 'stable', 'pencil', 'explicit', 'properly', 'obtain', 'adopt', 'use', 'communicate', 'sure', 'okay', 'absolute', 'pursue', 'nail', 'tough', 'lot', 'citizenship', 'difference', 'substantial', 'closely', 'church', 'shoot', 'hang', 'accuse', 'leap', 'objection', 'automatic', 'option', 'efficient', 'realize', 'mass', 'definition', 'forbid', 'tea', 'excuse', 'adjustment', 'spin', 'better']\n",
      "Words for word grape, hash 8226: ['camp', 'fragile', 'jar', 'tank', 'fragment', 'expose', 'zone', 'database', 'central', 'branch', 'sculpture', 'user', 'month', 'frozen', 'ice', 'thigh', 'eastern', 'spring', 'laboratory', 'imagination', 'horn', 'secret', 'valley', 'gallery', 'banking', 'troubled', 'winter', 'town', 'storage', 'vast', 'web', 'nerve', 'rescue', 'existing', 'area', 'soil', 'hole', 'photographer', 'inside', 'near', 'vessel', 'portion', 'astronomer', 'sea', 'grape', 'surrounding', 'auction', 'survey', 'discovery', 'monitor', 'lightning', 'contact', 'somewhere', 'outlet', 'heritage', 'the', 'virus', 'whale', 'expedition', 'tiny', 'notebook', 'ago', 'acquisition', 'brain', 'northwest', 'treasure', 'headquarters', 'summer', 'traveler', 'activity', 'from', 'outside', 'bank', 'library', 'bid', 'northeast', 'save', 'missing', 'facility', 'museum', 'client', 'domain', 'northern', 'software', 'beneath', 'lab', 'spy', 'port', 'north', 'lake', 'cabin', 'artifact', 'downtown', 'curtain', 'art', 'nearby', 'muscle', 'stimulate', 'management', 'bay', 'trading', 'alley', 'shore', 'center', 'hormone', 'wildlife', 'ancient', 'owner', 'coastal', 'chunk', 'exploration', 'collection', 'festival', 'shooting', 'exhibition', 'shelf', 'tumor', 'search', 'gathering', 'around', 'desert', 'body', 'pond']\n",
      "Words for word fruit, hash 8704: ['tree', 'advantage', 'hay', 'soften', 'developing', 'clue', 'jungle', 'economically', 'summary', 'donate', 'shade', 'slightly', 'hostage', 'milk', 'utilize', 'debt', 'partly', 'vegetable', 'cash', 'timber', 'rose', 'currency', 'available', 'convey', 'beside', 'motive', 'sharply', 'attractive', \"o'clock\", 'platform', 'flying', 'light', 'increasing', 'favorable', 'thanks', 'airline', 'enormous', 'photograph', 'plot', 'mixed', 'bright', 'raise', 'pan', 'leaf', 'calculate', 'spray', 'cheap', 'incorporate', 'truck', 'thin', 'biological', 'witness', 'coverage', 'drawing', 'bicycle', 'bullet', 'hazard', 'solely', 'bed', 'factory', 'dense', 'gym', 'buy', 'carrot', 'chocolate', 'processor', 'atop', 'add', 'tablespoon', 'mixture', 'canvas', 'cargo', 'instant', 'construction', 'confession', 'grow', 'economics', 'tent', 'collect', 'lamp', 'driver', 'cite', 'wire', 'precisely', 'premium', 'mainly', 'monthly', 'plastic', 'model', 'large', 'commodity', 'dependent', 'attach', 'assemble', 'spend', 'license', 'nut', 'rely', 'elevator', 'brick', 'integrate', 'exclusively', 'economic', 'wrap', 'heavily', 'raw', 'flight', 'material', 'cliff', 'flour', 'privately', 'initially', 'shrug', 'similarity', 'steep', 'bomb', 'theoretical', 'powder', 'self-esteem', 'paint', 'tall', 'frequency', 'airport', 'reading', 'onion', 'rent', 'aluminum', 'forest', 'confirm', 'alone', 'rub', 'housing', 'pine', 'short-term', 'gasoline', 'production', 'coffee', 'screw', 'bag', 'mortality', 'airplane', 'increase', 'income', 'integrated', 'tax', 'wagon', 'borrow', 'capacity', 'paper', 'supplier', 'exclusive', 'desk', 'oil', 'color', 'offer', 'chew', 'passenger', 'commercial', 'tray', 'optimistic', 'print', 'ingredient', 'thick', 'food', 'combine', 'cable', 'spread', 'spoon', 'press', 'homework', 'frame', 'invest', 'tobacco', 'correlation', 'wheel', 'statistics', 'derive', 'compelling', 'steel', 'bonus', 'weigh', 'handsome', 'blend', 'filter', 'safely', 'import', 'exploit', 'offering', 'consume', 'parking', 'oak', 'vendor', 'description', 'rental', 'beer', 'ladder', 'beam', 'fruit', 'transmit', 'peanut', 'contribute', 'wooden', 'ha', 'report', 'identify', 'sell', 'yield', 'drop', 'candle', 'spot', 'while', 'greatly', 'sweater', 'convert', 'with', 'inflation', 'substantially', 'produce', 'wood', 'cling', 'athletic', 'smoke', 'butter', 'load', 'cotton', 'log', 'stack', 'cigarette', 'cope', 'medium', 'implication', 'reduce', 'eat', 'sugar', 'stove', 'testimony', 'shove', 'manipulate', 'draw', 'transmission', 'consumption', 'plane', 'somewhat', 'instructional', 'infant', 'slight', 'fiber', 'tape', 'garlic', 'corn', 'surprising', 'input', 'fuel', 'squeeze', 'sheet', 'minimize', 'eating']\n",
      "Words for word cheese, hash 512: ['cheese', 'telephone', 'stone', 'placement', 'blame', 'boring', 'shout', 'firmly', 'reasonable', 'strong', 'lap', 'approve', 'entitle', 'sanction', 'mathematics', 'decent', 'margin', 'qualify', 'deny', 'pitch', 'comprise', 'nobody', 'achieve', 'relatively', 'argue', 'mean', 'confront', 'cake', 'pose', 'negotiate', 'difficulty', 'abortion', 'opportunity', 'sum', 'moral', 'carefully', 'admit', 'frankly', 'ideology', 'execute', 'endorse', 'conceive', 'table', 'pasta', 'afford', 'enjoy', 'relation', 'hardly', 'textbook', 'blessing', 'classroom', 'servant', 'harsh', 'challenge', 'make', 'routinely', 'rhetoric', 'fight', 'odds', 'imply', 'reliable', 'deliver', 'simple', 'warning', 'willingness', 'prepare', 'besides', 'seat', 'engage', 'gently', 'used', 'toss', 'foreign', 'constitute', 'ideological', 'cook', 'verbal', 'instrument', 'introduction', 'hour', 'hire', 'leg', 'fly', 'booth', 'seek', 'promotion', 'poverty', 'cooking', 'payment', 'eager', 'beg', 'champion', 'over', 'lawn', 'instruct', 'agree', 'difficult', 'standard', 'learn', 'merit', 'curve', 'concede', 'hook', 'speak', 'insist', 'earn', 'strategy', 'execution', 'aware', 'issue', 'deserve', 'knock', 'mix', 'identification', 'shorts', 'least', 'fairly', 'support', 'instead', 'drum', 'explanation', 'ten', 'degree', 'black', 'constraint', 'exactly', 'emphasize', 'purpose', 'burden', 'bush', 'nothing', 'religion', 'remaining', 'oppose', 'strongly', 'smart', 'button', 'unable', 'contrast', 'lay', 'grade', 'appropriate', 'subtle', 'bat', 'manage', 'softly', 'walk', 'confident', 'preach', 'direct', 'climb', 'easy', 'gender', 'prescription', 'jump', 'easily', 'luck', 'handful', 'behind', 'convenience', 'reduction', 'argument', 'stiff', 'knife', 'care', 'bean', 'emphasis', 'elaborate', 'portray', 'always', 'belt', 'find', 'punch', 'combination', 'define', 'full-time', 'expensive', 'enough', 'obvious', 'distinction', 'job', 'uniform', 'given', 'whether', 'equally', 'basis', 'signature', 'equal', 'prefer', 'impose', 'ultimate', 'personal', 'claim', 'differ', 'sack', 'sandwich', 'metaphor', 'hesitate', 'meal', 'employment', 'planning', 'domestic', 'fully', 'mere', 'ride', 'preference', 'plate', 'careful', 'opposed', 'convinced', 'oral', 'supportive', 'some', 'openly', 'potato', 'shortage', 'publicly', 'barely', 'generally', 'math', 'tag', 'pleased', 'trainer', 'nevertheless', 'acknowledge', 'render', 'choice', 'background', 'lots', 'ready', 'sprinkle', 'correctly', 'responsibility', 'cream', 'fixed', 'opt', 'occasional', 'mostly', 'accommodate', 'steadily', 'jeans', 'classify', 'happiness', 'usual', 'terrorism', 'attract', 'runner', 'aside', 'unfair', 'rubber', 'logical', 'best', 'limited', 'swallow', 'concrete', 'breakfast', 'identical', 'coordinate', 'calculation', 'scramble', 'compete', 'more', 'admission', 'immediate', 'pretend', 'merely', 'lie', 'apply', 'cover', 'hard', 'need', 'structural', 'physically', 'only', 'uncomfortable', 'equivalent', 'method', 'require', 'bold', 'construct', 'prompt', 'truth', 'weapon', 'health-care', 'flip', 'handle', 'valid', 'surprisingly', 'custom', 'accept', 'shift', 'costly', 'assign', 'chance', 'receive', 'get', 'readily', 'threat', 'sauce', 'try', 'lemon', 'sacrifice', 'double', 'advise', 'dedicate', 'comfortable', 'bread', 'fast', 'less', 'ring', 'lecture', 'useful', 'distinguish', 'sexy', 'lunch', 'disagree', 'egg', 'representation', 'neither', 'logic', 'hold', 'rope', 'win', 'gray', 'recommend', 'funny', 'walking', 'percentage', 'additional', 'basic', 'cooperate', 'flat', 'solid', 'teach', 'suggestion', 'lack', 'typically', 'arrange', 'quite', 'racial', 'complain', 'commit', 'ridiculous', 'plenty', 'grass', 'unemployment', 'brush', 'pray', 'mention', 'coin', 'poor', 'purple', 'undertake', 'consistently', 'discuss', 'settle', 'introduce', 'perceived', 'recipe', 'intelligent', 'serve', 'willing', 'flexible', 'enact', 'stand', 'extra', 'reluctant', 'accomplish', 'focus', 'pair', 'significant', 'translate', 'concentrate', 'propose', 'politically', 'rabbit', 'pay', 'barn', 'rational', 'dumb', 'couch', 'dough', 'comply', 'impossible', 'rating', 'tuck', 'sustainable', 'explain', 'invent', 'slip', 'favor', 'sharp', 'soft', 'intend', 'phone', 'ought', 'towel', 'attribute', 'specific', 'tactic', 'solve', 'employ', 'impress', 'interpret', 'accessible', 'transportation', 'answer', 'seldom', 'measure', 'lucky', 'nor', 'weed', 'formal', 'describe', 'steady', 'personally', 'accent', 'position', 'someone', 'banana', 'necessarily', 'pant', 'necessity', 'obviously', 'sex', 'lightly', 'actually', 'sufficient', 'wheelchair', 'score', 'error', 'lesson', 'actively', 'pepper', 'wage', 'aggressive', 'hug', 'pastor', 'suitable', 'straw', 'quick', 'nonetheless', 'enroll', 'practical', 'able', 'charge', 'shirt', 'devote', 'stance', 'articulate', 'ideal', 'unique', 'justify', 'abandon', 'very', 'item', 'confuse', 'hence', 'kneel', 'old-fashioned', 'teaspoon', 'regard', 'slave', 'hers', 'them', 'slope', 'permission', 'virtue', 'colorful', 'cloth', 'weight', 'honestly', 'discrimination', 'stable', 'pencil', 'explicit', 'properly', 'obtain', 'adopt', 'use', 'communicate', 'sure', 'okay', 'absolute', 'pursue', 'nail', 'tough', 'lot', 'citizenship', 'difference', 'substantial', 'closely', 'church', 'shoot', 'hang', 'accuse', 'leap', 'objection', 'automatic', 'option', 'efficient', 'realize', 'mass', 'definition', 'forbid', 'tea', 'excuse', 'adjustment', 'spin', 'better']\n",
      "Words for word plane, hash 8704: ['tree', 'advantage', 'hay', 'soften', 'developing', 'clue', 'jungle', 'economically', 'summary', 'donate', 'shade', 'slightly', 'hostage', 'milk', 'utilize', 'debt', 'partly', 'vegetable', 'cash', 'timber', 'rose', 'currency', 'available', 'convey', 'beside', 'motive', 'sharply', 'attractive', \"o'clock\", 'platform', 'flying', 'light', 'increasing', 'favorable', 'thanks', 'airline', 'enormous', 'photograph', 'plot', 'mixed', 'bright', 'raise', 'pan', 'leaf', 'calculate', 'spray', 'cheap', 'incorporate', 'truck', 'thin', 'biological', 'witness', 'coverage', 'drawing', 'bicycle', 'bullet', 'hazard', 'solely', 'bed', 'factory', 'dense', 'gym', 'buy', 'carrot', 'chocolate', 'processor', 'atop', 'add', 'tablespoon', 'mixture', 'canvas', 'cargo', 'instant', 'construction', 'confession', 'grow', 'economics', 'tent', 'collect', 'lamp', 'driver', 'cite', 'wire', 'precisely', 'premium', 'mainly', 'monthly', 'plastic', 'model', 'large', 'commodity', 'dependent', 'attach', 'assemble', 'spend', 'license', 'nut', 'rely', 'elevator', 'brick', 'integrate', 'exclusively', 'economic', 'wrap', 'heavily', 'raw', 'flight', 'material', 'cliff', 'flour', 'privately', 'initially', 'shrug', 'similarity', 'steep', 'bomb', 'theoretical', 'powder', 'self-esteem', 'paint', 'tall', 'frequency', 'airport', 'reading', 'onion', 'rent', 'aluminum', 'forest', 'confirm', 'alone', 'rub', 'housing', 'pine', 'short-term', 'gasoline', 'production', 'coffee', 'screw', 'bag', 'mortality', 'airplane', 'increase', 'income', 'integrated', 'tax', 'wagon', 'borrow', 'capacity', 'paper', 'supplier', 'exclusive', 'desk', 'oil', 'color', 'offer', 'chew', 'passenger', 'commercial', 'tray', 'optimistic', 'print', 'ingredient', 'thick', 'food', 'combine', 'cable', 'spread', 'spoon', 'press', 'homework', 'frame', 'invest', 'tobacco', 'correlation', 'wheel', 'statistics', 'derive', 'compelling', 'steel', 'bonus', 'weigh', 'handsome', 'blend', 'filter', 'safely', 'import', 'exploit', 'offering', 'consume', 'parking', 'oak', 'vendor', 'description', 'rental', 'beer', 'ladder', 'beam', 'fruit', 'transmit', 'peanut', 'contribute', 'wooden', 'ha', 'report', 'identify', 'sell', 'yield', 'drop', 'candle', 'spot', 'while', 'greatly', 'sweater', 'convert', 'with', 'inflation', 'substantially', 'produce', 'wood', 'cling', 'athletic', 'smoke', 'butter', 'load', 'cotton', 'log', 'stack', 'cigarette', 'cope', 'medium', 'implication', 'reduce', 'eat', 'sugar', 'stove', 'testimony', 'shove', 'manipulate', 'draw', 'transmission', 'consumption', 'plane', 'somewhat', 'instructional', 'infant', 'slight', 'fiber', 'tape', 'garlic', 'corn', 'surprising', 'input', 'fuel', 'squeeze', 'sheet', 'minimize', 'eating']\n",
      "Words for word train, hash 8738: ['documentary', 'agent', 'tube', 'cholesterol', 'shallow', 'tunnel', 'deadly', 'pen', 'water', 'hockey', 'explore', 'arrest', 'development', 'debris', 'organic', 'anonymous', 'soak', 'potentially', 'writer', 'spark', 'board', 'forum', 'along', 'stream', 'van', 'nonprofit', 'meeting', 'regional', 'anniversary', 'rip', 'peer', 'itself', 'credit', 'investment', 'teenage', 'university', 'driveway', 'defender', 'molecule', 'concentration', 'bug', 'suspicious', 'column', 'massive', 'visit', 'connection', 'wealthy', 'waste', 'childhood', 'apparently', 'acid', 'train', 'diet', 'republic', 'toxic', 'pump', 'conclude', 'protein', 'monument', 'suck', 'suburb', 'suburban', 'pioneer', 'originally', 'stomach', 'dust', 'oh', 'travel', 'newly', 'mysterious', 'flood', 'apart', 'map', 'via', 'accident', 'diary', 'pollution', 'closet', 'recently', 'section', 'researcher', 'examine', 'employee', 'rat', 'venture', 'engineer', 'daughter', 'birth', 'reserve', 'between', 'regulator', 'draft', 'environment', 'dead', 'born', 'balloon', 'workshop', 'campus', 'account', 'boat', 'article', 'e-mail', 'week', 'edit', 'off', 'newspaper', 'gene', 'channel', 'genetic', 'aunt', 'alter', 'mail', 'lock', 'journal', 'interview', 'journalist', 'connect', 'girlfriend', 'through', 'research', 'vacation', 'site', 'businessman', 'found', 'forward', 'station', 'jazz', 'atmosphere', 'transfer', 'ownership', 'down', 'gut', 'trip', 'post', 'son', 'railroad', 'author', 'park', 'fluid', 'disabled', 'source', 'under', 'spill', 'scientist', 'left', 'project', 'ill', 'study', 'questionnaire', 'dump', 'refugee', 'relieve', 'severely', 'sigh', 'dam', 'neighboring', 'exchange', 'loan', 'federal', 'page', 'traffic', 'economist', 'dig', 'killing', 'transaction', 'shut', 'prize', 'old', 'nutrient', 'cord', 'envelope', 'long-term', 'terribly', 'editor', 'publication', 'managing', 'enterprise', 'fund', 'foundation', 'red', 'bridge', 'entrepreneur', 'conference', 'founder', 'river', 'developmental', 'deal', 'investor', 'breathe', 'daily']\n",
      "Words for word universe, hash 8224: ['bite', 'studio', 'beach', 'scan', 'already', 'hotel', 'smell', 'revelation', 'exposure', 'fleet', 'weather', 'damage', 'late', 'window', 'destruction', 'bulb', 'tropical', 'globe', 'their', 'living', 'deck', 'darkness', 'display', 'arrival', 'roof', 'financial', 'tourism', 'original', 'outfit', 'ocean', 'below', 'sunlight', 'bubble', 'storm', 'weaken', 'mirror', 'powerful', 'likelihood', 'building', 'arena', 'perceive', 'birthday', 'glass', 'descend', 'diminish', 'universe', 'crystal', 'porch', 'lion', 'emerging', 'shell', 'vs', 'attack', 'mall', 'earth', 'portrait', 'basement', 'consumer', 'nest', 'crew', 'fate', 'air', 'screen', 'assess', 'apple', 'cell', 'grandparent', 'convention', 'picture', 'palace', 'shark', 'operating', 'organism', 'electronic', 'elsewhere', 'earnings', 'estate', 'well-being', 'warehouse', 'ah', 'annual', 'origin', 'since', 'lobby', 'hurricane', 'immune', 'bedroom', 'retailer', 'plunge', 'drawer', 'holiday', 'landscape', 'merchant', 'city', 'overwhelm', 'earthquake', 'compare', 'early', 'visitor', 'computer', 'intensity', 'reflect', 'launch', 'creature', 'breeze', 'entertainment', 'weakness', 'terrorist', 'recovery', 'distant', 'unit', 'exhibit', 'syndrome', 'galaxy', 'market', 'temperature', 'ship', 'shopping', 'world', 'capital', 'decline', 'magnitude', 'recover', 'sale', 'impact', 'marketplace', 'rise', 'casino', 'photo', 'cruise', 'property', 'midnight', 'resemble', 'developer', 'fall', 'sunny', 'label', 'visual', 'its', 'video', 'hint', 'viewer', 'marine', 'mansion', 'radiation', 'year', 'recording', 'lower', 'afternoon', 'initial', 'island', 'inventory', 'restaurant', 'collapse', 'retail', 'sentiment', 'electronics', 'boom', 'expected', 'pack', 'room', 'bombing', 'coast', 'dawn', 'age', 'cue', 'sound', 'giant', 'await', 'catalog', 'recession', 'advance', 'disk', 'builder', 'backyard', 'planet', 'economy', 'flesh', 'sensation', 'solar', 'external', 'store', 'delight', 'wind', 'monster', 'dealer', 'cage', 'growth', 'climate', 'sail', 'quarter', 'ecosystem', 'inherit', 'battery', 'hi', 'sun', 'excitement', 'horizon', 'twentieth', 'apartment', 'industrial', 'gather', 'wall', 'arrive', 'theater']\n",
      "Words for word love, hash 544: ['laughter', 'respectively', 'any', 'personality', 'drunk', 'different', 'first', 'him', 'mate', 'companion', 'bias', 'particular', 'many', 'similarly', 'example', 'invisible', 'rock', 'relate', 'physical', 'quickly', 'result', 'poll', 'generation', 'judge', 'proclaim', 'inevitable', 'number', 'sue', 'look', 'myself', 'player', 'inmate', 'hero', 'also', 'secular', 'reply', 'compose', 'proceed', 'nightmare', 'pause', 'outcome', 'together', 'condition', 'outsider', 'defeat', 'sit', 'recall', 'feel', 'write', 'replace', 'undergo', 'inevitably', 'dancing', 'move', 'being', 'still', 'horrible', 'soup', 'roll', 'competitive', 'interfere', 'widely', 'spouse', 'prime', 'notion', 'something', 'disease', 'what', 'own', 'jail', 'flower', 'anyway', 'face', 'acceptance', 'as', 'prison', 'encounter', 'dirty', 'prevail', 'ambassador', 'without', 'bucket', 'certainly', 'weird', 'single', 'tone', 'danger', 'remember', 'benefit', 'variation', 'see', 'ourselves', 'trial', 'various', 'therefore', 'anymore', 'each', 'day', 'confusion', 'prisoner', 'vacuum', 'often', 'come', 'well-known', 'exit', 'retire', 'problem', 'lawsuit', 'disorder', 'tell', 'tendency', 'bond', 'psychological', 'crime', 'suffer', 'angel', 'passion', 'street', 'against', 'violent', 'among', 'disappointment', 'satisfaction', 'characterize', 'reverse', 'sock', 'known', 'subject', 'kiss', 'bishop', 'because', 'role', 'conscious', 'fault', 'voting', 'either', 'forget', 'general', 'bench', 'guess', 'kill', 'radio', 'smile', 'friendly', 'application', 'dinner', 'opinion', 'criticism', 'simply', 'immediately', 'let', 'country', 'die', 'same', 'else', 'afraid', 'bowl', 'parade', 'happen', 'afterward', 'recent', 'enter', 'favorite', 'unless', 'respondent', 'respond', 'simultaneously', 'form', 'regret', 'set', 'norm', 'sing', 'guilty', 'opposite', 'war', 'variety', 'follow', 'intention', 'frustration', 'shine', 'public', 'most', 'big', 'question', 'contest', 'duty', 'rage', 'but', 'almost', 'please', 'refuse', 'awful', 'similar', 'desire', 'somebody', 'phenomenon', 'romantic', 'appearance', 'few', 'attorney', 'twenty', 'welcome', 'romance', 'murder', 'distinct', 'and/or', 'detective', 'expect', 'attend', 'profile', 'cry', 'scared', 'whereas', 'ask', 'consider', 'well', 'way', 'government', 'fail', 'eligible', 'failure', 'alongside', 'common', 'emotional', 'though', 'desperate', 'idea', 'drag', 'dilemma', 'struggle', 'interrupt', 'especially', 'championship', 'reality', 'forgive', 'fourth', 'popular', 'series', 'universal', 'fortunately', 'professional', 'ballot', 'know', 'transformation', 'consist', 'rival', 'watch', 'and', 'order', 'everybody', 'wet', 'stuff', 'pick', 'primary', 'normally', 'sin', 'life', 'become', 'wait', 'replacement', 'status', 'armed', 'ticket', 'invite', 'elect', 'gradually', 'surprise', 'loud', 'occasion', 'warm', 'familiar', 'chaos', 'surprised', 'submit', 'criminal', 'gay', 'swear', 'however', 'will', 'consciousness', 'indeed', 'motivate', 'album', 'drink', 'diverse', 'adult', 'odd', 'bitter', 'unusual', 'consequently', 'would', 'cast', 'orange', 'celebrate', 'manner', 'progressive', 'socially', 'labor', 'ignore', 'exist', 'everywhere', 'dominant', 'following', 'bit', 'occur', 'health', 'lover', 'foreigner', 'participant', 'separate', 'widespread', 'regularly', 'sudden', 'reminder', 'coup', 'turn', 'just', 'represent', 'consideration', 'seem', 'character', 'avoid', 'twist', 'momentum', 'circumstance', 'cabinet', 'altogether', 'mayor', 'freely', 'there', 'fit', 'painful', 'nation', 'pillow', 'leave', 'feminist', 'society', 'action', 'constantly', 'slavery', 'such', 'spite', 'recognize', 'lately', 'beat', 'chronic', 'chase', 'sexual', 'rank', 'yes', 'governor', 'chair', 'then', 'praise', 'unfortunately', 'hear', 'nominee', 'exception', 'composition', 'slow', 're', 'happily', 'folk', 'multiple', 'evolution', 'others', 'laugh', 'cup', 'liability', 'partner', 'another', 'fiction', 'tonight', 'scare', 'like', 'subsequent', 'gentleman', 'show', 'social', 'brave', 'urge', 'match', 'thoroughly', 'yet', 'workplace', 'instance', 'register', 'consequence', 'strain', 'police', 'stage', 'object', 'leading', 'pet', 'practitioner', 'fantastic', 'rapid', 'anger', 'dad', 'likewise', 'that', 'stranger', 'briefly', 'joy', 'moderate', 'citizen', 'tragic', 'wash', 'otherwise', 'stress', 'racism', 'time', 'frown', 'possible', 'count', 'entity', 'ugly', 'intent', 'boil', 'experienced', 'innocent', 'boss', 'cheer', 'man', 'her', 'place', 'serious', 'riot', 'wave', 'everyone', 'sorry', 'think', 'alternative', 'symbol', 'voter', 'not', 'row', 'call', 'say', 'dismiss', 'vulnerable', 'direction', 'take', 'civil', 'super', 'hurry', 'embarrassed', 'urban', 'serving', 'unlikely', 'president', 'join', 'crowd', 'everyday', 'distract', 'inspire', 'appoint', 'unhappy', 'obligation', 'several', 'final', 'abstract', 'constant', 'thinking', 'severe', 'conscience', 'surely', 'resist', 'shall', 'usually', 'opponent', 'forever', 'contemplate', 'ordinary', 'bride', 'tournament', 'reflection', 'vote', 'dramatic', 'scenario', 'civic', 'equation', 'thought', 'hurt', 'exciting', 'fact', 'punishment', 'disappointed', 'today', 'squad', 'evident', 'despite', 'mode', 'triumph', 'feeling', 'refer', 'one', 'fire', 'maybe', 'thus', 'prospect', 'dynamic', 'functional', 'couple', 'king', 'second', 'dream', 'grocery', 'initiate', 'cop', 'conviction', 'occasionally', 'twelve', 'thank', 'swell', 'opposition', 'silly', 'coming', 'species', 'dissolve', 'why', 'appeal', 'rare', 'puzzle', 'theme', 'should', 'division', 'wish', 'split', 'overwhelming', 'unite', 'trouble', 'stupid', 'brutal', 'condemn', 'continue', 'decide', 'cruel', 'once', 'strike', 'could', 'spit', 'persist', 'neutral', 'everything', 'begin', 'motion', 'ultimately', 'topic', 'politics', 'although', 'themselves', 'want', 'decision', 'concept', 'selection', 'violence', 'guest', 'competition', 'profession', 'doubt', 'suppose', 'change', 'fantasy', 'irony', 'election', 'eventually', 'title', 'yours', 'tune', 'endure', 'book', 'third', 'sympathy', 'singer', 'justice', 'differently', 'happy', 'discourse', 'might', 'event', 'juror', 'sometimes', 'peel', 'lose', 'notice', 'interesting', 'class', 'remain', 'suffering', 'mistake', 'evolve', 'mystery', 'fame', 'regular', 'rape', 'marry', 'embrace', 'play', 'himself', 'perform', 'particularly', 'candidate', 'reason', 'disability', 'race', 'trauma', 'operator', 'apologize', 'can', 'furthermore', 'both', 'departure', 'thing', 'moment', 'strange', 'every', 'ego', 'all', 'increasingly', 'victory', 'advocate', 'retirement', 'voice', 'participate', 'even', 'possibility', 'quietly', 'situation', 'hot', 'yell', 'extreme', 'court', 'provoke', 'certain', 'arise', 'power', 'symptom', 'continued', 'seemingly', 'treat', 'tend', 'headache', 'circuit', 'angry', 'performer', 'hate', 'open', 'dare', 'silent', 'who', 'theory', 'panic', 'cause', 'succeed', 'conclusion', 'matter', 'genre', 'future', 'too', 'cancel', 'announce', 'anxious', 'drama', 'side', 'terms', 'impulse', 'read', 'comedy', 'fill', 'fierce', 'policeman', 'frequently', 'bother', 'cart', 'out', 'terrible', 'courtroom', 'accelerate', 'meet', 'inform', 'rolling', 'wife', 'rain', 'perhaps', 'empty', 'swing', 'pressure', 'skip', 'declare', 'nomination', 'pride', 'episode', 'comparison', 'tired', 'intense', 'upset', 'clerk', 'suddenly', 'plea', 'talk', 'choose', 'flag', 'plead', 'behave', 'characteristic', 'sense', 'reject', 'convict', 'depart', 'they', 'shame', 'manager', 'mental', 'starter', 'operate', 'divorce', 'listen', 'hell', 'understand', 'disaster', 'likely', 'how', 'presidential', 'except', 'landmark', 'actor', 'insurance', 'diabetes', 'response', 'have', 'random', 'twice', 'she', 'worry', 'debate', 'two', 'person', 'ahead', 'dance', 'science', 'harassment', 'assignment', 'fare', 'type', 'soap', 'context', 'people', 'comment', 'round', 'never', 'quit', 'whenever', 'these', 'numerous', 'now', 'category', 'resign', 'function', 'till', 'imagine', 'minor', 'again', 'eleven', 'winner', 'rather', 'bounce', 'for', 'task', 'engineering', 'govern', 'game', 'other', 'start', 'love', 'latter', 'abroad', 'factor', 'element', 'major', 'appear', 'suicide', 'switch']\n",
      "Words for word anger, hash 544: ['laughter', 'respectively', 'any', 'personality', 'drunk', 'different', 'first', 'him', 'mate', 'companion', 'bias', 'particular', 'many', 'similarly', 'example', 'invisible', 'rock', 'relate', 'physical', 'quickly', 'result', 'poll', 'generation', 'judge', 'proclaim', 'inevitable', 'number', 'sue', 'look', 'myself', 'player', 'inmate', 'hero', 'also', 'secular', 'reply', 'compose', 'proceed', 'nightmare', 'pause', 'outcome', 'together', 'condition', 'outsider', 'defeat', 'sit', 'recall', 'feel', 'write', 'replace', 'undergo', 'inevitably', 'dancing', 'move', 'being', 'still', 'horrible', 'soup', 'roll', 'competitive', 'interfere', 'widely', 'spouse', 'prime', 'notion', 'something', 'disease', 'what', 'own', 'jail', 'flower', 'anyway', 'face', 'acceptance', 'as', 'prison', 'encounter', 'dirty', 'prevail', 'ambassador', 'without', 'bucket', 'certainly', 'weird', 'single', 'tone', 'danger', 'remember', 'benefit', 'variation', 'see', 'ourselves', 'trial', 'various', 'therefore', 'anymore', 'each', 'day', 'confusion', 'prisoner', 'vacuum', 'often', 'come', 'well-known', 'exit', 'retire', 'problem', 'lawsuit', 'disorder', 'tell', 'tendency', 'bond', 'psychological', 'crime', 'suffer', 'angel', 'passion', 'street', 'against', 'violent', 'among', 'disappointment', 'satisfaction', 'characterize', 'reverse', 'sock', 'known', 'subject', 'kiss', 'bishop', 'because', 'role', 'conscious', 'fault', 'voting', 'either', 'forget', 'general', 'bench', 'guess', 'kill', 'radio', 'smile', 'friendly', 'application', 'dinner', 'opinion', 'criticism', 'simply', 'immediately', 'let', 'country', 'die', 'same', 'else', 'afraid', 'bowl', 'parade', 'happen', 'afterward', 'recent', 'enter', 'favorite', 'unless', 'respondent', 'respond', 'simultaneously', 'form', 'regret', 'set', 'norm', 'sing', 'guilty', 'opposite', 'war', 'variety', 'follow', 'intention', 'frustration', 'shine', 'public', 'most', 'big', 'question', 'contest', 'duty', 'rage', 'but', 'almost', 'please', 'refuse', 'awful', 'similar', 'desire', 'somebody', 'phenomenon', 'romantic', 'appearance', 'few', 'attorney', 'twenty', 'welcome', 'romance', 'murder', 'distinct', 'and/or', 'detective', 'expect', 'attend', 'profile', 'cry', 'scared', 'whereas', 'ask', 'consider', 'well', 'way', 'government', 'fail', 'eligible', 'failure', 'alongside', 'common', 'emotional', 'though', 'desperate', 'idea', 'drag', 'dilemma', 'struggle', 'interrupt', 'especially', 'championship', 'reality', 'forgive', 'fourth', 'popular', 'series', 'universal', 'fortunately', 'professional', 'ballot', 'know', 'transformation', 'consist', 'rival', 'watch', 'and', 'order', 'everybody', 'wet', 'stuff', 'pick', 'primary', 'normally', 'sin', 'life', 'become', 'wait', 'replacement', 'status', 'armed', 'ticket', 'invite', 'elect', 'gradually', 'surprise', 'loud', 'occasion', 'warm', 'familiar', 'chaos', 'surprised', 'submit', 'criminal', 'gay', 'swear', 'however', 'will', 'consciousness', 'indeed', 'motivate', 'album', 'drink', 'diverse', 'adult', 'odd', 'bitter', 'unusual', 'consequently', 'would', 'cast', 'orange', 'celebrate', 'manner', 'progressive', 'socially', 'labor', 'ignore', 'exist', 'everywhere', 'dominant', 'following', 'bit', 'occur', 'health', 'lover', 'foreigner', 'participant', 'separate', 'widespread', 'regularly', 'sudden', 'reminder', 'coup', 'turn', 'just', 'represent', 'consideration', 'seem', 'character', 'avoid', 'twist', 'momentum', 'circumstance', 'cabinet', 'altogether', 'mayor', 'freely', 'there', 'fit', 'painful', 'nation', 'pillow', 'leave', 'feminist', 'society', 'action', 'constantly', 'slavery', 'such', 'spite', 'recognize', 'lately', 'beat', 'chronic', 'chase', 'sexual', 'rank', 'yes', 'governor', 'chair', 'then', 'praise', 'unfortunately', 'hear', 'nominee', 'exception', 'composition', 'slow', 're', 'happily', 'folk', 'multiple', 'evolution', 'others', 'laugh', 'cup', 'liability', 'partner', 'another', 'fiction', 'tonight', 'scare', 'like', 'subsequent', 'gentleman', 'show', 'social', 'brave', 'urge', 'match', 'thoroughly', 'yet', 'workplace', 'instance', 'register', 'consequence', 'strain', 'police', 'stage', 'object', 'leading', 'pet', 'practitioner', 'fantastic', 'rapid', 'anger', 'dad', 'likewise', 'that', 'stranger', 'briefly', 'joy', 'moderate', 'citizen', 'tragic', 'wash', 'otherwise', 'stress', 'racism', 'time', 'frown', 'possible', 'count', 'entity', 'ugly', 'intent', 'boil', 'experienced', 'innocent', 'boss', 'cheer', 'man', 'her', 'place', 'serious', 'riot', 'wave', 'everyone', 'sorry', 'think', 'alternative', 'symbol', 'voter', 'not', 'row', 'call', 'say', 'dismiss', 'vulnerable', 'direction', 'take', 'civil', 'super', 'hurry', 'embarrassed', 'urban', 'serving', 'unlikely', 'president', 'join', 'crowd', 'everyday', 'distract', 'inspire', 'appoint', 'unhappy', 'obligation', 'several', 'final', 'abstract', 'constant', 'thinking', 'severe', 'conscience', 'surely', 'resist', 'shall', 'usually', 'opponent', 'forever', 'contemplate', 'ordinary', 'bride', 'tournament', 'reflection', 'vote', 'dramatic', 'scenario', 'civic', 'equation', 'thought', 'hurt', 'exciting', 'fact', 'punishment', 'disappointed', 'today', 'squad', 'evident', 'despite', 'mode', 'triumph', 'feeling', 'refer', 'one', 'fire', 'maybe', 'thus', 'prospect', 'dynamic', 'functional', 'couple', 'king', 'second', 'dream', 'grocery', 'initiate', 'cop', 'conviction', 'occasionally', 'twelve', 'thank', 'swell', 'opposition', 'silly', 'coming', 'species', 'dissolve', 'why', 'appeal', 'rare', 'puzzle', 'theme', 'should', 'division', 'wish', 'split', 'overwhelming', 'unite', 'trouble', 'stupid', 'brutal', 'condemn', 'continue', 'decide', 'cruel', 'once', 'strike', 'could', 'spit', 'persist', 'neutral', 'everything', 'begin', 'motion', 'ultimately', 'topic', 'politics', 'although', 'themselves', 'want', 'decision', 'concept', 'selection', 'violence', 'guest', 'competition', 'profession', 'doubt', 'suppose', 'change', 'fantasy', 'irony', 'election', 'eventually', 'title', 'yours', 'tune', 'endure', 'book', 'third', 'sympathy', 'singer', 'justice', 'differently', 'happy', 'discourse', 'might', 'event', 'juror', 'sometimes', 'peel', 'lose', 'notice', 'interesting', 'class', 'remain', 'suffering', 'mistake', 'evolve', 'mystery', 'fame', 'regular', 'rape', 'marry', 'embrace', 'play', 'himself', 'perform', 'particularly', 'candidate', 'reason', 'disability', 'race', 'trauma', 'operator', 'apologize', 'can', 'furthermore', 'both', 'departure', 'thing', 'moment', 'strange', 'every', 'ego', 'all', 'increasingly', 'victory', 'advocate', 'retirement', 'voice', 'participate', 'even', 'possibility', 'quietly', 'situation', 'hot', 'yell', 'extreme', 'court', 'provoke', 'certain', 'arise', 'power', 'symptom', 'continued', 'seemingly', 'treat', 'tend', 'headache', 'circuit', 'angry', 'performer', 'hate', 'open', 'dare', 'silent', 'who', 'theory', 'panic', 'cause', 'succeed', 'conclusion', 'matter', 'genre', 'future', 'too', 'cancel', 'announce', 'anxious', 'drama', 'side', 'terms', 'impulse', 'read', 'comedy', 'fill', 'fierce', 'policeman', 'frequently', 'bother', 'cart', 'out', 'terrible', 'courtroom', 'accelerate', 'meet', 'inform', 'rolling', 'wife', 'rain', 'perhaps', 'empty', 'swing', 'pressure', 'skip', 'declare', 'nomination', 'pride', 'episode', 'comparison', 'tired', 'intense', 'upset', 'clerk', 'suddenly', 'plea', 'talk', 'choose', 'flag', 'plead', 'behave', 'characteristic', 'sense', 'reject', 'convict', 'depart', 'they', 'shame', 'manager', 'mental', 'starter', 'operate', 'divorce', 'listen', 'hell', 'understand', 'disaster', 'likely', 'how', 'presidential', 'except', 'landmark', 'actor', 'insurance', 'diabetes', 'response', 'have', 'random', 'twice', 'she', 'worry', 'debate', 'two', 'person', 'ahead', 'dance', 'science', 'harassment', 'assignment', 'fare', 'type', 'soap', 'context', 'people', 'comment', 'round', 'never', 'quit', 'whenever', 'these', 'numerous', 'now', 'category', 'resign', 'function', 'till', 'imagine', 'minor', 'again', 'eleven', 'winner', 'rather', 'bounce', 'for', 'task', 'engineering', 'govern', 'game', 'other', 'start', 'love', 'latter', 'abroad', 'factor', 'element', 'major', 'appear', 'suicide', 'switch']\n"
     ]
    }
   ],
   "source": [
    "compare_vocabulary_hashes(EMBEDDING_MODEL, SuperBitLsh(hash_length=14, num_bits_per_batch=4), search_terms)"
   ]
  },
  {
   "cell_type": "code",
   "execution_count": 14,
   "metadata": {},
   "outputs": [
    {
     "name": "stdout",
     "output_type": "stream",
     "text": [
      "Comparing vocabulary hashes for glove-wiki-gigaword-100 embeddings model with HierarchicalLsh (num_levels=10)\n",
      "Embedding vocabulary of 4319 words\n",
      "Training hasher with all 4253 vocabulary embeddings\n",
      "Using 850 samples for hierarchical clustering\n",
      "Maximum HierarchicalClustering hash length: 10\n",
      "Hashing all 4253 vocabulary embeddings\n",
      "Words for word apple, hash 1110011100: ['hardware', 'apple', 'computer', 'technology', 'software']\n",
      "Words for word orange, hash 101000110: ['green', 'orange', 'yellow', 'blue', 'purple', 'jacket', 'pink', 'shirt', 'golden', 'red']\n",
      "Words for word banana, hash 1001110111: ['vegetable', 'bean', 'nut', 'coffee', 'fruit', 'peanut', 'banana']\n",
      "Words for word grape, hash 1001110110: ['grape', 'wine']\n",
      "Words for word fruit, hash 1001110111: ['vegetable', 'bean', 'nut', 'coffee', 'fruit', 'peanut', 'banana']\n",
      "Words for word cheese, hash 1001110010: ['cheese', 'cream', 'steak', 'butter']\n",
      "Words for word plane, hash 101110111: ['jet', 'flying', 'helicopter', 'crew', 'vessel', 'flight', 'landing', 'airplane', 'aircraft', 'pilot', 'plane']\n",
      "Words for word train, hash 1110001100: ['corridor', 'tunnel', 'transit', 'road', 'route', 'train', 'rail', 'transport', 'passenger', 'railroad', 'transportation', 'traffic', 'highway', 'bridge']\n",
      "Words for word universe, hash 0011110110: ['addition', 'particular', 'striking', 'example', 'generation', 'term', 'available', 'recall', 'temporary', 'virtual', 'experiment', 'reference', 'textbook', 'figure', 'original', 'simple', 'besides', 'variation', 'used', 'stream', 'powerful', 'instrument', 'introduction', 'coverage', 'nature', 'copy', 'standard', 'subject', 'palm', 'value', 'universe', 'arrangement', 'closest', 'feature', 'sole', 'human', 'form', 'sponsor', 'norm', 'similar', 'phenomenon', 'profile', 'handful', 'convenience', 'argument', 'individual', 'bell', 'universal', 'structure', 'natural', 'combination', 'invention', 'code', 'distinction', 'given', 'signature', 'typical', 'discovery', 'segment', 'specifically', 'unusual', 'outlet', 'mere', 'document', 'dominant', 'oral', 'system', 'classic', 'consideration', 'twist', 'employee', 'chapter', 'technique', 'procedure', 'chain', 'exception', 'instance', 'limited', 'account', 'article', 'include', 'alternative', 'equivalent', 'method', 'version', 'quote', 'everyday', 'dot', 'seller', 'act', 'image', 'involve', 'refer', 'privilege', 'dynamic', 'rare', 'puzzle', 'miss', 'aspect', 'topic', 'mention', 'coin', 'concept', 'privacy', 'note', 'pattern', 'source', 'significant', 'product', 'provided', 'extension', 'description', 'treat', 'describe', 'age', 'list', 'catalog', 'terms', 'tool', 'barrier', 'approach', 'memory', 'effect', 'unlike', 'comparison', 'ideal', 'unique', 'item', 'characteristic', 'provision', 'publication', 'except', 'use', 'actual', 'difference', 'type', 'analysis', 'category', 'minor', 'distance', 'parent']\n",
      "Words for word love, hash 0111100010: ['deep', 'feel', 'mind', 'little', 'piece', 'reality', 'real', 'touch', 'manner', 'bit', 'lots', 'sort', 'feeling', 'bad', 'thing', 'pure', 'much', 'sense', 'tough', 'lot', 'love', 'kind']\n",
      "Words for word anger, hash 0111111100: ['blame', 'disappointment', 'satisfaction', 'wrong', 'fault', 'regret', 'frustration', 'responsibility', 'anger', 'overwhelming', 'mistake', 'apologize', 'error', 'accuse']\n"
     ]
    }
   ],
   "source": [
    "compare_vocabulary_hashes(EMBEDDING_MODEL, HierarchicalLsh(num_levels=10), search_terms)\n",
    "# note that this takes 60 seconds to run"
   ]
  },
  {
   "cell_type": "code",
   "execution_count": 15,
   "metadata": {},
   "outputs": [
    {
     "name": "stdout",
     "output_type": "stream",
     "text": [
      "Comparing vocabulary hashes for glove-wiki-gigaword-100 embeddings model with HierarchicalHyperplaneLsh(num_levels=10)\n",
      "Embedding vocabulary of 4319 words\n",
      "Training hasher with all 4253 vocabulary embeddings\n",
      "Using 4253 samples for hierarchical clustering\n",
      "Building hierarchy over 4253 data points\n",
      "Maximum HierarchicalClustering hash length: 13\n",
      "Enriching clusters with parents and levels and hyperplanes\n",
      "Hierarchical hyperplanes calculated\n",
      "Hashing all 4253 vocabulary embeddings\n",
      "Words for word apple, hash 00100100: ['apple', 'grape', 'fruit', 'liver']\n",
      "Words for word orange, hash 01000110: ['orange']\n",
      "Words for word banana, hash 001110001: ['salmon', 'carrot', 'nut', 'raw', 'potato', 'mushroom', 'pound', 'serving', 'fat', 'serve', 'peanut', 'banana']\n",
      "Words for word grape, hash 00100100: ['apple', 'grape', 'fruit', 'liver']\n",
      "Words for word fruit, hash 00100100: ['apple', 'grape', 'fruit', 'liver']\n",
      "Words for word cheese, hash 001111010: ['cheese', 'chocolate', 'cream']\n",
      "Words for word plane, hash 110111101: ['rocket', 'deadly', 'missile', 'helicopter', 'air', 'bomb', 'airport', 'satellite', 'aircraft', 'bombing', 'plane']\n",
      "Words for word train, hash 110111010: ['private', 'build', 'normal', 'train', 'via', 'express', 'direction', 'casino', 'operate', 'daily']\n",
      "Words for word universe, hash 100111111: ['myth', 'revelation', 'hero', 'hockey', 'legend', 'nature', 'passion', 'universe', 'attraction', 'greatest', 'celebration', 'realm', 'inspiration', 'icon', 'ultimate', 'so-called', 'great', 'vision', 'runner', 'evolution', 'symbol', 'quest', 'basketball', 'image', 'triumph', 'dream', 'legacy', 'title', 'word', 'spirit', 'memory', 'unlike', 'pride', 'prayer', 'genius']\n",
      "Words for word love, hash 100011100: ['together', 'living', 'mother', 'jury', 'identity', 'daughter', 'teacher', 'ever', 'couple', 'boyfriend', 'miss', 'himself', 'herself', 'wife', 'she', 'love', 'sister']\n",
      "Words for word anger, hash 101101000: ['confusion', 'disorder', 'disappointment', 'emotion', 'frustration', 'denial', 'anxiety', 'chronic', 'anger', 'racism', 'ambition', 'pain', 'collective', 'trauma', 'loyalty', 'shock', 'grief', 'suspicion']\n"
     ]
    }
   ],
   "source": [
    "compare_vocabulary_hashes(EMBEDDING_MODEL, HierarchicalHyperplaneLsh(num_levels=10), search_terms)"
   ]
  },
  {
   "cell_type": "markdown",
   "metadata": {},
   "source": [
    "# Gensim similarity comparison"
   ]
  },
  {
   "cell_type": "code",
   "execution_count": 20,
   "metadata": {},
   "outputs": [],
   "source": [
    "def print_gensim_word_neighbourhood(word, embeddings_model_wrapper):\n",
    "    neighbourhood = []\n",
    "    for neighbourhood_word, _ in embeddings_model_wrapper.embeddings_model.most_similar(word, topn=20):\n",
    "        if neighbourhood_word in vocabulary:\n",
    "            neighbourhood.append(neighbourhood_word)\n",
    "    print(f'Gensim words for word {word}: {neighbourhood}')\n",
    "\n",
    "def compare_gensim_word_neighbourhood(embeddings_model_name, search_terms):\n",
    "    embeddings_model_wrapper = EmbeddingsModel.get(embeddings_model_name)\n",
    "    print(f\"Comparing vocabulary hashes for {embeddings_model_name} embeddings model\")\n",
    "    for term in search_terms:\n",
    "        print_gensim_word_neighbourhood(term, embeddings_model_wrapper)"
   ]
  },
  {
   "cell_type": "code",
   "execution_count": 21,
   "metadata": {},
   "outputs": [
    {
     "name": "stdout",
     "output_type": "stream",
     "text": [
      "Comparing vocabulary hashes for glove-wiki-gigaword-100 embeddings model\n",
      "Gensim words for word apple: ['software', 'computer']\n",
      "Gensim words for word orange: ['yellow', 'red', 'blue', 'green', 'pink', 'purple', 'black', 'lemon', 'brown', 'juice', 'white', 'gray', 'bright', 'cream', 'dark']\n",
      "Gensim words for word banana: ['potato', 'fruit', 'peanut', 'sugar', 'nut', 'tomato', 'coffee', 'bean']\n",
      "Gensim words for word grape: ['wine', 'fruit', 'tomato']\n",
      "Gensim words for word fruit: ['vegetable', 'coffee', 'juice', 'flavor', 'banana', 'grape', 'tomato', 'tea']\n",
      "Gensim words for word cheese: ['cream', 'butter', 'chocolate', 'bread', 'sandwich', 'sauce', 'pasta', 'potato', 'tomato', 'goat']\n",
      "Gensim words for word plane: ['airplane', 'flight', 'jet', 'crash', 'helicopter', 'flying', 'aircraft', 'pilot', 'landing', 'crew', 'cargo', 'fly']\n",
      "Gensim words for word train: ['bus', 'rail', 'passenger', 'traffic', 'truck', 'ride', 'car', 'plane', 'route']\n",
      "Gensim words for word universe: ['planet', 'earth', 'reality', 'realm', 'evolution', 'dimension', 'fantasy', 'existence', 'concept', 'fiction']\n",
      "Gensim words for word love: ['passion', 'life', 'dream', 'you', 'always', 'wonder', 'mind', 'feel', 'happy', 'fun', 'kind', 'soul', 'she']\n",
      "Gensim words for word anger: ['frustration', 'fear', 'anxiety', 'rage', 'grief']\n"
     ]
    }
   ],
   "source": [
    "compare_gensim_word_neighbourhood(EMBEDDING_MODEL, search_terms)"
   ]
  }
 ],
 "metadata": {
  "kernelspec": {
   "display_name": ".venv",
   "language": "python",
   "name": "python3"
  },
  "language_info": {
   "codemirror_mode": {
    "name": "ipython",
    "version": 3
   },
   "file_extension": ".py",
   "mimetype": "text/x-python",
   "name": "python",
   "nbconvert_exporter": "python",
   "pygments_lexer": "ipython3",
   "version": "3.10.6"
  }
 },
 "nbformat": 4,
 "nbformat_minor": 2
}
