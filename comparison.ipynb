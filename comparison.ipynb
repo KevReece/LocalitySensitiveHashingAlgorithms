{
 "cells": [
  {
   "cell_type": "code",
   "execution_count": 1,
   "metadata": {},
   "outputs": [],
   "source": [
    "import gensim.downloader\n",
    "import numpy as np\n",
    "from algorithms.RandomProjectionsLsh import RandomProjectionsLsh\n",
    "from algorithms.PcaBasedLsh import PcaBasedLsh\n",
    "from algorithms.MinkowskiLsh import L1Lsh, L2Lsh\n",
    "from algorithms.PcaMinkowskiLsh import PcaL1Lsh, PcaL2Lsh\n",
    "from algorithms.SuperBitLsh import SuperBitLsh\n",
    "from algorithms.HierarchicalLsh import HierarchicalLsh\n",
    "from algorithms.HierarchicalHyperplaneLsh import HierarchicalHyperplaneLsh"
   ]
  },
  {
   "cell_type": "markdown",
   "metadata": {},
   "source": [
    "# Load vocabulary"
   ]
  },
  {
   "cell_type": "code",
   "execution_count": 2,
   "metadata": {},
   "outputs": [
    {
     "name": "stdout",
     "output_type": "stream",
     "text": [
      "Loading words...\n",
      "Words loaded: 4319\n"
     ]
    }
   ],
   "source": [
    "import urllib.request\n",
    "\n",
    "\n",
    "def load_common_words():\n",
    "    print('Loading words...')\n",
    "    words = set()\n",
    "    target_url = 'https://raw.githubusercontent.com/pkLazer/password_rank/master/4000-most-common-english-words-csv.csv'\n",
    "    is_header_line = True\n",
    "    for line in urllib.request.urlopen(target_url):\n",
    "        if is_header_line:\n",
    "            is_header_line = False\n",
    "            continue\n",
    "        words.add(line.decode('utf-8').strip())\n",
    "    print(f'Words loaded: {len(words)}')\n",
    "\n",
    "    return words\n",
    "\n",
    "vocabulary = load_common_words()"
   ]
  },
  {
   "cell_type": "markdown",
   "metadata": {},
   "source": [
    "# Embedding Models\n",
    "\n",
    "Note that first downloads will be very slow, then first memory load will still be slow, but then each model is cached."
   ]
  },
  {
   "cell_type": "code",
   "execution_count": 3,
   "metadata": {},
   "outputs": [],
   "source": [
    "class EmbeddingsModel:\n",
    "    _instances = {}\n",
    "\n",
    "    @classmethod\n",
    "    def get(cls, model_name):\n",
    "        if not model_name in cls._instances:\n",
    "            cls._instances[model_name] = cls(model_name)\n",
    "        return cls._instances[model_name]\n",
    "\n",
    "    def __init__(self, model_name):\n",
    "        print(f'Loading {model_name} embeddings model')\n",
    "        self.embeddings_model = gensim.downloader.load(model_name)\n",
    "\n",
    "    def embed_word(self, word):\n",
    "        return self.embeddings_model[word]\n",
    "    \n",
    "    def embed_words(self, words):\n",
    "        existing_words = [word for word in words if self.word_exists(word)]\n",
    "        return np.array(self.embeddings_model.vectors_for_all(existing_words).vectors)\n",
    "    \n",
    "    def embed_words_as_dict(self, words):\n",
    "        existing_words = [word for word in words if self.word_exists(word)]\n",
    "        embeddings_for_words = self.embeddings_model.vectors_for_all(existing_words).vectors\n",
    "        return {word: embeddings_for_words[i] for i, word in enumerate(existing_words)}\n",
    "    \n",
    "    def word_exists(self, word):\n",
    "        return word in self.embeddings_model.key_to_index"
   ]
  },
  {
   "cell_type": "code",
   "execution_count": 4,
   "metadata": {},
   "outputs": [
    {
     "name": "stdout",
     "output_type": "stream",
     "text": [
      "All possible models: ['fasttext-wiki-news-subwords-300', 'conceptnet-numberbatch-17-06-300', 'word2vec-ruscorpora-300', 'word2vec-google-news-300', 'glove-wiki-gigaword-50', 'glove-wiki-gigaword-100', 'glove-wiki-gigaword-200', 'glove-wiki-gigaword-300', 'glove-twitter-25', 'glove-twitter-50', 'glove-twitter-100', 'glove-twitter-200', '__testing_word2vec-matrix-synopsis']\n"
     ]
    }
   ],
   "source": [
    "possible_models = list(gensim.downloader.info()['models'].keys())\n",
    "print(f'All possible models: {possible_models}')"
   ]
  },
  {
   "cell_type": "markdown",
   "metadata": {},
   "source": [
    "# Comparisons"
   ]
  },
  {
   "cell_type": "code",
   "execution_count": 5,
   "metadata": {},
   "outputs": [],
   "source": [
    "def _hash_vocabulary(vocabulary, embeddings_model_name, hasher):\n",
    "    embeddings_model = EmbeddingsModel.get(embeddings_model_name)\n",
    "    print(f'Embedding vocabulary of {len(vocabulary)} words')\n",
    "    vocabulary_embeddings = embeddings_model.embed_words_as_dict(vocabulary)\n",
    "    print(f'Training hasher with all {len(vocabulary_embeddings)} vocabulary embeddings')\n",
    "    hasher.fit(np.array(list(vocabulary_embeddings.values())))\n",
    "    print(f'Hashing all {len(vocabulary_embeddings)} vocabulary embeddings')\n",
    "    vocabulary_hashes = {word: hasher.hash_vector(embedding) for word, embedding in vocabulary_embeddings.items() }\n",
    "    return vocabulary_hashes\n",
    "\n",
    "def _get_hash_words(hash, vocabulary_hashes):\n",
    "    words = []\n",
    "    for word, word_hash in vocabulary_hashes.items():\n",
    "        if word_hash == hash:\n",
    "            words.append(word)\n",
    "    return words\n",
    "\n",
    "def _print_word_neighbourhood(word, vocabulary_hashes):\n",
    "    hash = vocabulary_hashes[word]\n",
    "    neighbourhood = _get_hash_words(hash, vocabulary_hashes)\n",
    "    print(f'Words for word {word}, hash {hash}: {neighbourhood}')\n",
    "\n",
    "def compare_vocabulary_hashes(embeddings_model_name, hasher, search_terms):\n",
    "    print(f'Comparing vocabulary hashes for {embeddings_model_name} embeddings model with {hasher.to_string()}')\n",
    "    vocabulary_hashes = _hash_vocabulary(vocabulary, embeddings_model_name, hasher)\n",
    "    for term in search_terms:\n",
    "        _print_word_neighbourhood(term, vocabulary_hashes)"
   ]
  },
  {
   "cell_type": "code",
   "execution_count": 6,
   "metadata": {},
   "outputs": [],
   "source": [
    "search_terms = ['apple', 'orange', 'banana', 'grape', 'fruit', 'cheese', 'plane', 'train', 'universe', 'love', 'anger']"
   ]
  },
  {
   "cell_type": "code",
   "execution_count": 7,
   "metadata": {},
   "outputs": [
    {
     "name": "stdout",
     "output_type": "stream",
     "text": [
      "Comparing vocabulary hashes for glove-wiki-gigaword-50 embeddings model with RandomProjectionsLsh (hash_length=13)\n",
      "Loading glove-wiki-gigaword-50 embeddings model\n",
      "Embedding vocabulary of 4319 words\n",
      "Training hasher with all 4253 vocabulary embeddings\n",
      "Hashing all 4253 vocabulary embeddings\n",
      "Words for word apple, hash 2667: ['milk', 'beer', 'apple', 'quit']\n",
      "Words for word orange, hash 6734: ['which', 'seat', 'orange', 'giant', 'hotel', 'shed']\n",
      "Words for word banana, hash 1611: ['crush', 'banana']\n",
      "Words for word grape, hash 2637: ['grape']\n",
      "Words for word fruit, hash 2922: ['fruit', 'coffee']\n",
      "Words for word cheese, hash 1576: ['cheese', 'flour', 'oven']\n",
      "Words for word plane, hash 4206: ['plane', 'investigate', 'service']\n",
      "Words for word train, hash 4222: ['reservation', 'train']\n",
      "Words for word universe, hash 2941: ['universe']\n",
      "Words for word love, hash 2687: ['blond', 'crazy', 'love', 'stranger', 'lover', 'stuff', 'kid', 'guy']\n",
      "Words for word anger, hash 4715: ['anger', 'urge']\n"
     ]
    }
   ],
   "source": [
    "compare_vocabulary_hashes('glove-wiki-gigaword-50', RandomProjectionsLsh(hash_length=13), search_terms)"
   ]
  },
  {
   "cell_type": "code",
   "execution_count": 8,
   "metadata": {},
   "outputs": [
    {
     "name": "stdout",
     "output_type": "stream",
     "text": [
      "Comparing vocabulary hashes for glove-wiki-gigaword-50 embeddings model with PcaBasedLsh (hash_length=14)\n",
      "Embedding vocabulary of 4319 words\n",
      "Training hasher with all 4253 vocabulary embeddings\n",
      "Hashing all 4253 vocabulary embeddings\n",
      "Words for word apple, hash 11497: ['medium', 'mix', 'herb', 'apple']\n",
      "Words for word orange, hash 10412: ['fold', 'blue', 'tightly', 'orange', 'grass', 'pink', 'plain', 'cloth', 'thin']\n",
      "Words for word banana, hash 10413: ['banana', 'slice']\n",
      "Words for word grape, hash 11501: ['grape', 'wine', 'fiber']\n",
      "Words for word fruit, hash 10477: ['dried', 'seed', 'leaf', 'milk', 'pound', 'pot', 'fruit', 'goat', 'salt', 'sugar', 'rabbit']\n",
      "Words for word cheese, hash 10473: ['tablespoon', 'lemon', 'potato', 'teaspoon', 'cheese', 'juice', 'butter', 'liquid', 'vegetable', 'raw', 'beer', 'bean', 'pepper']\n",
      "Words for word plane, hash 2373: ['plane', 'ship', 'fatal']\n",
      "Words for word train, hash 332: ['civilian', 'train', 'heart', 'left', 'shooting', 'apparently', 'contact']\n",
      "Words for word universe, hash 7173: ['dimension', 'universe', 'description']\n",
      "Words for word love, hash 13517: ['wonderful', 'love', 'soul', 'dream']\n",
      "Words for word anger, hash 4576: ['anger', 'suspicion']\n"
     ]
    }
   ],
   "source": [
    "compare_vocabulary_hashes('glove-wiki-gigaword-50', PcaBasedLsh(hash_length=14), search_terms)"
   ]
  },
  {
   "cell_type": "code",
   "execution_count": 9,
   "metadata": {},
   "outputs": [
    {
     "name": "stdout",
     "output_type": "stream",
     "text": [
      "Comparing vocabulary hashes for glove-wiki-gigaword-50 embeddings model with L1Lsh (dimensions_count=50, bucket_width=0.01, count_hash_tables=200\n",
      "Embedding vocabulary of 4319 words\n",
      "Training hasher with all 4253 vocabulary embeddings\n",
      "Hashing all 4253 vocabulary embeddings\n",
      "Words for word apple, hash 1243: ['yourself', 'laugh', 'safety', 'dig', 'toll', 'apple', 'wing', 'perfectly', 'grief', 'fit', 'aesthetic', 'slice', 'tackle']\n",
      "Words for word orange, hash 1361: ['town', 'element', 'beg', 'wrong', 'instructional', 'orange', 'complaint', 'daily']\n",
      "Words for word banana, hash 1022: ['account', 'entire', 'list', 'banana']\n",
      "Words for word grape, hash 1767: ['grape', 'abortion']\n",
      "Words for word fruit, hash 1513: ['columnist', 'group', 'apartment', 'journalism', 'fruit']\n",
      "Words for word cheese, hash 1647: ['cheese', 'marine', 'stomach']\n",
      "Words for word plane, hash 1189: ['vacuum', 'plane', 'technical', 'tide', 'search', 'send', 'particular', 'breathe', 'ratio']\n",
      "Words for word train, hash 1264: ['disabled', 'slowly', 'train', 'mess', 'repair', 'down', 'support']\n",
      "Words for word universe, hash 1402: ['cancer', 'abroad', 'universe', 'career', 'era', 'battery']\n",
      "Words for word love, hash 1237: ['love', 'appreciate', 'helmet', 'performance', 'banker', 'suspend']\n",
      "Words for word anger, hash 1123: ['anger', 'surface', 'urge', 'health-care']\n"
     ]
    }
   ],
   "source": [
    "compare_vocabulary_hashes('glove-wiki-gigaword-50', L1Lsh(dimensions_count=50, bucket_width=0.01, count_hash_tables=200), search_terms)"
   ]
  },
  {
   "cell_type": "code",
   "execution_count": 10,
   "metadata": {},
   "outputs": [
    {
     "name": "stdout",
     "output_type": "stream",
     "text": [
      "Comparing vocabulary hashes for glove-wiki-gigaword-50 embeddings model with L2Lsh (dimensions_count=50, bucket_width=0.01, count_hash_tables=200\n",
      "Embedding vocabulary of 4319 words\n",
      "Training hasher with all 4253 vocabulary embeddings\n",
      "Hashing all 4253 vocabulary embeddings\n",
      "Words for word apple, hash 1588: ['apple', 'hell']\n",
      "Words for word orange, hash 1133: ['insurance', 'orange', 'return']\n",
      "Words for word banana, hash 1354: ['water', 'recovery', 'male', 'banana']\n",
      "Words for word grape, hash 562: ['grape', 'monster', 'withdrawal', 'develop', 'officer']\n",
      "Words for word fruit, hash 1307: ['agent', 'fruit', 'camp']\n",
      "Words for word cheese, hash 877: ['create', 'trauma', 'cheese', 'sky', 'cigarette']\n",
      "Words for word plane, hash 1115: ['plane', 'strictly', 'literary', 'gross', 'index', 'traffic']\n",
      "Words for word train, hash 1202: ['train']\n",
      "Words for word universe, hash 899: ['universe', 'begin', 'wide', 'cold', 'both', 'jeans', 'relationship']\n",
      "Words for word love, hash 1359: ['love']\n",
      "Words for word anger, hash 398: ['anger', 'complex', 'direct']\n"
     ]
    }
   ],
   "source": [
    "compare_vocabulary_hashes('glove-wiki-gigaword-50', L2Lsh(dimensions_count=50, bucket_width=0.01, count_hash_tables=200), search_terms)"
   ]
  },
  {
   "cell_type": "code",
   "execution_count": 11,
   "metadata": {},
   "outputs": [
    {
     "name": "stdout",
     "output_type": "stream",
     "text": [
      "Comparing vocabulary hashes for glove-wiki-gigaword-50 embeddings model with PcaL1Lsh (bucket_width=0.005, count_hash_tables=50)\n",
      "Embedding vocabulary of 4319 words\n",
      "Training hasher with all 4253 vocabulary embeddings\n",
      "Hashing all 4253 vocabulary embeddings\n",
      "Words for word apple, hash 140: ['heart', 'sometimes', 'disappointed', 'first', 'foster', 'apple', 'oxygen']\n",
      "Words for word orange, hash 213: ['alter', 'likelihood', 'bend', 'after', 'girl', 'orange', 'elevator', 'controversy', 'unemployment', 'complexity', 'additional', 'builder', 'reporter']\n",
      "Words for word banana, hash 438: ['projection', 'medium', 'village', 'banana']\n",
      "Words for word grape, hash 446: ['grape', 'availability', 'particle', 'sibling']\n",
      "Words for word fruit, hash 428: ['fruit', 'improve', 'bake']\n",
      "Words for word cheese, hash 456: ['agriculture', 'cheese', 'heat', 'ecosystem']\n",
      "Words for word plane, hash 96: ['aid', 'plane', 'unexpected', 'vital', 'tune', 'recall', 'inquiry', 'terrific', 'him']\n",
      "Words for word train, hash 72: ['train', 'interval', 'promise', 'life', 'two', 'idea', 'meet']\n",
      "Words for word universe, hash 247: ['acquisition', 'realistic', 'universe', 'effect', 'trip', 'realize', 'suburb', 'downtown', 'runner', 'virus', 'widespread', 'virtue']\n",
      "Words for word love, hash 149: ['opt', 'love', 'yes', 'recording', 'recommendation', 'super', 'resource', 'signature', 'plunge', 'independent', 'convince', 'bid', 'solution', 'raise']\n",
      "Words for word anger, hash 186: ['lion', 'stay', 'anger', 'fraud', 'international', 'wage', 'importance', 'short', 'themselves', 'overcome', 'shit']\n"
     ]
    }
   ],
   "source": [
    "compare_vocabulary_hashes('glove-wiki-gigaword-50', PcaL1Lsh(bucket_width=0.005, count_hash_tables=50), search_terms)"
   ]
  },
  {
   "cell_type": "code",
   "execution_count": 12,
   "metadata": {},
   "outputs": [
    {
     "name": "stdout",
     "output_type": "stream",
     "text": [
      "Comparing vocabulary hashes for glove-wiki-gigaword-50 embeddings model with PcaL2Lsh (bucket_width=0.005, count_hash_tables=50)\n",
      "Embedding vocabulary of 4319 words\n",
      "Training hasher with all 4253 vocabulary embeddings\n",
      "Hashing all 4253 vocabulary embeddings\n",
      "Words for word apple, hash 202: ['credibility', 'norm', 'trace', 'cut', 'lose', 'blank', 'overlook', 'popular', 'publicity', 'plunge', 'influence', 'apple', 'aim', 'disappear']\n",
      "Words for word orange, hash 277: ['unable', 'factor', 'signal', 'speech', 'motor', 'apply', 'area', 'lightning', 'orange', 'commonly', 'donor', 'queen', 'recipient', 'file', 'sustain', 'ocean', 'wedding', 'emotional', 'anonymous', 'sheer', 'migration', 'decent', 'fix', 'hunting']\n",
      "Words for word banana, hash 438: ['projection', 'medium', 'village', 'banana', 'hip', 'clinic']\n",
      "Words for word grape, hash 446: ['grape', 'corn', 'availability', 'particle', 'sibling', 'aesthetic']\n",
      "Words for word fruit, hash 428: ['therapist', 'jurisdiction', 'fruit', 'improve']\n",
      "Words for word cheese, hash 456: ['agriculture', 'cheese', 'heat', 'psychologist', 'ecosystem']\n",
      "Words for word plane, hash 230: ['plane', 'gentleman', 'garbage', 'safety', 'shopping', 'aggressive', 'offer', 'more', 'talent', 'pick', 'headline', 'permit', 'forget', 'speculation', 'pretty', 'gray', 'rule', 'testify', 'scheme']\n",
      "Words for word train, hash 191: ['unexpected', 'actually', 'responsible', 'amid', 'train', 'everyone', 'boast', 'proposed', 'shared', 'direct', 'bush']\n",
      "Words for word universe, hash 247: ['leave', 'reject', 'acquisition', 'contributor', 'realistic', 'universe', 'effect', 'trip', 'balloon', 'realize', 'finish', 'affect', 'travel', 'downtown', 'state', 'ban', 'runner', 'agree', 'burden', 'broker', 'virtue', 'soft', 'stance']\n",
      "Words for word love, hash 206: ['bus', 'nightmare', 'version', 'latter', 'love', 'off', 'importantly', 'plea', 'gang', 'disappointed', 'once', 'wire', 'extended', 'weapon', 'fifth', 'down', 'elephant', 'counter', 'consequently', 'mask', 'previously', 'absence']\n",
      "Words for word anger, hash 224: ['lion', 'soften', 'anger', 'servant', 'driving', 'effort', 'spirit', 'embrace', 'none', 'sensitive', 'handsome', 'competitive', 'testimony', 'mansion', 'somebody', 'second', 'prime']\n"
     ]
    }
   ],
   "source": [
    "compare_vocabulary_hashes('glove-wiki-gigaword-50', PcaL2Lsh(bucket_width=0.005, count_hash_tables=50), search_terms)"
   ]
  },
  {
   "cell_type": "code",
   "execution_count": 13,
   "metadata": {},
   "outputs": [
    {
     "name": "stdout",
     "output_type": "stream",
     "text": [
      "Comparing vocabulary hashes for glove-wiki-gigaword-50 embeddings model with SuperBitLsh(hash_length=14, num_bits_per_batch=4)\n",
      "Embedding vocabulary of 4319 words\n",
      "Training hasher with all 4253 vocabulary embeddings\n",
      "Hashing all 4253 vocabulary embeddings\n"
     ]
    },
    {
     "name": "stderr",
     "output_type": "stream",
     "text": [
      "c:\\Projects\\LocalitySensitiveHashingAlgorithms\\.venv\\lib\\site-packages\\numpy\\linalg\\linalg.py:2582: RuntimeWarning: overflow encountered in multiply\n",
      "  s = (x.conj() * x).real\n",
      "c:\\Projects\\LocalitySensitiveHashingAlgorithms\\algorithms\\SuperBitLsh.py:24: RuntimeWarning: invalid value encountered in divide\n",
      "  vectors = vectors / norms\n",
      "c:\\Projects\\LocalitySensitiveHashingAlgorithms\\algorithms\\SuperBitLsh.py:21: RuntimeWarning: invalid value encountered in subtract\n",
      "  vectors[i] -= proj\n",
      "c:\\Projects\\LocalitySensitiveHashingAlgorithms\\algorithms\\SuperBitLsh.py:20: RuntimeWarning: overflow encountered in multiply\n",
      "  proj = np.dot(vectors[j], vectors[i]) * vectors[j]\n",
      "c:\\Projects\\LocalitySensitiveHashingAlgorithms\\.venv\\lib\\site-packages\\numpy\\linalg\\linalg.py:2583: RuntimeWarning: overflow encountered in reduce\n",
      "  return sqrt(add.reduce(s, axis=axis, keepdims=keepdims))\n"
     ]
    },
    {
     "name": "stdout",
     "output_type": "stream",
     "text": [
      "Words for word apple, hash 32: ['one', 'increased', 'sink', 'hear', 'alone', 'taxpayer', 'should', 'forgive', 'surprise', 'food', 'quickly', 'expansion', 'for', 'patent', 'consistently', 'room', 'poverty', 'enforce', 'openly', 'next', 'regard', 'advise', 'limit', 'yourself', 'especially', 'positive', 'anything', 'move', 'myself', 'exercise', 'besides', 'liberty', 'bonus', 'reflection', 'increase', 'allow', 'previous', 'approval', 'unhappy', 'fact', 'conscience', 'expand', 'fall', 'frankly', 'secure', 'legally', 'swear', 'provided', 'assumption', 'civic', 'reject', 'many', 'unprecedented', 'somewhat', 'expected', 'unlikely', 'sometime', 'unusual', 'about', 'proposal', 'interested', 'tremendous', 'unexpected', 'determination', 'year', 'outline', 'rent', 'stay', 'standing', 'intent', 'appearance', 'amount', 'wonder', 'publication', 'deadline', 'officially', 'world', 'strategy', 'credibility', 'seldom', 'doubt', 'collection', 'large', 'requirement', 'acquisition', 'tend', 'attendance', 'compliance', 'believe', 'view', 'country', 'moreover', 'diminish', 'guess', 'actually', 'wonderful', 'assume', 'assessment', 'party', 'govern', 'last', 'drop', 'ought', 'repeat', 'work', 'luck', 'feeling', 'hire', 'rebuild', 'sale', 'fantastic', 'well', 'tell', 'projection', 'silly', 'earnings', 'wait', 'permanent', 'estimate', 'considerably', 'forbid', 'demand', 'necessary', 'rest', 'look', 'budget', 'bad', 'commission', 'assure', 'amid', 'excited', 'joy', 'crazy', 'fantasy', 'carefully', 'admire', 'expectation', 'buy', 'original', 'catalog', 'agenda', 'yeah', 'effectively', 'latter', 'surprised', 'love', 'ease', 'family', 'acceptance', 'realistic', 'availability', 'required', 'mind', 'huge', 'advantage', 'blessing', 'nevertheless', 'reason', 'argue', 'copy', 'glad', 'apply', 'react', 'certain', 'without', 'shift', 'ceiling', 'though', 'future', 'right', 'yes', 'weak', 'scary', 'judgment', 'welfare', 'value', 'rescue', 'sympathy', 'finally', 'worried', 'soon', 'merely', 'usual', 'reward', 'scale', 'honest', 'retire', 'commitment', 'maybe', 'measure', 'pregnant', 'campaign', 'recommend', 'pull', 'significantly', 'appreciate', 'worldwide', 'objection', 'somehow', 'give', 'put', 'enough', 'fare', 'effort', 'expensive', 'today', 'utility', 'guarantee', 'pay', 'deficit', 'intimate', 'reasonable', 'recommendation', 'importantly', 'preliminary', 'difficulty', 'presidency', 'issue', 'prevail', 'regardless', 'compel', 'saving', 'basically', 'explain', 'recognize', 'payment', 'inform', 'meanwhile', 'preference', 'keep', 'substantial', 'sure', 'decade', 'happiness', 'uniform', 'why', 'everyone', 'comparison', 'diplomatic', 'economy', 'effect', 'operating', 'establishment', 'watch', 'brown', 'wage', 'grin', 'illustrate', 'far', 'convinced', 'odds', 'package', 'fiscal', 'meantime', 'ever', 'comply', 'actual', 'wish', 'show', 'sometimes', 'poor', 'newly', 'solely', 'bless', 'consent', 'hey', 'card', 'neutral', 'plenty', 'indication', 'impression', 'eligible', 'plea', 'whenever', 'talk', 'regarding', 'will', 'see', 'price', 'his', 'yours', 'say', 'sick', 'she', 'exactly', 'invest', 'which', 'intend', 'confident', 'stock', 'dramatically', 'everybody', 'what', 'way', 'concept', 'reform', 'engagement', 'advertising', 'unlike', 'policy', 'ago', 'screening', 'enact', 'blanket', 'retain', 'odd', 'honor', 'limited', 'healthy', 'lots', 'net', 'weigh', 'pride', 'continue', 'respond', 'membership', 'similarly', 'cut', 'mention', 'seem', 'committee', 'seek', 'themselves', 'eventually', 'cap', 'fill', 'satisfaction', 'grow', 'nomination', 'release', 'could', 'stuff', 'not', 'obviously', 'perception', 'courage', 'mandate', 'congressional', 'minimum', 'comfort', 'wear', 'stimulus', 'require', 'whole', 'regret', 'request', 'gift', 'ignore', 'cheap', 'else', 'trade', 'strongly', 'worth', 'progress', 'happy', 'certainly', 'surprising', 'whether', 'popularity', 'pleased', 'prediction', 'theme', 'help', 'nice', 'split', 'desperately', 'disappointed', 'self', 'make', 'mission', 'necessity', 'ownership', 'suggest', 'group', 'partly', 'privately', 'participation', 'opinion', 'poster', 'license', 'loyalty', 'swallow', 'employment', 'lose', 'concerned', 'might', 'mirror', 'thought', 'less', 'casual', 'disclose', 'very', 'little', 'represent', 'big', 'apologize', 'retirement', 'ultimately', 'exclude', 'donation', 'mean', 'aggressive', 'travel', 'wake', 'someone', 'letter', 'empire', 'occasion', 'term', 'money', 'account', 'step', 'surely', 'consideration', 'suggestion', 'sharp', 'ensure', 'statement', 'lately', 'they', 'departure', 'really', 'provide', 'bring', 'offer', 'emphasize', 'decision', 'faith', 'adopt', 'significant', 'recent', 'because', 'fee', 'promise', 'submit', 'experience', 'you', 'assert', 'hope', 'parental', 'questionnaire', 'birth', 'lost', 'disagree', 'sales', 'vote', 'revenue', 'interest', 'some', 'focus', 'unemployment', 'boost', 'personally', 'familiar', 'impose', 'act', 'would', 'social', 'suit', 'optimistic', 'when', 'except', 'bell', 'user', 'understand', 'awareness', 'sell', 'example', 'survive', 'legacy', 'end', 'administration', 'chairman', 'ban', 'only', 'share', 'enormous', 'remember', 'compare', 'leadership', 'pleasure', 'consumer', 'divorce', 'publicly', 'careful', 'comfortable', 'still', 'once', 'reluctant', 'board', 'basis', 'generous', 'proposed', 'something', 'adapt', 'domestic', 'brand', 'portray', 'specific', 'sake', 'list', 'conclusion', 'thinking', 'shared', 'compensation', 'subject', 'foster', 'universal', 'product', 'contribute', 'expense', 'charter', 'dramatic', 'change', 'council', 'web', 'sustain', 'imagine', 'weaken', 'prescription', 'panel', 'need', 'bond', 'bite', 'feel', 'return', 'these', 'most', 'truly', 'lot', 'their', 'month', 'proud', 'legislative', 'deserve', 'generally', 'concede', 'know', 'clearly', 'rather', 'probably', 'picture', 'more', 'form', 'accounting', 'reality', 'full', 'movie', 'automatically', 'compete', 'profound', 'wedding', 'habit', 'come', 'plan', 'modest', 'rapidly', 'sharply', 'quite', 'commit', 'long', 'sense', 'necessarily', 'other', 'inflation', 'opportunity', 'imply', 'income', 'target', 'legislation', 'as', 'consider', 'marriage', 'word', 'everyday', 'announcement', 'ship', 'differ', 'bother', 'honestly', 'desire', 'inventory', 'anybody', 'succeed', 'sponsor', 'able', 'job', 'behalf', 'nation', 'definition', 'flexibility', 'both', 'evident', 'violate', 'private', 'complete', 'kind', 'data', 'shrink', 'demonstrate', 'ad', 'cabinet', 'grace', 'highlight', 'restore', 'those', 'notice', 'reduce', 'personal', 'intervention', 'clothes', 'pill', 'suppose', 'flesh', 'statute', 'whatever', 'please', 'shareholder', 'investor', 'changing', 'agree', 'expect', 'among', 'matter', 'even', 'upon', 'turn', 'margin', 'worry', 'supportive', 'like', 'advice', 'vaccine', 'survey', 'salary', 'equality', 'regain', 'added', 'fool', 'life', 'clothing', 'borrow', 'disappointment', 'proceed', 'finance', 'negative', 'image', 'meeting', 'selection', 'curiosity', 'grateful', 'buck', 'appear', 'headline', 'doctrine', 'insist', 'lend', 'marry', 'improve', 'good', 'belief', 'instance', 'president', 'weakness', 'recall', 'likely', 'alive', 'benefit', 'executive', 'directly', 'prohibit', 'fail', 'company', 'fame', 'afford', 'let', 'series', 'approach', 'express', 'terms', 'too', 'hers', 'never', 'code', 'may', 'slow', 'indeed', 'hesitate', 'emphasis', 'debt', 'compelling', 'appoint', 'operate', 'favorable', 'register', 'shed', 'sovereignty', 'answer', 'reflect', 'influence', 'billion', 'suddenly', 'cash', 'date', 'anxious', 'moment', 'drink', 'growing', 'nonetheless', 'permit', 'recognition', 'owe', 'its', 'quote', 'apple', 'again', 'forget', 'hint', 'almost', 'yet', 'accountability', 'sex', 'already', 'announce', 'genuine', 'grant', 'total', 'impact', 'such', 'new', 'essentially', 'beyond', 'quarter', 'stake', 'wagon', 'than', 'patience', 'speculation', 'pretty', 'any', 'premium', 'schedule', 'must', 'jeans', 'much', 'also', 'refuse', 're', 'anyway', 'appointment', 'episode', 'couple', 'principle', 'incredible', 'indicate', 'strict', 'opera', 'continuing', 'how', 'tobacco', 'likewise', 'funding', 'vision', 'introduce', 'subsidy', 'agreement', 'wealth', 'child', 'phone', 'federal', 'appropriate', 'holiday', 'possibility', 'difference', 'gray', 'document', 'shirt', 'everything', 'review', 'always', 'beast', 'contrast', 'ambitious', 'provision', 'this', 'damn', 'initial', 'accept', 'corporate', 'coming', 'deal', 'firm', 'get', 'scope', 'productivity', 'stand', 'planning', 'magnitude', 'relief', 'substantially', 'want', 'airplane', 'gay', 'somebody', 'impulse', 'acknowledge', 'formal', 'approve', 'amendment', 'him', 'success', 'cable', 'existing', 'name', 'fund', 'but', 'concern', 'ask', 'creation', 'sentiment', 'currency', 'address', 'decent', 'present', 'flight', 'fit', 'street', 'spending', 'that', 'maintain', 'presumably', 'appeal', 'altogether', 'can', 'reserve', 'resemble', 'idea', 'prior', 'satisfy', 'implement', 'propose', 'same', 'balanced', 'pension', 'thank', 'surprisingly', 'statue', 'respect', 'order', 'shall', 'airline', 'tax', 'customer', 'particular', 'flat', 'rely', 'convince', 'rate', 'cost', 'trading', 'supposed', 'criticize', 'specifically', 'option', 'remark', 'differently', 'confidence', 'alliance', 'assistance', 'favor', 'declare', 'care', 'current', 'revelation', 'have', 'valid', 'perhaps', 'given', 'all', 'involve', 'remind', 'similar', 'hardly', 'better', 'fully', 'meaning', 'acceptable', 'recently', 'question', 'divine', 'profit', 'rise', 'meet', 'think', 'ticket', 'purchase', 'your', 'sign', 'dear', 'save', 'discourage', 'here', 'ordinary', 'endorse', 'trim', 'tough', 'now', 'bit', 'precisely', 'makeup', 'bid', 'legislature', 'stance', 'bride', 'anticipate', 'extraordinary', 'willingness', 'strong', 'take', 'intention', 'union', 'direct', 'perceive', 'symbol', 'bush', 'notion', 'detailed', 'compromise', 'phrase', 'include', 'book', 'simply', 'dignity', 'nothing', 'follow', 'contract', 'symbolic', 'her', 'bill', 'attitude', 'fairly', 'rid', 'incentive', 'willing', 'elaborate', 'purpose', 'cancel', 'the', 'ourselves', 'choice', 'threshold', 'raise', 'entitle', 'decline', 'prompt', 'own', 'successful']\n",
      "Words for word orange, hash 544: ['exchange', 'dried', 'holy', 'day', 'tolerance', 'abroad', 'bowl', 'exhibition', 'debut', 'acquire', 'wild', 'motivate', 'signal', 'peace', 'soften', 'speech', 'cover', 'catch', 'various', 'fold', 'switch', 'game', 'from', 'afternoon', 'opt', 'treaty', 'enable', 'free', 'laugh', 'reception', 'just', 'steam', 'peasant', 'onto', 'faculty', 'appreciation', 'ready', 'message', 'pace', 'blue', 'meal', 'read', 'style', 'confuse', 'sail', 'spend', 'cast', 'tide', 'programming', 'fifty', 'cruise', 'corn', 'globe', 'initiative', 'display', 'fade', 'accommodate', 'slowly', 'time', 'dialogue', 'content', 'softly', 'three', 'different', 'moderate', 'win', 'poetry', 'few', 'concert', 'band', 'language', 'celebration', 'kick', 'art', 'background', 'independence', 'arrival', 'each', 'reinforce', 'promising', 'extra', 'receive', 'plus', 'live', 'roll', 'invite', 'addition', 'version', 'birthday', 'pause', 'gentle', 'stage', 'note', 'aside', 'unity', 'forth', 'momentum', 'and', 'greet', 'edition', 'kiss', 'imagination', 'atmosphere', 'one-third', 'video', 'incorporate', 'tune', 'edit', 'influential', 'prepare', 'turkey', 'stir', 'craft', 'annually', 'kneel', 'chocolate', 'writing', 'fewer', 'gain', 'conversion', 'set', 'recording', 'format', 'jazz', 'excitement', 'lift', 'two-thirds', 'authorize', 'slap', 'dedicate', 'while', 'build', 'off', 'pop', 'whisper', 'steadily', 'juice', 'shade', 'available', 'suck', 'spread', 'encouraging', 'run', 'wine', 'below', 'slightly', 'feed', 'theater', 'speak', 'brave', 'warm', 'twentieth', 'spirit', 'period', 'trick', 'debate', 'employ', 'session', 'forward', 'small', 'dare', 'cartoon', 'touch', 'regular', 'morning', 'try', 'hello', 'tender', 'elect', 'short', 'contemporary', 'away', 'student', 'invitation', 'late', 'painting', 'offering', 'program', 'manipulate', 'them', 'volunteer', 'combine', 'participate', 'pen', 'inspiration', 'guest', 'praise', 'goal', 'broad', 'sexuality', 'broadcast', 'breath', 'minute', 'sunlight', 'finish', 'pitch', 'mix', 'final', 'twice', 'grab', 'closer', 'democracy', 'winter', 'scientific', 'conversation', 'preparation', 'visit', 'colorful', 'lead', 'gaze', 'weekend', 'constantly', 'shuttle', 'embrace', 'song', 'boast', 'hand', 'fast', 'freely', 'pour', 'admission', 'opening', 'citizenship', 'transfer', 'earn', 'spectrum', 'glory', 'orange', 'drown', 'enthusiasm', 'native', 'touchdown', 'select', 'communicate', 'reading', 'resist', 'eager', 'reader', 'eat', 'half', 'progressive', 'join', 'swell', 'handful', 'originally', 'eight', 'begin', 'bunch', 'generate', 'custom', 'drawing', 'monthly', 'pad', 'wind', 'poem', 'philosophical', 'candle', 'guidance', 'chill', 'thanks', 'out', 'fun', 'canvas', 'reply', 'hot', 'living', 'urge', 'bottle', 'leap', 'mainstream', 'bright', 'comedy', 'exhibit', 'wide', 'decorate', 'steady', 'start', 'hour', 'thousand', 'swing', 'add', 'back', 'fine', 'drama', 'delivery', 'core', 'dark', 'permission', 'past', 'compose', 'successfully', 'gesture', 'tie', 'contest', 'every', 'troop', 'soap', 'space', 'sky', 'first', 'host', 'breeze', 'use', 'lecture', 'accompany', 'tone', 'persuade', 'place', 'boil', 'streak', 'breakfast', 'instead', 'nine', 'electronic', 'fiction', 'traditionally', 'channel', 'beer', 'pink', 'gradually', 'feature', 'popular', 'scholarship', 'shout', 'collect', 'record', 'fresh', 'tonight', 'prayer', 'absorb', 'million', 'extended', 'publish', 'pack', 'adult', 'dissolve', 'attract', 'weekly', 'actively', 'starting', 'era', 'favorite', 'cry', 'convention', 'roughly', 'closed', 'wipe', 'pound', 'primarily', 'pale', 'friendly', 'pick', 'soul', 'cup', 'audience', 'annual', 'wisdom', 'slot', 'stick', 'gathering', 'carry', 'six', 'write', 'twenty', 'prefer', 'hungry', 'summer', 'home', 'early', 'oppose', 'magazine', 'play', 'faint', 'resolution', 'before', 'cling', 'platform', 'rush', 'paint', 'consensus', 'rose', 'nod', 'settle', 'religion', 'script', 'pass', 'distribute', 'call', 'four', 'passage', 'encourage', 'additional', 'listener', 'quietly', 'magic', 'beef', 'fly', 'bold', 'rhetoric', \"o'clock\", 'clip', 'discussion', 'viewer', 'white', 'gasoline', 'rally', 'push', 'computer', 'harvest', 'candy', 'hold', 'ahead', 'draft', 'flag', 'revolution', 'down', 'written', 'reach', 'triumph', 'educate', 'essay', 'engage', 'teaching', 'happily', 'choose', 'seven', 'assemble', 'remaining', 'indigenous', 'convert', 'chance', 'presentation', 'scream', 'shove', 'exclusively', 'pray', 'preach', 'working', 'parade', 'recruit', 'extend', 'proclaim', 'amazing', 'smile', 'text', 'break', 'sound', 'together', 'welcome', 'continued', 'lesson', 'hug', 'draw', 'point', 'then', 'donate', 'celebrate', 'instant', 'echo', 'send', 'counter', 'line', 'depart', 'ceremony', 'bench', 'spring', 'attend', 'assembly', 'expedition', 'close', 'night', 'flying', 'studio', 'until', 'support', 'notebook', 'setting', 'with', 'two', 'cheer', 'advance', 'above', 'hard', 'deep', 'lunch', 'translate', 'introduction', 'sing', 'creative', 'evening', 'selected', 'curtain', 'restrict', 'arrive', 'round', 'shine', 'full-time', 'teach', 'black', 'paper', 'brief', 'deliver', 'oral', 'album', 'e-mail', 'green', 'suspend', 'red', 'perform', 'motion', 'through', 'mixed', 'march', 'simultaneously', 'seize', 'aim', 'typically', 'devote', 'between', 'warmth', 'barely', 'anniversary', 'shorts', 'soft', 'float', 'library', 'theology', 'passion', 'voice', 'snap', 'quick', 'midnight', 'age', 'alike', 'box', 'shower', 'cease', 'attempt', 'digital', 'assist', 'easy', 'soar', 'romantic', 'enjoy', 'noon', 'screen', 'reference', 'season', 'victory', 'peel', 'aisle', 'till', 'five', 'barrel', 'print', 'gather', 'delight', 'forty', 'unite', 'tea']\n",
      "Words for word banana, hash 8226: ['factor', 'root', 'regulate', 'limb', 'well-being', 'principal', 'normal', 'sin', 'lower', 'toe', 'grandchild', 'knowledge', 'mechanism', 'self-esteem', 'technical', 'administer', 'vital', 'portion', 'economist', 'cooperation', 'bend', 'blond', 'forehead', 'counselor', 'infant', 'enterprise', 'define', 'segment', 'expertise', 'cab', 'leather', 'nose', 'girl', 'ideal', 'skirt', 'regional', 'clinical', 'diamond', 'placement', 'ego', 'structural', 'theory', 'stable', 'beauty', 'dependent', 'tooth', 'exotic', 'disk', 'angel', 'jewelry', 'socially', 'sexy', 'bind', 'gut', 'sibling', 'glove', 'hormone', 'uh', 'regulator', 'elevator', 'bat', 'drawer', 'jaw', 'functional', 'bee', 'pant', 'distinct', 'molecule', 'ingredient', 'sensitive', 'skin', 'trait', 'oh', 'specialize', 'donor', 'snake', 'organizational', 'metaphor', 'participant', 'delicate', 'collar', 'resource', 'rat', 'demographic', 'competitive', 'assignment', 'entity', 'upper', 'spine', 'transform', 'banana', 'chef', 'adjustment', 'discipline', 'chunk', 'proper', 'unique', 'domain', 'associate', 'suitable', 'curve', 'evaluation', 'tumor', 'economically', 'organism', 'eye', 'managing', 'transformation', 'mortality', 'feather', 'significance', 'genetic', 'vendor', 'statistics', 'institution', 'grasp', 'natural', 'container', 'mouth', 'assign', 'structure', 'correlation', 'practitioner', 'branch', 'banker', 'characteristic', 'stability', 'tile', 'builder', 'hair', 'huh', 'indicator', 'sock', 'profession', 'realm', 'commodity', 'technological', 'liver', 'aesthetic', 'formula', 'chin', 'function', 'seller', 'gene', 'aspect', 'surgery', 'deposit', 'arm', 'throat', 'similarity', 'patient', 'shark', 'planet', 'sequence', 'beautiful', 'tourism', 'enhance', 'routine', 'typical', 'mask', 'nurse', 'automobile', 'ladder', 'asset', 'lovely', 'cheat', 'planner', 'rabbit', 'shoe', 'important', 'development']\n",
      "Words for word grape, hash 8738: ['jar', 'pig', 'finger', 'rub', 'grade', 'so-called', 'industrial', 'productive', 'thread', 'grape', 'math', 'refrigerator', 'tube', 'training', 'nail', 'accent', 'shelf', 'soup', 'elementary', 'seventh', 'honey', 'steak', 'poke', 'interact', 'plate', 'cheese', 'master', 'tip', 'tightly', 'physics', 'lip', 'pitcher', 'mouse', 'coordinate', 'athletic', 'experimental', 'hat', 'interaction', 'agricultural', 'hi', 'processing', 'corridor', 'screw', 'academic', 'flow', 'youngster', 'organic', 'sphere', 'collaboration', 'circle', 'chemistry', 'drill', 'spot', 'guideline', 'phase', 'method', 'rack', 'rim', 'leaf', 'eighth', 'hockey', 'flower', 'monkey', 'vegetable', 'architecture', 'fishing', 'ear', 'technology', 'elite', 'artificial', 'lab', 'river', 'rich', 'pie', 'professional', 'rope', 'science', 'bottom', 'inner', 'research', 'deer', 'formation', 'develop', 'medicine', 'belly', 'outer', 'exam', 'textbook', 'university', 'mathematics', 'fruit', 'spoon', 'hip', 'engineering', 'tray', 'whale', 'basket', 'orientation', 'goat', 'hang', 'tongue', 'horn', 'ice', 'duck', 'salmon', 'dancer', 'spin', 'fur', 'fork', 'dynamic', 'ass', 'bow', 'classical', 'weave', 'curriculum', 'psychology', 'shit', 'fish', 'tap', 'integrated', 'sixth', 'secondary', 'tiny', 'ah', 'salad', 'protein', 'tuck', 'robot', 'dessert', 'pizza', 'biology', 'sandwich', 'cooperative', 'junior', 'economics', 'needle', 'specialty']\n",
      "Words for word fruit, hash 8738: ['jar', 'pig', 'finger', 'rub', 'grade', 'so-called', 'industrial', 'productive', 'thread', 'grape', 'math', 'refrigerator', 'tube', 'training', 'nail', 'accent', 'shelf', 'soup', 'elementary', 'seventh', 'honey', 'steak', 'poke', 'interact', 'plate', 'cheese', 'master', 'tip', 'tightly', 'physics', 'lip', 'pitcher', 'mouse', 'coordinate', 'athletic', 'experimental', 'hat', 'interaction', 'agricultural', 'hi', 'processing', 'corridor', 'screw', 'academic', 'flow', 'youngster', 'organic', 'sphere', 'collaboration', 'circle', 'chemistry', 'drill', 'spot', 'guideline', 'phase', 'method', 'rack', 'rim', 'leaf', 'eighth', 'hockey', 'flower', 'monkey', 'vegetable', 'architecture', 'fishing', 'ear', 'technology', 'elite', 'artificial', 'lab', 'river', 'rich', 'pie', 'professional', 'rope', 'science', 'bottom', 'inner', 'research', 'deer', 'formation', 'develop', 'medicine', 'belly', 'outer', 'exam', 'textbook', 'university', 'mathematics', 'fruit', 'spoon', 'hip', 'engineering', 'tray', 'whale', 'basket', 'orientation', 'goat', 'hang', 'tongue', 'horn', 'ice', 'duck', 'salmon', 'dancer', 'spin', 'fur', 'fork', 'dynamic', 'ass', 'bow', 'classical', 'weave', 'curriculum', 'psychology', 'shit', 'fish', 'tap', 'integrated', 'sixth', 'secondary', 'tiny', 'ah', 'salad', 'protein', 'tuck', 'robot', 'dessert', 'pizza', 'biology', 'sandwich', 'cooperative', 'junior', 'economics', 'needle', 'specialty']\n",
      "Words for word cheese, hash 8738: ['jar', 'pig', 'finger', 'rub', 'grade', 'so-called', 'industrial', 'productive', 'thread', 'grape', 'math', 'refrigerator', 'tube', 'training', 'nail', 'accent', 'shelf', 'soup', 'elementary', 'seventh', 'honey', 'steak', 'poke', 'interact', 'plate', 'cheese', 'master', 'tip', 'tightly', 'physics', 'lip', 'pitcher', 'mouse', 'coordinate', 'athletic', 'experimental', 'hat', 'interaction', 'agricultural', 'hi', 'processing', 'corridor', 'screw', 'academic', 'flow', 'youngster', 'organic', 'sphere', 'collaboration', 'circle', 'chemistry', 'drill', 'spot', 'guideline', 'phase', 'method', 'rack', 'rim', 'leaf', 'eighth', 'hockey', 'flower', 'monkey', 'vegetable', 'architecture', 'fishing', 'ear', 'technology', 'elite', 'artificial', 'lab', 'river', 'rich', 'pie', 'professional', 'rope', 'science', 'bottom', 'inner', 'research', 'deer', 'formation', 'develop', 'medicine', 'belly', 'outer', 'exam', 'textbook', 'university', 'mathematics', 'fruit', 'spoon', 'hip', 'engineering', 'tray', 'whale', 'basket', 'orientation', 'goat', 'hang', 'tongue', 'horn', 'ice', 'duck', 'salmon', 'dancer', 'spin', 'fur', 'fork', 'dynamic', 'ass', 'bow', 'classical', 'weave', 'curriculum', 'psychology', 'shit', 'fish', 'tap', 'integrated', 'sixth', 'secondary', 'tiny', 'ah', 'salad', 'protein', 'tuck', 'robot', 'dessert', 'pizza', 'biology', 'sandwich', 'cooperative', 'junior', 'economics', 'needle', 'specialty']\n",
      "Words for word plane, hash 0: ['rival', 'respondent', 'surveillance', 'hate', 'discrimination', 'loyal', 'subsequent', 'due', 'unfortunately', 'interview', 'jury', 'defeat', 'admit', 'kingdom', 'disabled', 'leader', 'funeral', 'victim', 'conflict', 'priest', 'drinking', 'there', 'justify', 'exception', 'instantly', 'pat', 'destruction', 'shortage', 'plane', 'lack', 'violent', 'emotion', 'opposed', 'supporter', 'civil', 'columnist', 'control', 'being', 'war', 'trial', 'anger', 'despite', 'labor', 'likelihood', 'fraud', 'sorry', 'foreigner', 'enforcement', 'rarely', 'weather', 'sufficient', 'treatment', 'others', 'clear', 'liability', 'handle', 'slavery', 'sir', 'land', 'ill', 'attention', 'ruling', 'after', 'responsible', 'totally', 'abuse', 'costly', 'sight', 'civilian', 'wrong', 'anywhere', 'terrorist', 'under', 'remain', 'death', 'celebrity', 'husband', 'suffer', 'lawsuit', 'battle', 'information', 'confront', 'official', 'concrete', 'panic', 'sue', 'hostile', 'pickup', 'hurt', 'serious', 'newspaper', 'advocate', 'church', 'spill', 'confirm', 'aware', 'verdict', 'fear', 'power', 'illness', 'practically', 'force', 'argument', 'safety', 'driving', 'explanation', 'shock', 'reportedly', 'penalty', 'blame', 'palace', 'justice', 'minority', 'immediately', 'involvement', 'source', 'warning', 'criminal', 'either', 'dirty', 'ballot', 'delay', 'contend', 'validity', 'government', 'longtime', 'politics', 'counsel', 'secret', 'nasty', 'unless', 'residence', 'disturbing', 'protection', 'minimize', 'dying', 'mail', 'hall', 'completely', 'hurricane', 'guilt', 'dead', 'render', 'sexual', 'estimated', 'dismiss', 'truck', 'withdrawal', 'irony', 'former', 'number', 'tolerate', 'seat', 'courtroom', 'avoid', 'perceived', 'election', 'majority', 'scared', 'engine', 'seriously', 'depression', 'accuse', 'conservative', 'numerous', 'offense', 'however', 'ideological', 'elsewhere', 'often', 'electricity', 'major', 'rare', 'response', 'security', 'seemingly', 'fight', 'increasingly', 'profile', 'medication', 'coverage', 'none', 'tragic', 'hearing', 'car', 'against', 'comment', 'apparent', 'struggle', 'resign', 'waste', 'toll', 'house', 'loss', 'internal', 'who', 'entirely', 'alcohol', 'object', 'moral', 'impossible', 'event', 'state', 'eliminate', 'detail', 'related', 'overcome', 'storm', 'office', 'military', 'visible', 'embarrassed', 'harm', 'stiff', 'charge', 'incident', 'responsibility', 'controversy', 'critic', 'equally', 'shame', 'noise', 'cope', 'die', 'terrorism', 'mayor', 'mild', 'monument', 'bitter', 'punish', 'stadium', 'challenge', 'tired', 'adequate', 'frustration', 'drunk', 'conviction', 'relieve', 'condemn', 'service', 'publisher', 'neither', 'endure', 'judge', 'controversial', 'later', 'face', 'coach', 'racism', 'deny', 'cigarette', 'tension', 'suspicion', 'failure', 'fatigue', 'bombing', 'confession', 'court', 'angry', 'possible', 'anyone', 'denial', 'story', 'afterward', 'uncomfortable', 'describe', 'reporting', 'squad', 'danger', 'spite', 'client', 'law', 'whose', 'century', 'critical', 'mistake', 'prove', 'housing', 'file', 'brutal', 'punishment', 'conspiracy', 'obvious', 'editor', 'defend', 'constitute', 'personnel', 'considerable', 'excessive', 'widespread', 'bishop', 'constitutional', 'plot', 'media', 'scare', 'widow', 'although', 'attorney', 'witness', 'violence', 'slave', 'emotional', 'allegedly', 'evidence', 'bury', 'another', 'privacy', 'lawyer', 'suicide', 'shell', 'since', 'press', 'frequent', 'random', 'privilege', 'deliberately', 'specify', 'crew', 'occupation', 'harassment', 'involved', 'alarm', 'concerning', 'truth', 'boss', 'race', 'deeply', 'publicity', 'political', 'replace', 'joke', 'absolute', 'cruel', 'afraid', 'presence', 'apparently', 'reaction', 'king', 'ridiculous', 'provoke', 'behind', 'consequence', 'virtually', 'conduct', 'according', 'withdraw', 'independent', 'behavior', 'execution', 'devastating', 'removal', 'potential', 'rapid', 'separate', 'immediate', 'potentially', 'inevitable', 'plead', 'overwhelming', 'prevent', 'criticism', 'result', 'sexually', 'everywhere', 'illegal', 'people', 'whom', 'blow', 'legal', 'anxiety', 'politically', 'legitimate', 'flood', 'anonymous', 'treat', 'horror', 'diary', 'testimony', 'hostage', 'awful', 'nobody', 'complain', 'widely', 'heavily', 'empty', 'supposedly', 'accusation', 'homeless', 'excuse', 'damage', 'mutter', 'action', 'sanction', 'guilty', 'tragedy', 'racial', 'warn', 'badly', 'homeland', 'flee', 'presidential', 'deadly', 'violation', 'democratic', 'complaint', 'extreme', 'public', 'threat', 'thoroughly', 'bloody', 'senator', 'rule', 'disaster', 'report', 'following', 'grief', 'article', 'prosecution', 'coup', 'confusion', 'suspicious', 'suffering', 'constant', 'claim', 'palm', 'construction', 'staff', 'cabin', 'emergency', 'voter', 'infrastructure', 'distract', 'himself', 'furniture', 'testify', 'endless', 'temporary', 'building', 'colonial', 'abortion', 'partially', 'safe', 'ethics', 'police', 'harsh', 'regime', 'experienced', 'possibly', 'otherwise', 'fortunately', 'absolutely', 'tactic', 'missing', 'quiet', 'stupid', 'particularly', 'vulnerable', 'authority', 'terror', 'news', 'aggression', 'killing', 'quit', 'desperate', 'repeatedly', 'upset', 'severely', 'nor', 'largely', 'reminder', 'royal', 'pressure', 'confrontation', 'elderly', 'murder', 'pain', 'ironically', 'severe', 'previously', 'prime', 'calm', 'humanity', 'extent', 'massive', 'dump', 'corruption', 'terrible', 'found', 'arrest', 'memory', 'coalition', 'juror', 'alleged', 'spokesman', 'proof']\n",
      "Words for word train, hash 8704: ['town', 'refuge', 'barrier', 'surround', 'accessible', 'northern', 'western', 'cattle', 'southern', 'dirt', 'nearby', 'rough', 'southwest', 'eastern', 'compound', 'dry', 'southeast', 'train', 'outdoor', 'mountain', 'area', 'tribal', 'bath', 'mud', 'soccer', 'northwest', 'virtual', 'mount', 'wet', 'near', 'sidewalk', 'journal', 'suburb', 'dust', 'entrance', 'east', 'remote', 'downtown', 'open', 'fence', 'center', 'side', 'tent', 'grass', 'wilderness', 'outside', 'rip', 'beneath', 'sweep', 'backyard', 'crowded', 'walking', 'crack', 'desert', 'edge', 'border', 'strip', 'dense', 'frontier', 'zone', 'west', 'jungle', 'stretch', 'lawn', 'cluster', 'corner', 'camp', 'campus', 'forest', 'log', 'where', 'ash', 'inside', 'blast', 'continuous', 'hill']\n",
      "Words for word universe, hash 8224: ['ranch', 'midst', 'envision', 'bug', 'depressed', 'community', 'gender', 'click', 'insight', 'cat', 'interpret', 'crawl', 'convenience', 'okay', 'consult', 'illusion', 'regulatory', 'history', 'association', 'mutual', 'stimulate', 'strictly', 'hopefully', 'tree', 'discuss', 'application', 'twist', 'ie', 'dictate', 'consciousness', 'bull', 'reservation', 'evaluate', 'undermine', 'breathing', 'pillow', 'lifestyle', 'innovation', 'pattern', 'door', 'negotiate', 'premise', 'insurance', 'assess', 'society', 'rational', 'toy', 'initiate', 'pursue', 'growth', 'provider', 'global', 'cute', 'international', 'uncertain', 'gym', 'path', 'trust', 'counseling', 'baseball', 'risky', 'negotiation', 'historical', 'calendar', 'lobby', 'integration', 'spectacular', 'auto', 'thrive', 'underlying', 'national', 'qualify', 'doll', 'miss', 'tour', 'mortgage', 'attraction', 'straighten', 'boy', 'shrug', 'retail', 'disturb', 'fragile', 'shopping', 'undergo', 'discount', 'regulation', 'drag', 'baby', 'reverse', 'thing', 'manager', 'farm', 'rental', 'hurry', 'bankruptcy', 'bed', 'anymore', 'championship', 'universe', 'unfold', 'definitely', 'discovery', 'examine', 'sigh', 'ultimate', 'process', 'find', 'spell', 'essence', 'nowhere', 'crisis', 'charity', 'ride', 'steep', 'improvement', 'stranger', 'cottage', 'part', 'itself', 'motivation', 'scenario', 'parent', 'climate', 'somewhere', 'floor', 'ecosystem', 'industry', 'painful', 'tighten', 'foundation', 'interpretation', 'finding', 'depend', 'horizon', 'transaction', 'traveler', 'software', 'entertainment', 'realize', 'sofa', 'understanding', 'scan', 'grocery', 'pretend', 'transit', 'pregnancy', 'commercial', 'tendency', 'organization', 'instinct', 'recovery', 'relax', 'busy', 'affect', 'crucial', 'perspective', 'bird', 'estate', 'conscious', 'retailer', 'arrangement', 'loan', 'freeze', 'patch', 'voluntary', 'emerge', 'giant', 'exit', 'casino', 'inevitably', 'interrupt', 'fascinating', 'chase', 'belong', 'boom', 'conclude', 'joint', 'skip', 'sweat', 'miracle', 'key', 'entire', 'interesting', 'narrow', 'health', 'conception', 'check', 'characterize', 'homework', 'await', 'adoption', 'ok', 'prospect', 'become', 'restaurant', 'discover', 'employer', 'recover', 'bear', 'difficult', 'thumb', 'shake', 'equity', 'business', 'establish', 'management', 'long-term', 'wall', 'bubble', 'wow', 'cultural', 'vacation', 'puzzle', 'clue', 'criteria', 'nonprofit', 'institutional', 'real', 'auction', 'economic', 'weird', 'shadow', 'sustainable', 'childhood', 'squeeze', 'outcome', 'landmark', 'oversee', 'fundamental', 'dot', 'gap', 'chapter', 'chew', 'manage', 'bank', 'myth', 'franchise', 'cycle', 'dream', 'conceive', 'label', 'evolve', 'tight', 'animal', 'meaningful', 'common', 'grandparent', 'context', 'partnership', 'developer', 'mom', 'historic', 'visitor', 'happen', 'implementation', 'dining', 'invent', 'investment', 'behavioral', 'historically', 'banking', 'recession', 'course', 'shop', 'treasure', 'survival', 'plunge', 'forever', 'predict', 'troubled', 'trend', 'bet', 'heritage', 'pet', 'heal', 'hotel', 'cure', 'window', 'status', 'mood', 'venture', 'destination', 'impress', 'store', 'dynamics', 'exciting', 'short-term', 'hypothesis', 'nervous', 'reveal', 'accelerate', 'smell', 'quest', 'fair', 'relate', 'conservation', 'elephant', 'ours', 'closely', 'framework', 'broker', 'market', 'continent', 'competition', 'uncertainty', 'contemplate', 'relationship', 'activity', 'logical', 'chain', 'modify', 'project', 'migration', 'fashion', 'transition', 'golf', 'icon', 'resolve', 'resort', 'tomorrow', 'strengthen', 'lay', 'preserve', 'eyebrow', 'practice', 'scheme', 'team', 'study', 'sector', 'glance', 'evolution', 'diversity', 'colony', 'stumble', 'sort', 'frown', 'dog', 'nature', 'hike', 'online', 'someday', 'financial', 'cooperate', 'central', 'undertake', 'eating', 'partial', 'tournament', 'adolescent', 'tale', 'analyze', 'collective', 'credit', 'disappear']\n",
      "Words for word love, hash 32: ['one', 'increased', 'sink', 'hear', 'alone', 'taxpayer', 'should', 'forgive', 'surprise', 'food', 'quickly', 'expansion', 'for', 'patent', 'consistently', 'room', 'poverty', 'enforce', 'openly', 'next', 'regard', 'advise', 'limit', 'yourself', 'especially', 'positive', 'anything', 'move', 'myself', 'exercise', 'besides', 'liberty', 'bonus', 'reflection', 'increase', 'allow', 'previous', 'approval', 'unhappy', 'fact', 'conscience', 'expand', 'fall', 'frankly', 'secure', 'legally', 'swear', 'provided', 'assumption', 'civic', 'reject', 'many', 'unprecedented', 'somewhat', 'expected', 'unlikely', 'sometime', 'unusual', 'about', 'proposal', 'interested', 'tremendous', 'unexpected', 'determination', 'year', 'outline', 'rent', 'stay', 'standing', 'intent', 'appearance', 'amount', 'wonder', 'publication', 'deadline', 'officially', 'world', 'strategy', 'credibility', 'seldom', 'doubt', 'collection', 'large', 'requirement', 'acquisition', 'tend', 'attendance', 'compliance', 'believe', 'view', 'country', 'moreover', 'diminish', 'guess', 'actually', 'wonderful', 'assume', 'assessment', 'party', 'govern', 'last', 'drop', 'ought', 'repeat', 'work', 'luck', 'feeling', 'hire', 'rebuild', 'sale', 'fantastic', 'well', 'tell', 'projection', 'silly', 'earnings', 'wait', 'permanent', 'estimate', 'considerably', 'forbid', 'demand', 'necessary', 'rest', 'look', 'budget', 'bad', 'commission', 'assure', 'amid', 'excited', 'joy', 'crazy', 'fantasy', 'carefully', 'admire', 'expectation', 'buy', 'original', 'catalog', 'agenda', 'yeah', 'effectively', 'latter', 'surprised', 'love', 'ease', 'family', 'acceptance', 'realistic', 'availability', 'required', 'mind', 'huge', 'advantage', 'blessing', 'nevertheless', 'reason', 'argue', 'copy', 'glad', 'apply', 'react', 'certain', 'without', 'shift', 'ceiling', 'though', 'future', 'right', 'yes', 'weak', 'scary', 'judgment', 'welfare', 'value', 'rescue', 'sympathy', 'finally', 'worried', 'soon', 'merely', 'usual', 'reward', 'scale', 'honest', 'retire', 'commitment', 'maybe', 'measure', 'pregnant', 'campaign', 'recommend', 'pull', 'significantly', 'appreciate', 'worldwide', 'objection', 'somehow', 'give', 'put', 'enough', 'fare', 'effort', 'expensive', 'today', 'utility', 'guarantee', 'pay', 'deficit', 'intimate', 'reasonable', 'recommendation', 'importantly', 'preliminary', 'difficulty', 'presidency', 'issue', 'prevail', 'regardless', 'compel', 'saving', 'basically', 'explain', 'recognize', 'payment', 'inform', 'meanwhile', 'preference', 'keep', 'substantial', 'sure', 'decade', 'happiness', 'uniform', 'why', 'everyone', 'comparison', 'diplomatic', 'economy', 'effect', 'operating', 'establishment', 'watch', 'brown', 'wage', 'grin', 'illustrate', 'far', 'convinced', 'odds', 'package', 'fiscal', 'meantime', 'ever', 'comply', 'actual', 'wish', 'show', 'sometimes', 'poor', 'newly', 'solely', 'bless', 'consent', 'hey', 'card', 'neutral', 'plenty', 'indication', 'impression', 'eligible', 'plea', 'whenever', 'talk', 'regarding', 'will', 'see', 'price', 'his', 'yours', 'say', 'sick', 'she', 'exactly', 'invest', 'which', 'intend', 'confident', 'stock', 'dramatically', 'everybody', 'what', 'way', 'concept', 'reform', 'engagement', 'advertising', 'unlike', 'policy', 'ago', 'screening', 'enact', 'blanket', 'retain', 'odd', 'honor', 'limited', 'healthy', 'lots', 'net', 'weigh', 'pride', 'continue', 'respond', 'membership', 'similarly', 'cut', 'mention', 'seem', 'committee', 'seek', 'themselves', 'eventually', 'cap', 'fill', 'satisfaction', 'grow', 'nomination', 'release', 'could', 'stuff', 'not', 'obviously', 'perception', 'courage', 'mandate', 'congressional', 'minimum', 'comfort', 'wear', 'stimulus', 'require', 'whole', 'regret', 'request', 'gift', 'ignore', 'cheap', 'else', 'trade', 'strongly', 'worth', 'progress', 'happy', 'certainly', 'surprising', 'whether', 'popularity', 'pleased', 'prediction', 'theme', 'help', 'nice', 'split', 'desperately', 'disappointed', 'self', 'make', 'mission', 'necessity', 'ownership', 'suggest', 'group', 'partly', 'privately', 'participation', 'opinion', 'poster', 'license', 'loyalty', 'swallow', 'employment', 'lose', 'concerned', 'might', 'mirror', 'thought', 'less', 'casual', 'disclose', 'very', 'little', 'represent', 'big', 'apologize', 'retirement', 'ultimately', 'exclude', 'donation', 'mean', 'aggressive', 'travel', 'wake', 'someone', 'letter', 'empire', 'occasion', 'term', 'money', 'account', 'step', 'surely', 'consideration', 'suggestion', 'sharp', 'ensure', 'statement', 'lately', 'they', 'departure', 'really', 'provide', 'bring', 'offer', 'emphasize', 'decision', 'faith', 'adopt', 'significant', 'recent', 'because', 'fee', 'promise', 'submit', 'experience', 'you', 'assert', 'hope', 'parental', 'questionnaire', 'birth', 'lost', 'disagree', 'sales', 'vote', 'revenue', 'interest', 'some', 'focus', 'unemployment', 'boost', 'personally', 'familiar', 'impose', 'act', 'would', 'social', 'suit', 'optimistic', 'when', 'except', 'bell', 'user', 'understand', 'awareness', 'sell', 'example', 'survive', 'legacy', 'end', 'administration', 'chairman', 'ban', 'only', 'share', 'enormous', 'remember', 'compare', 'leadership', 'pleasure', 'consumer', 'divorce', 'publicly', 'careful', 'comfortable', 'still', 'once', 'reluctant', 'board', 'basis', 'generous', 'proposed', 'something', 'adapt', 'domestic', 'brand', 'portray', 'specific', 'sake', 'list', 'conclusion', 'thinking', 'shared', 'compensation', 'subject', 'foster', 'universal', 'product', 'contribute', 'expense', 'charter', 'dramatic', 'change', 'council', 'web', 'sustain', 'imagine', 'weaken', 'prescription', 'panel', 'need', 'bond', 'bite', 'feel', 'return', 'these', 'most', 'truly', 'lot', 'their', 'month', 'proud', 'legislative', 'deserve', 'generally', 'concede', 'know', 'clearly', 'rather', 'probably', 'picture', 'more', 'form', 'accounting', 'reality', 'full', 'movie', 'automatically', 'compete', 'profound', 'wedding', 'habit', 'come', 'plan', 'modest', 'rapidly', 'sharply', 'quite', 'commit', 'long', 'sense', 'necessarily', 'other', 'inflation', 'opportunity', 'imply', 'income', 'target', 'legislation', 'as', 'consider', 'marriage', 'word', 'everyday', 'announcement', 'ship', 'differ', 'bother', 'honestly', 'desire', 'inventory', 'anybody', 'succeed', 'sponsor', 'able', 'job', 'behalf', 'nation', 'definition', 'flexibility', 'both', 'evident', 'violate', 'private', 'complete', 'kind', 'data', 'shrink', 'demonstrate', 'ad', 'cabinet', 'grace', 'highlight', 'restore', 'those', 'notice', 'reduce', 'personal', 'intervention', 'clothes', 'pill', 'suppose', 'flesh', 'statute', 'whatever', 'please', 'shareholder', 'investor', 'changing', 'agree', 'expect', 'among', 'matter', 'even', 'upon', 'turn', 'margin', 'worry', 'supportive', 'like', 'advice', 'vaccine', 'survey', 'salary', 'equality', 'regain', 'added', 'fool', 'life', 'clothing', 'borrow', 'disappointment', 'proceed', 'finance', 'negative', 'image', 'meeting', 'selection', 'curiosity', 'grateful', 'buck', 'appear', 'headline', 'doctrine', 'insist', 'lend', 'marry', 'improve', 'good', 'belief', 'instance', 'president', 'weakness', 'recall', 'likely', 'alive', 'benefit', 'executive', 'directly', 'prohibit', 'fail', 'company', 'fame', 'afford', 'let', 'series', 'approach', 'express', 'terms', 'too', 'hers', 'never', 'code', 'may', 'slow', 'indeed', 'hesitate', 'emphasis', 'debt', 'compelling', 'appoint', 'operate', 'favorable', 'register', 'shed', 'sovereignty', 'answer', 'reflect', 'influence', 'billion', 'suddenly', 'cash', 'date', 'anxious', 'moment', 'drink', 'growing', 'nonetheless', 'permit', 'recognition', 'owe', 'its', 'quote', 'apple', 'again', 'forget', 'hint', 'almost', 'yet', 'accountability', 'sex', 'already', 'announce', 'genuine', 'grant', 'total', 'impact', 'such', 'new', 'essentially', 'beyond', 'quarter', 'stake', 'wagon', 'than', 'patience', 'speculation', 'pretty', 'any', 'premium', 'schedule', 'must', 'jeans', 'much', 'also', 'refuse', 're', 'anyway', 'appointment', 'episode', 'couple', 'principle', 'incredible', 'indicate', 'strict', 'opera', 'continuing', 'how', 'tobacco', 'likewise', 'funding', 'vision', 'introduce', 'subsidy', 'agreement', 'wealth', 'child', 'phone', 'federal', 'appropriate', 'holiday', 'possibility', 'difference', 'gray', 'document', 'shirt', 'everything', 'review', 'always', 'beast', 'contrast', 'ambitious', 'provision', 'this', 'damn', 'initial', 'accept', 'corporate', 'coming', 'deal', 'firm', 'get', 'scope', 'productivity', 'stand', 'planning', 'magnitude', 'relief', 'substantially', 'want', 'airplane', 'gay', 'somebody', 'impulse', 'acknowledge', 'formal', 'approve', 'amendment', 'him', 'success', 'cable', 'existing', 'name', 'fund', 'but', 'concern', 'ask', 'creation', 'sentiment', 'currency', 'address', 'decent', 'present', 'flight', 'fit', 'street', 'spending', 'that', 'maintain', 'presumably', 'appeal', 'altogether', 'can', 'reserve', 'resemble', 'idea', 'prior', 'satisfy', 'implement', 'propose', 'same', 'balanced', 'pension', 'thank', 'surprisingly', 'statue', 'respect', 'order', 'shall', 'airline', 'tax', 'customer', 'particular', 'flat', 'rely', 'convince', 'rate', 'cost', 'trading', 'supposed', 'criticize', 'specifically', 'option', 'remark', 'differently', 'confidence', 'alliance', 'assistance', 'favor', 'declare', 'care', 'current', 'revelation', 'have', 'valid', 'perhaps', 'given', 'all', 'involve', 'remind', 'similar', 'hardly', 'better', 'fully', 'meaning', 'acceptable', 'recently', 'question', 'divine', 'profit', 'rise', 'meet', 'think', 'ticket', 'purchase', 'your', 'sign', 'dear', 'save', 'discourage', 'here', 'ordinary', 'endorse', 'trim', 'tough', 'now', 'bit', 'precisely', 'makeup', 'bid', 'legislature', 'stance', 'bride', 'anticipate', 'extraordinary', 'willingness', 'strong', 'take', 'intention', 'union', 'direct', 'perceive', 'symbol', 'bush', 'notion', 'detailed', 'compromise', 'phrase', 'include', 'book', 'simply', 'dignity', 'nothing', 'follow', 'contract', 'symbolic', 'her', 'bill', 'attitude', 'fairly', 'rid', 'incentive', 'willing', 'elaborate', 'purpose', 'cancel', 'the', 'ourselves', 'choice', 'threshold', 'raise', 'entitle', 'decline', 'prompt', 'own', 'successful']\n",
      "Words for word anger, hash 0: ['rival', 'respondent', 'surveillance', 'hate', 'discrimination', 'loyal', 'subsequent', 'due', 'unfortunately', 'interview', 'jury', 'defeat', 'admit', 'kingdom', 'disabled', 'leader', 'funeral', 'victim', 'conflict', 'priest', 'drinking', 'there', 'justify', 'exception', 'instantly', 'pat', 'destruction', 'shortage', 'plane', 'lack', 'violent', 'emotion', 'opposed', 'supporter', 'civil', 'columnist', 'control', 'being', 'war', 'trial', 'anger', 'despite', 'labor', 'likelihood', 'fraud', 'sorry', 'foreigner', 'enforcement', 'rarely', 'weather', 'sufficient', 'treatment', 'others', 'clear', 'liability', 'handle', 'slavery', 'sir', 'land', 'ill', 'attention', 'ruling', 'after', 'responsible', 'totally', 'abuse', 'costly', 'sight', 'civilian', 'wrong', 'anywhere', 'terrorist', 'under', 'remain', 'death', 'celebrity', 'husband', 'suffer', 'lawsuit', 'battle', 'information', 'confront', 'official', 'concrete', 'panic', 'sue', 'hostile', 'pickup', 'hurt', 'serious', 'newspaper', 'advocate', 'church', 'spill', 'confirm', 'aware', 'verdict', 'fear', 'power', 'illness', 'practically', 'force', 'argument', 'safety', 'driving', 'explanation', 'shock', 'reportedly', 'penalty', 'blame', 'palace', 'justice', 'minority', 'immediately', 'involvement', 'source', 'warning', 'criminal', 'either', 'dirty', 'ballot', 'delay', 'contend', 'validity', 'government', 'longtime', 'politics', 'counsel', 'secret', 'nasty', 'unless', 'residence', 'disturbing', 'protection', 'minimize', 'dying', 'mail', 'hall', 'completely', 'hurricane', 'guilt', 'dead', 'render', 'sexual', 'estimated', 'dismiss', 'truck', 'withdrawal', 'irony', 'former', 'number', 'tolerate', 'seat', 'courtroom', 'avoid', 'perceived', 'election', 'majority', 'scared', 'engine', 'seriously', 'depression', 'accuse', 'conservative', 'numerous', 'offense', 'however', 'ideological', 'elsewhere', 'often', 'electricity', 'major', 'rare', 'response', 'security', 'seemingly', 'fight', 'increasingly', 'profile', 'medication', 'coverage', 'none', 'tragic', 'hearing', 'car', 'against', 'comment', 'apparent', 'struggle', 'resign', 'waste', 'toll', 'house', 'loss', 'internal', 'who', 'entirely', 'alcohol', 'object', 'moral', 'impossible', 'event', 'state', 'eliminate', 'detail', 'related', 'overcome', 'storm', 'office', 'military', 'visible', 'embarrassed', 'harm', 'stiff', 'charge', 'incident', 'responsibility', 'controversy', 'critic', 'equally', 'shame', 'noise', 'cope', 'die', 'terrorism', 'mayor', 'mild', 'monument', 'bitter', 'punish', 'stadium', 'challenge', 'tired', 'adequate', 'frustration', 'drunk', 'conviction', 'relieve', 'condemn', 'service', 'publisher', 'neither', 'endure', 'judge', 'controversial', 'later', 'face', 'coach', 'racism', 'deny', 'cigarette', 'tension', 'suspicion', 'failure', 'fatigue', 'bombing', 'confession', 'court', 'angry', 'possible', 'anyone', 'denial', 'story', 'afterward', 'uncomfortable', 'describe', 'reporting', 'squad', 'danger', 'spite', 'client', 'law', 'whose', 'century', 'critical', 'mistake', 'prove', 'housing', 'file', 'brutal', 'punishment', 'conspiracy', 'obvious', 'editor', 'defend', 'constitute', 'personnel', 'considerable', 'excessive', 'widespread', 'bishop', 'constitutional', 'plot', 'media', 'scare', 'widow', 'although', 'attorney', 'witness', 'violence', 'slave', 'emotional', 'allegedly', 'evidence', 'bury', 'another', 'privacy', 'lawyer', 'suicide', 'shell', 'since', 'press', 'frequent', 'random', 'privilege', 'deliberately', 'specify', 'crew', 'occupation', 'harassment', 'involved', 'alarm', 'concerning', 'truth', 'boss', 'race', 'deeply', 'publicity', 'political', 'replace', 'joke', 'absolute', 'cruel', 'afraid', 'presence', 'apparently', 'reaction', 'king', 'ridiculous', 'provoke', 'behind', 'consequence', 'virtually', 'conduct', 'according', 'withdraw', 'independent', 'behavior', 'execution', 'devastating', 'removal', 'potential', 'rapid', 'separate', 'immediate', 'potentially', 'inevitable', 'plead', 'overwhelming', 'prevent', 'criticism', 'result', 'sexually', 'everywhere', 'illegal', 'people', 'whom', 'blow', 'legal', 'anxiety', 'politically', 'legitimate', 'flood', 'anonymous', 'treat', 'horror', 'diary', 'testimony', 'hostage', 'awful', 'nobody', 'complain', 'widely', 'heavily', 'empty', 'supposedly', 'accusation', 'homeless', 'excuse', 'damage', 'mutter', 'action', 'sanction', 'guilty', 'tragedy', 'racial', 'warn', 'badly', 'homeland', 'flee', 'presidential', 'deadly', 'violation', 'democratic', 'complaint', 'extreme', 'public', 'threat', 'thoroughly', 'bloody', 'senator', 'rule', 'disaster', 'report', 'following', 'grief', 'article', 'prosecution', 'coup', 'confusion', 'suspicious', 'suffering', 'constant', 'claim', 'palm', 'construction', 'staff', 'cabin', 'emergency', 'voter', 'infrastructure', 'distract', 'himself', 'furniture', 'testify', 'endless', 'temporary', 'building', 'colonial', 'abortion', 'partially', 'safe', 'ethics', 'police', 'harsh', 'regime', 'experienced', 'possibly', 'otherwise', 'fortunately', 'absolutely', 'tactic', 'missing', 'quiet', 'stupid', 'particularly', 'vulnerable', 'authority', 'terror', 'news', 'aggression', 'killing', 'quit', 'desperate', 'repeatedly', 'upset', 'severely', 'nor', 'largely', 'reminder', 'royal', 'pressure', 'confrontation', 'elderly', 'murder', 'pain', 'ironically', 'severe', 'previously', 'prime', 'calm', 'humanity', 'extent', 'massive', 'dump', 'corruption', 'terrible', 'found', 'arrest', 'memory', 'coalition', 'juror', 'alleged', 'spokesman', 'proof']\n"
     ]
    }
   ],
   "source": [
    "compare_vocabulary_hashes('glove-wiki-gigaword-50', SuperBitLsh(hash_length=14, num_bits_per_batch=4), search_terms)"
   ]
  },
  {
   "cell_type": "code",
   "execution_count": 14,
   "metadata": {},
   "outputs": [
    {
     "name": "stdout",
     "output_type": "stream",
     "text": [
      "Comparing vocabulary hashes for glove-wiki-gigaword-50 embeddings model with HierarchicalLsh (num_levels=10)\n",
      "Embedding vocabulary of 4319 words\n",
      "Training hasher with all 4253 vocabulary embeddings\n",
      "Using 850 samples for hierarchical clustering\n",
      "Maximum HierarchicalClustering hash length: 10\n",
      "Hashing all 4253 vocabulary embeddings\n",
      "Words for word apple, hash 011011001: ['application', 'software', 'user', 'electronic', 'computer', 'apple', 'digital', 'hardware', 'database']\n",
      "Words for word orange, hash 110111001: ['orange', 'pale']\n",
      "Words for word banana, hash 1101111110: ['pig', 'grape', 'cattle', 'potato', 'cow', 'mushroom', 'nut', 'banana', 'feather', 'goat', 'duck', 'salmon', 'sheep', 'rabbit']\n",
      "Words for word grape, hash 1101111110: ['pig', 'grape', 'cattle', 'potato', 'cow', 'mushroom', 'nut', 'banana', 'feather', 'goat', 'duck', 'salmon', 'sheep', 'rabbit']\n",
      "Words for word fruit, hash 110111010: ['tree', 'patch', 'leaf', 'flower', 'oak', 'herb', 'fruit', 'pine', 'ribbon']\n",
      "Words for word cheese, hash 11001101: ['tomato', 'cheese', 'butter', 'bread']\n",
      "Words for word plane, hash 1011110111: ['plane', 'passenger', 'pilot', 'jet', 'aircraft', 'shuttle', 'helicopter', 'crew', 'crash', 'cabin', 'airplane', 'fighter']\n",
      "Words for word train, hash 1011011111: ['train', 'shopping', 'busy', 'downtown', 'suburban', 'crowded']\n",
      "Words for word universe, hash 1110011010: ['dimension', 'element', 'universe', 'sphere', 'complexity']\n",
      "Words for word love, hash 1111101000: ['brother', 'love', 'kiss', 'lover', 'friend', 'boyfriend', 'widow', 'soul', 'cousin', 'companion', 'girlfriend', 'aunt']\n",
      "Words for word anger, hash 0100100110: ['appreciation', 'anger', 'sympathy', 'praise']\n"
     ]
    }
   ],
   "source": [
    "compare_vocabulary_hashes('glove-wiki-gigaword-50', HierarchicalLsh(num_levels=10), search_terms)\n",
    "# note that this takes 60 seconds to run"
   ]
  },
  {
   "cell_type": "code",
   "execution_count": 15,
   "metadata": {},
   "outputs": [
    {
     "name": "stdout",
     "output_type": "stream",
     "text": [
      "Comparing vocabulary hashes for glove-wiki-gigaword-50 embeddings model with HierarchicalHyperplaneLsh(num_levels=10)\n",
      "Embedding vocabulary of 4319 words\n",
      "Training hasher with all 4253 vocabulary embeddings\n",
      "Using 4253 samples for hierarchical clustering\n",
      "Building hierarchy over 4253 data points\n",
      "Maximum HierarchicalClustering hash length: 13\n",
      "Enriching clusters with parents and levels and hyperplanes\n",
      "Hierarchical hyperplanes calculated\n",
      "Hashing all 4253 vocabulary embeddings\n",
      "Words for word apple, hash 000101110: ['peasant', 'corn', 'native', 'flower', 'lean', 'bean', 'apple', 'sugar']\n",
      "Words for word orange, hash 010110111: ['neck', 'blue', 'band', 'orange', 'queen', 'ugly', 'signature', 'label', 'outfit', 'flag', 'parade', 'red']\n",
      "Words for word banana, hash 000110110: ['banana', 'duck', 'salmon']\n",
      "Words for word grape, hash 0001000: ['grape', 'agriculture', 'spill', 'crop', 'grow', 'output', 'mineral', 'plant', 'natural', 'subsidy', 'supply', 'production', 'oil', 'strain', 'species']\n",
      "Words for word fruit, hash 0001001: ['wild', 'honey', 'annually', 'winter', 'bee', 'summer', 'fruit', 'harvest', 'spring', 'coal']\n",
      "Words for word cheese, hash 001111111: ['dried', 'lemon', 'tomato', 'cheese', 'juice', 'butter', 'flour', 'salt']\n",
      "Words for word plane, hash 111000101: ['plane', 'bomb', 'killing']\n",
      "Words for word train, hash 111000011: ['bus', 'train', 'path', 'dam', 'highway', 'rail', 'tunnel', 'exit', 'station', 'railroad', 'channel', 'drive', 'traffic', 'line', 'route']\n",
      "Words for word universe, hash 100111001: ['universe', 'ultimate', 'mention', 'fiction', 'essay', 'quest', 'invention']\n",
      "Words for word love, hash 101110110: ['celebrity', 'musical', 'love', 'servant', 'intimate', 'comfort', 'romance', 'poem', 'biography', 'critic', 'personality', 'story', 'dream', 'gifted', 'performer', 'character', 'icon', 'dear', 'voice', 'romantic', 'juror']\n",
      "Words for word anger, hash 100000001: ['unprecedented', 'anger', 'increasingly', 'controversy', 'intense', 'frustration', 'tension', 'widespread', 'violence', 'intervention', 'immediate', 'criticism', 'growing', 'concern', 'corruption']\n"
     ]
    }
   ],
   "source": [
    "compare_vocabulary_hashes('glove-wiki-gigaword-50', HierarchicalHyperplaneLsh(num_levels=10), search_terms)"
   ]
  },
  {
   "cell_type": "markdown",
   "metadata": {},
   "source": [
    "# Gensim similarity comparison"
   ]
  },
  {
   "cell_type": "code",
   "execution_count": 20,
   "metadata": {},
   "outputs": [],
   "source": [
    "def print_gensim_word_neighbourhood(word, embeddings_model_wrapper):\n",
    "    neighbourhood = []\n",
    "    for neighbourhood_word, _ in embeddings_model_wrapper.embeddings_model.most_similar(word, topn=20):\n",
    "        if neighbourhood_word in vocabulary:\n",
    "            neighbourhood.append(neighbourhood_word)\n",
    "    print(f'Gensim words for word {word}: {neighbourhood}')\n",
    "\n",
    "def compare_gensim_word_neighbourhood(embeddings_model_name, search_terms):\n",
    "    embeddings_model_wrapper = EmbeddingsModel.get(embeddings_model_name)\n",
    "    print(f\"Comparing vocabulary hashes for {embeddings_model_name} embeddings model\")\n",
    "    for term in search_terms:\n",
    "        print_gensim_word_neighbourhood(term, embeddings_model_wrapper)"
   ]
  },
  {
   "cell_type": "code",
   "execution_count": 21,
   "metadata": {},
   "outputs": [
    {
     "name": "stdout",
     "output_type": "stream",
     "text": [
      "Comparing vocabulary hashes for glove-wiki-gigaword-50 embeddings model\n",
      "Gensim words for word apple: ['software', 'processor', 'product']\n",
      "Gensim words for word orange: ['blue', 'red', 'yellow', 'black', 'purple', 'pink', 'green', 'white', 'cream', 'leaf', 'coat', 'juice']\n",
      "Gensim words for word banana: ['fruit', 'sugar', 'peanut', 'shrimp', 'potato', 'corn']\n",
      "Gensim words for word grape: ['wine', 'fruit']\n",
      "Gensim words for word fruit: ['vegetable', 'flower', 'juice', 'tomato', 'honey', 'corn', 'dried', 'milk', 'coffee']\n",
      "Gensim words for word cheese: ['butter', 'chocolate', 'cream', 'tomato', 'bread', 'sandwich', 'potato', 'pie', 'pasta', 'sauce', 'soup']\n",
      "Gensim words for word plane: ['airplane', 'flight', 'jet', 'helicopter', 'crash', 'landing', 'aircraft', 'flying', 'crew', 'passenger']\n",
      "Gensim words for word train: ['bus', 'passenger', 'traffic', 'car', 'rail', 'truck', 'boat', 'station', 'vehicle']\n",
      "Gensim words for word universe: ['planet', 'reality', 'earth', 'realm', 'dimension', 'fantasy', 'mystery', 'invisible']\n",
      "Gensim words for word love: ['dream', 'life', 'mind', 'wonder', 'soul', 'crazy', 'happy', 'wonderful', 'her', 'passion', 'imagine']\n",
      "Gensim words for word anger: ['frustration', 'fear', 'sympathy', 'angry', 'tension']\n"
     ]
    }
   ],
   "source": [
    "compare_gensim_word_neighbourhood('glove-wiki-gigaword-50', search_terms)"
   ]
  }
 ],
 "metadata": {
  "kernelspec": {
   "display_name": ".venv",
   "language": "python",
   "name": "python3"
  },
  "language_info": {
   "codemirror_mode": {
    "name": "ipython",
    "version": 3
   },
   "file_extension": ".py",
   "mimetype": "text/x-python",
   "name": "python",
   "nbconvert_exporter": "python",
   "pygments_lexer": "ipython3",
   "version": "3.10.6"
  }
 },
 "nbformat": 4,
 "nbformat_minor": 2
}
