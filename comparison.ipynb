{
 "cells": [
  {
   "cell_type": "code",
   "execution_count": 1,
   "metadata": {},
   "outputs": [],
   "source": [
    "%load_ext autoreload\n",
    "%autoreload all\n",
    "import gensim.downloader\n",
    "import numpy as np\n",
    "from algorithms.RandomProjectionsLsh import RandomProjectionsLsh\n",
    "from algorithms.PcaBasedLsh import PcaBasedLsh\n",
    "from algorithms.MinkowskiLsh import L1Lsh, L2Lsh\n",
    "from algorithms.PcaMinkowskiLsh import PcaL1Lsh, PcaL2Lsh\n",
    "from algorithms.SuperBitLsh import SuperBitLsh\n",
    "from algorithms.HierarchicalLsh import HierarchicalLsh\n",
    "from algorithms.HierarchicalHyperplaneLsh import HierarchicalHyperplaneLsh"
   ]
  },
  {
   "cell_type": "markdown",
   "metadata": {},
   "source": [
    "# Load vocabulary"
   ]
  },
  {
   "cell_type": "code",
   "execution_count": 2,
   "metadata": {},
   "outputs": [
    {
     "name": "stdout",
     "output_type": "stream",
     "text": [
      "Loading words...\n",
      "Words loaded: 4319\n"
     ]
    }
   ],
   "source": [
    "import urllib.request\n",
    "\n",
    "\n",
    "def load_common_words():\n",
    "    print('Loading words...')\n",
    "    words = set()\n",
    "    target_url = 'https://raw.githubusercontent.com/pkLazer/password_rank/master/4000-most-common-english-words-csv.csv'\n",
    "    is_header_line = True\n",
    "    for line in urllib.request.urlopen(target_url):\n",
    "        if is_header_line:\n",
    "            is_header_line = False\n",
    "            continue\n",
    "        words.add(line.decode('utf-8').strip())\n",
    "    print(f'Words loaded: {len(words)}')\n",
    "\n",
    "    return words\n",
    "\n",
    "vocabulary = load_common_words()"
   ]
  },
  {
   "cell_type": "markdown",
   "metadata": {},
   "source": [
    "# Embedding Models\n",
    "\n",
    "Note that first downloads will be very slow, then first memory load will still be slow, but then each model is cached."
   ]
  },
  {
   "cell_type": "code",
   "execution_count": 3,
   "metadata": {},
   "outputs": [],
   "source": [
    "class EmbeddingsModel:\n",
    "    _instances = {}\n",
    "\n",
    "    @classmethod\n",
    "    def get(cls, model_name):\n",
    "        if not model_name in cls._instances:\n",
    "            cls._instances[model_name] = cls(model_name)\n",
    "        return cls._instances[model_name]\n",
    "\n",
    "    def __init__(self, model_name):\n",
    "        print(f'Loading {model_name} embeddings model')\n",
    "        self.embeddings_model = gensim.downloader.load(model_name)\n",
    "\n",
    "    def embed_word(self, word):\n",
    "        return self.embeddings_model[word]\n",
    "    \n",
    "    def embed_words(self, words):\n",
    "        existing_words = [word for word in words if self.word_exists(word)]\n",
    "        return np.array(self.embeddings_model.vectors_for_all(existing_words).vectors)\n",
    "    \n",
    "    def embed_words_as_dict(self, words):\n",
    "        existing_words = [word for word in words if self.word_exists(word)]\n",
    "        embeddings_for_words = self.embeddings_model.vectors_for_all(existing_words).vectors\n",
    "        return {word: embeddings_for_words[i] for i, word in enumerate(existing_words)}\n",
    "    \n",
    "    def word_exists(self, word):\n",
    "        return word in self.embeddings_model.key_to_index"
   ]
  },
  {
   "cell_type": "code",
   "execution_count": 4,
   "metadata": {},
   "outputs": [
    {
     "name": "stdout",
     "output_type": "stream",
     "text": [
      "All possible models: ['fasttext-wiki-news-subwords-300', 'conceptnet-numberbatch-17-06-300', 'word2vec-ruscorpora-300', 'word2vec-google-news-300', 'glove-wiki-gigaword-50', 'glove-wiki-gigaword-100', 'glove-wiki-gigaword-200', 'glove-wiki-gigaword-300', 'glove-twitter-25', 'glove-twitter-50', 'glove-twitter-100', 'glove-twitter-200', '__testing_word2vec-matrix-synopsis']\n"
     ]
    }
   ],
   "source": [
    "possible_models = list(gensim.downloader.info()['models'].keys())\n",
    "print(f'All possible models: {possible_models}')\n",
    "\n",
    "EMBEDDING_MODEL = 'glove-wiki-gigaword-100'"
   ]
  },
  {
   "cell_type": "markdown",
   "metadata": {},
   "source": [
    "# Comparisons"
   ]
  },
  {
   "cell_type": "code",
   "execution_count": 5,
   "metadata": {},
   "outputs": [],
   "source": [
    "def _hash_vocabulary(vocabulary, embeddings_model_name, hasher):\n",
    "    embeddings_model = EmbeddingsModel.get(embeddings_model_name)\n",
    "    print(f'Embedding vocabulary of {len(vocabulary)} words')\n",
    "    vocabulary_embeddings = embeddings_model.embed_words_as_dict(vocabulary)\n",
    "    print(f'Training hasher with all {len(vocabulary_embeddings)} vocabulary embeddings')\n",
    "    hasher.fit(np.array(list(vocabulary_embeddings.values())))\n",
    "    print(f'Hashing all {len(vocabulary_embeddings)} vocabulary embeddings')\n",
    "    vocabulary_hashes = {word: hasher.hash_vector(embedding) for word, embedding in vocabulary_embeddings.items() }\n",
    "    return vocabulary_hashes\n",
    "\n",
    "def _get_hash_words(hash, vocabulary_hashes):\n",
    "    words = []\n",
    "    for word, word_hash in vocabulary_hashes.items():\n",
    "        if word_hash == hash:\n",
    "            words.append(word)\n",
    "    return words\n",
    "\n",
    "def _print_word_neighbourhood(word, vocabulary_hashes):\n",
    "    hash = vocabulary_hashes[word]\n",
    "    neighbourhood = _get_hash_words(hash, vocabulary_hashes)\n",
    "    print(f'Words for word {word}, hash {hash}: {neighbourhood}')\n",
    "\n",
    "def compare_vocabulary_hashes(embeddings_model_name, hasher, search_terms):\n",
    "    print(f'Comparing vocabulary hashes for {embeddings_model_name} embeddings model with {hasher.to_string()}')\n",
    "    vocabulary_hashes = _hash_vocabulary(vocabulary, embeddings_model_name, hasher)\n",
    "    for term in search_terms:\n",
    "        _print_word_neighbourhood(term, vocabulary_hashes)"
   ]
  },
  {
   "cell_type": "code",
   "execution_count": 6,
   "metadata": {},
   "outputs": [],
   "source": [
    "search_terms = ['apple', 'orange', 'banana', 'grape', 'fruit', 'cheese', 'plane', 'train', 'universe', 'love', 'anger']"
   ]
  },
  {
   "cell_type": "code",
   "execution_count": 7,
   "metadata": {},
   "outputs": [
    {
     "name": "stdout",
     "output_type": "stream",
     "text": [
      "Comparing vocabulary hashes for glove-wiki-gigaword-100 embeddings model with RandomProjectionsLsh (hash_length=11)\n",
      "Loading glove-wiki-gigaword-100 embeddings model\n",
      "Embedding vocabulary of 4319 words\n",
      "Training hasher with all 4253 vocabulary embeddings\n",
      "Hashing all 4253 vocabulary embeddings\n",
      "Words for word apple, hash 1717: ['programming', 'apple']\n",
      "Words for word orange, hash 708: ['fever', 'pink', 'hazard', 'brake', 'shock', 'orange', 'cloud', 'headache']\n",
      "Words for word banana, hash 1007: ['vertical', 'chop', 'shell', 'operation', 'snake', 'banana', 'pasta', 'tooth']\n",
      "Words for word grape, hash 750: ['rat', 'grape', 'cup', 'additional', 'nest', 'brush']\n",
      "Words for word fruit, hash 646: ['laboratory', 'bacteria', 'fruit', 'cancer', 'sleep', 'supply']\n",
      "Words for word cheese, hash 1773: ['cheese']\n",
      "Words for word plane, hash 983: ['scream', 'plane', 'out', 'killer', 'off']\n",
      "Words for word train, hash 963: ['spot', 'blade', 'heaven', 'hit', 'train']\n",
      "Words for word universe, hash 2038: ['possibly', 'cold', 'universe', 'invent', 'weaken', 'impossible', 'unfair', 'able', 'ability', 'battle', 'capture', 'combination', 'satellite', 'machine', 'manipulate', 'instead', 'earth', 'stage', 'reality', 'adapt', 'rather']\n",
      "Words for word love, hash 2002: ['fat', 'put', 'push', 'strictly', 'try', 'love', 'either', 'somebody', 'shelf', 'fiction', 'deliberately', 'drag', 'dance', 'comedy', 'best', 'pick', 'promote', 'break', 'play', 'bring', 'dancer', 'touch', 'chance', 'score', 'roll']\n",
      "Words for word anger, hash 518: ['economist', 'assistance', 'lung', 'safety', 'food', 'anger']\n"
     ]
    }
   ],
   "source": [
    "compare_vocabulary_hashes(EMBEDDING_MODEL, RandomProjectionsLsh(hash_length=11), search_terms)"
   ]
  },
  {
   "cell_type": "code",
   "execution_count": 8,
   "metadata": {},
   "outputs": [
    {
     "name": "stdout",
     "output_type": "stream",
     "text": [
      "Comparing vocabulary hashes for glove-wiki-gigaword-100 embeddings model with PcaBasedLsh (hash_length=14)\n",
      "Embedding vocabulary of 4319 words\n",
      "Training hasher with all 4253 vocabulary embeddings\n",
      "Hashing all 4253 vocabulary embeddings\n",
      "Words for word apple, hash 10352: ['giant', 'apple', 'buy', 'energy']\n",
      "Words for word orange, hash 2393: ['fur', 'leaf', 'orange']\n",
      "Words for word banana, hash 2136: ['meat', 'shrimp', 'sugar', 'fruit', 'pie', 'chicken', 'banana', 'bean', 'egg']\n",
      "Words for word grape, hash 3160: ['grape']\n",
      "Words for word fruit, hash 2136: ['meat', 'shrimp', 'sugar', 'fruit', 'pie', 'chicken', 'banana', 'bean', 'egg']\n",
      "Words for word cheese, hash 2138: ['lemon', 'tablespoon', 'tomato', 'soup', 'onion', 'salt', 'milk', 'corn', 'butter', 'flour', 'peanut', 'honey', 'salad', 'dessert', 'sauce', 'pour', 'chocolate', 'vegetable', 'pasta', 'pepper', 'garlic', 'dried', 'juice', 'cheese', 'mixture', 'potato']\n",
      "Words for word plane, hash 10672: ['nuclear', 'radar', 'plane', 'ship', 'missile', 'shell', 'cargo', 'search', 'rocket', 'aircraft']\n",
      "Words for word train, hash 10659: ['train']\n",
      "Words for word universe, hash 9268: ['universe', 'genre']\n",
      "Words for word love, hash 125: ['love']\n",
      "Words for word anger, hash 12627: ['sympathy', 'anger']\n"
     ]
    }
   ],
   "source": [
    "compare_vocabulary_hashes(EMBEDDING_MODEL, PcaBasedLsh(hash_length=14), search_terms)"
   ]
  },
  {
   "cell_type": "code",
   "execution_count": 9,
   "metadata": {},
   "outputs": [
    {
     "name": "stdout",
     "output_type": "stream",
     "text": [
      "Comparing vocabulary hashes for glove-wiki-gigaword-100 embeddings model with L1Lsh (dimensions_count=100, bucket_width=0.01, count_hash_tables=200\n",
      "Embedding vocabulary of 4319 words\n",
      "Training hasher with all 4253 vocabulary embeddings\n",
      "Hashing all 4253 vocabulary embeddings\n",
      "Words for word apple, hash 1533: ['silence', 'jungle', 'step', 'definition', 'apple']\n",
      "Words for word orange, hash 1225: ['specify', 'processing', 'voter', 'assess', 'orange', 'crazy', 'astronomer']\n",
      "Words for word banana, hash 1417: ['dissolve', 'climb', 'directly', 'fierce', 'strong', 'banana', 'proportion']\n",
      "Words for word grape, hash 1722: ['grape', 'law']\n",
      "Words for word fruit, hash 1614: ['extend', 'fruit', 'tragic']\n",
      "Words for word cheese, hash 1394: ['practice', 'asleep', 'husband', 'donor', 'hunger', 'toilet', 'finding', 'cheese']\n",
      "Words for word plane, hash 1690: ['plane', 'try', 'boss']\n",
      "Words for word train, hash 1229: ['suspicious', 'pizza', 'roof', 'commercial', 'bathroom', 'skirt', 'train', 'effect', 'puzzle', 'isolated', 'opposite']\n",
      "Words for word universe, hash 1378: ['universe', 'focus', 'impossible', 'purse', 'healthy', 'provide', 'prevention', 'collective', 'plead']\n",
      "Words for word love, hash 1783: ['love']\n",
      "Words for word anger, hash 1314: ['religious', 'tragedy', 'demonstration', 'measure', 'change', 'town', 'bid', 'supply', 'anger']\n"
     ]
    }
   ],
   "source": [
    "compare_vocabulary_hashes(EMBEDDING_MODEL, L1Lsh(dimensions_count=100, bucket_width=0.01, count_hash_tables=200), search_terms)"
   ]
  },
  {
   "cell_type": "code",
   "execution_count": 10,
   "metadata": {},
   "outputs": [
    {
     "name": "stdout",
     "output_type": "stream",
     "text": [
      "Comparing vocabulary hashes for glove-wiki-gigaword-100 embeddings model with L2Lsh (dimensions_count=100, bucket_width=0.01, count_hash_tables=200\n",
      "Embedding vocabulary of 4319 words\n",
      "Training hasher with all 4253 vocabulary embeddings\n",
      "Hashing all 4253 vocabulary embeddings\n",
      "Words for word apple, hash 314: ['task', 'margin', 'careful', 'apple', 'there']\n",
      "Words for word orange, hash 736: ['special', 'orange', 'accountability', 'direct']\n",
      "Words for word banana, hash 834: ['very', 'poster', 'banana']\n",
      "Words for word grape, hash 1808: ['grape']\n",
      "Words for word fruit, hash 1325: ['fruit', 'image', 'awareness', 'chamber']\n",
      "Words for word cheese, hash 1159: ['percentage', 'cheese', 'empty']\n",
      "Words for word plane, hash 1864: ['plane']\n",
      "Words for word train, hash 741: ['visual', 'grip', 'anywhere', 'fewer', 'courage', 'yours', 'train', 'hidden', 'supportive', 'increase', 'occasional']\n",
      "Words for word universe, hash 578: ['universe', 'the', 'suspicion', 'artifact']\n",
      "Words for word love, hash 672: ['love', 'treasure', 'giant', 'boom']\n",
      "Words for word anger, hash 970: ['implement', 'friendly', 'quiet', 'anger']\n"
     ]
    }
   ],
   "source": [
    "compare_vocabulary_hashes(EMBEDDING_MODEL, L2Lsh(dimensions_count=100, bucket_width=0.01, count_hash_tables=200), search_terms)"
   ]
  },
  {
   "cell_type": "code",
   "execution_count": 11,
   "metadata": {},
   "outputs": [
    {
     "name": "stdout",
     "output_type": "stream",
     "text": [
      "Comparing vocabulary hashes for glove-wiki-gigaword-100 embeddings model with PcaL1Lsh (bucket_width=0.005, count_hash_tables=50)\n",
      "Embedding vocabulary of 4319 words\n",
      "Training hasher with all 4253 vocabulary embeddings\n",
      "Hashing all 4253 vocabulary embeddings\n",
      "Words for word apple, hash 376: ['arrange', 'lots', 'workout', 'graduation', 'root', 'craft', 'enact', 'reserve', 'existing', 'instead', 'apple', 'vote']\n",
      "Words for word orange, hash 416: ['someone', 'thus', 'blend', 'time', 'household', 'radical', 'orange', 'alternative', 'defend', 'writer', 'scheme', 'while', 'order', 'refer', 'discover']\n",
      "Words for word banana, hash 405: ['significance', 'bacteria', 'introduce', 'link', 'banana', 'walking', 'upon']\n",
      "Words for word grape, hash 386: ['grape', 'acknowledge', 'pilot', 'editor', 'compound', 'below', 'daughter', 'lobby', 'judgment', 'rape', 'season']\n",
      "Words for word fruit, hash 529: ['the', 'sustainable', 'fruit', 'pepper', 'territory', 'contribution', 'fuel']\n",
      "Words for word cheese, hash 591: ['strategy', 'processing', 'involvement', 'cheese']\n",
      "Words for word plane, hash 464: ['plane', 'inventory', 'unless', 'respond', 'violence']\n",
      "Words for word train, hash 554: ['safely', 'protein', 'despite', 'train', 'scholar']\n",
      "Words for word universe, hash 243: ['universe', 'accuracy', 'combined', 'teammate', 'equivalent', 'franchise', 'apologize', 'nut', 'equally']\n",
      "Words for word love, hash 11: ['thing', 'love']\n",
      "Words for word anger, hash 325: ['tourist', 'rail', 'log', 'couch', 'retired', 'sell', 'supporter', 'system', 'degree', 'intimate', 'minute', 'die', 'quote', 'crawl', 'merit', 'anger', 'electronics']\n"
     ]
    }
   ],
   "source": [
    "compare_vocabulary_hashes(EMBEDDING_MODEL, PcaL1Lsh(bucket_width=0.005, count_hash_tables=50), search_terms)"
   ]
  },
  {
   "cell_type": "code",
   "execution_count": 12,
   "metadata": {},
   "outputs": [
    {
     "name": "stdout",
     "output_type": "stream",
     "text": [
      "Comparing vocabulary hashes for glove-wiki-gigaword-100 embeddings model with PcaL2Lsh (bucket_width=0.005, count_hash_tables=50)\n",
      "Embedding vocabulary of 4319 words\n",
      "Training hasher with all 4253 vocabulary embeddings\n",
      "Hashing all 4253 vocabulary embeddings\n",
      "Words for word apple, hash 376: ['exact', 'arrange', 'lots', 'workout', 'graduation', 'root', 'craft', 'enact', 'instead', 'apple', 'full', 'duty']\n",
      "Words for word orange, hash 416: ['someone', 'thus', 'blend', 'time', 'being', 'household', 'radical', 'maintenance', 'orange', 'alternative', 'defend', 'writer', 'scheme', 'while', 'refer', 'now', 'professional', 'discover']\n",
      "Words for word banana, hash 405: ['goal', 'significance', 'considerable', 'brake', 'introduce', 'animal', 'link', 'stomach', 'banana', 'achievement', 'land', 'essay', 'walking', 'cord', 'upon']\n",
      "Words for word grape, hash 386: ['colorful', 'grape', 'acknowledge', 'pilot', 'editor', 'offensive', 'compound', 'below', 'daughter', 'lobby', 'connection', 'judgment', 'season']\n",
      "Words for word fruit, hash 529: ['the', 'sustainable', 'fruit', 'teaspoon', 'pepper', 'territory', 'contribution', 'fuel']\n",
      "Words for word cheese, hash 591: ['strategy', 'processing', 'involvement', 'cheese']\n",
      "Words for word plane, hash 464: ['plane', 'inventory', 'unless', 'estimate', 'say', 'respond', 'league']\n",
      "Words for word train, hash 554: ['safely', 'protein', 'despite', 'train', 'scholar']\n",
      "Words for word universe, hash 243: ['universe', 'attach', 'golf', 'franchise', 'dump', 'apologize', 'formula', 'audience', 'hall', 'artifact']\n",
      "Words for word love, hash 268: ['down', 'silly', 'and/or', 'remind', 'slope', 'love', 'finish', 'ordinary', 'teammate', 'soccer', 'grasp', 'viewer']\n",
      "Words for word anger, hash 325: ['tourist', 'log', 'couch', 'accuracy', 'class', 'retired', 'sell', 'custom', 'supporter', 'intimate', 'minute', 'die', 'quote', 'crawl', 'merit', 'empty', 'anger']\n"
     ]
    }
   ],
   "source": [
    "compare_vocabulary_hashes(EMBEDDING_MODEL, PcaL2Lsh(bucket_width=0.005, count_hash_tables=50), search_terms)"
   ]
  },
  {
   "cell_type": "code",
   "execution_count": 13,
   "metadata": {},
   "outputs": [
    {
     "name": "stdout",
     "output_type": "stream",
     "text": [
      "Comparing vocabulary hashes for glove-wiki-gigaword-100 embeddings model with SuperBitLsh(hash_length=14, num_bits_per_batch=4)\n",
      "Embedding vocabulary of 4319 words\n",
      "Training hasher with all 4253 vocabulary embeddings\n",
      "Hashing all 4253 vocabulary embeddings\n"
     ]
    },
    {
     "name": "stderr",
     "output_type": "stream",
     "text": [
      "c:\\Projects\\LocalitySensitiveHashingAlgorithms\\.venv\\lib\\site-packages\\numpy\\linalg\\linalg.py:2582: RuntimeWarning: overflow encountered in multiply\n",
      "  s = (x.conj() * x).real\n",
      "c:\\Projects\\LocalitySensitiveHashingAlgorithms\\algorithms\\SuperBitLsh.py:20: RuntimeWarning: overflow encountered in multiply\n",
      "  proj = np.dot(vectors[j], vectors[i]) * vectors[j]\n",
      "c:\\Projects\\LocalitySensitiveHashingAlgorithms\\algorithms\\SuperBitLsh.py:24: RuntimeWarning: invalid value encountered in divide\n",
      "  vectors = vectors / norms\n",
      "c:\\Projects\\LocalitySensitiveHashingAlgorithms\\algorithms\\SuperBitLsh.py:21: RuntimeWarning: invalid value encountered in subtract\n",
      "  vectors[i] -= proj\n",
      "c:\\Projects\\LocalitySensitiveHashingAlgorithms\\.venv\\lib\\site-packages\\numpy\\linalg\\linalg.py:2583: RuntimeWarning: overflow encountered in reduce\n",
      "  return sqrt(add.reduce(s, axis=axis, keepdims=keepdims))\n"
     ]
    },
    {
     "name": "stdout",
     "output_type": "stream",
     "text": [
      "Words for word apple, hash 8224: ['compare', 'casino', 'weather', 'globe', 'galaxy', 'plunge', 'mirror', 'year', 'sensation', 'rise', 'breeze', 'fall', 'elsewhere', 'sunny', 'immune', 'builder', 'terrorist', 'sound', 'ah', 'birthday', 'flesh', 'vs', 'radiation', 'apartment', 'climate', 'damage', 'retailer', 'ecosystem', 'likelihood', 'coast', 'warehouse', 'universe', 'ship', 'inventory', 'reflect', 'recover', 'wall', 'organism', 'delight', 'bulb', 'air', 'grandparent', 'sail', 'holiday', 'afternoon', 'exposure', 'crystal', 'display', 'dealer', 'convention', 'lion', 'visual', 'its', 'computer', 'their', 'distant', 'pack', 'hotel', 'earnings', 'room', 'annual', 'cage', 'screen', 'world', 'quarter', 'mall', 'island', 'market', 'advance', 'label', 'fate', 'shell', 'glass', 'weaken', 'visitor', 'sunlight', 'ocean', 'late', 'well-being', 'battery', 'catalog', 'inherit', 'decline', 'store', 'initial', 'solar', 'sale', 'tropical', 'darkness', 'expected', 'unit', 'crew', 'developer', 'porch', 'resemble', 'temperature', 'age', 'financial', 'assess', 'bubble', 'roof', 'weakness', 'window', 'origin', 'fleet', 'disk', 'giant', 'monster', 'recession', 'attack', 'dawn', 'deck', 'syndrome', 'picture', 'marine', 'perceive', 'scan', 'marketplace', 'storm', 'economy', 'earthquake', 'await', 'sentiment', 'video', 'magnitude', 'bedroom', 'cruise', 'tourism', 'below', 'bite', 'building', 'estate', 'recovery', 'portrait', 'arena', 'palace', 'consumer', 'nest', 'excitement', 'cue', 'already', 'original', 'smell', 'sun', 'lower', 'outfit', 'insect', 'apple', 'hint', 'lobby', 'studio', 'operating', 'overwhelm', 'industrial', 'horizon', 'gather', 'destruction', 'since', 'city', 'capital', 'restaurant', 'beach', 'electronic', 'earth', 'backyard', 'shark', 'twentieth', 'wind', 'hurricane', 'planet', 'midnight', 'mansion', 'living', 'emerging', 'powerful', 'hi', 'bombing', 'revelation', 'viewer', 'property', 'shopping', 'intensity', 'creature', 'arrival', 'photo', 'basement', 'boom', 'collapse', 'exhibit', 'landscape', 'impact', 'entertainment', 'external', 'retail', 'merchant', 'electronics', 'recording', 'instinct', 'drawer']\n",
      "Words for word orange, hash 544: ['same', 'invisible', 'king', 'pet', 'thing', 'another', 'eventually', 'common', 'irony', 'intent', 'afterward', 'likely', 'single', 'major', 'fail', 'conclusion', 'racism', 'hear', 'himself', 'wife', 'pressure', 'dissolve', 'you', 'danger', 'prospect', 'continued', 'soap', 'enter', 'regular', 'almost', 'also', 'strange', 'yell', 'therefore', 'watch', 'sit', 'each', 'suddenly', 'that', 'without', 'super', 'continue', 'man', 'thus', 'response', 'moment', 'even', 'look', 'forever', 'marry', 'hot', 'mystery', 'persist', 'life', 'register', 'slow', 'brutal', 'profile', 'problem', 'many', 'motivate', 'seem', 'guilty', 'beat', 'overwhelming', 'submit', 'role', 'encounter', 'today', 'norm', 'flower', 'big', 'result', 'plea', 'conscience', 'crime', 'leading', 'mode', 'sin', 'day', 'nightmare', 'quietly', 'intention', 'outcome', 'fare', 'split', 'liability', 'inevitably', 'second', 'attend', 'wave', 'distinct', 'and', 'proceed', 'happen', 'rage', 'differently', 'everything', 'passion', 'everyday', 'momentum', 'choose', 'soup', 'silly', 'action', 'characterize', 'fact', 'and/or', 'perform', 'psychological', 'prison', 'desperate', 'strain', 'slavery', 'replacement', 'manager', 'people', 'radio', 'topic', 'occasion', 'dismiss', 'together', 'benefit', 'couple', 'reverse', 'class', 'guess', 'fill', 'serious', 'drama', 'condemn', 'court', 'reflection', 'furthermore', 'adult', 'war', 'triumph', 'dancing', 'unless', 'neutral', 'struggle', 'participate', 'fantastic', 'she', 'chaos', 'tone', 'performer', 'flag', 'reject', 'join', 'race', 'laughter', 'time', 'voting', 'being', 'love', 'upset', 'alongside', 'could', 'contemplate', 'poll', 'circumstance', 'civic', 'friendly', 'avoid', 'endure', 'initiate', 'become', 'row', 'episode', 'judge', 'follow', 'victory', 'theory', 'trial', 'nominee', 'face', 'laugh', 'voice', 'think', 'whereas', 'dirty', 'discourse', 'kill', 'please', 'however', 'ourselves', 'frequently', 'juror', 'general', 'chair', 'briefly', 'drink', 'such', 'series', 'odd', 'nation', 'desire', 'hate', 'succeed', 'romantic', 'why', 'diabetes', 'lawsuit', 'disappointment', 'confrontation', 'immediately', 'cabinet', 'third', 'first', 'exit', 'unite', 'conscious', 'fault', 'something', 'leave', 'embrace', 'certain', 'either', 'status', 'bishop', 'somebody', 'altogether', 'unusual', 'reply', 'cancel', 'suffering', 'spit', 'boss', 'skip', 'cart', 'widely', 'unfortunately', 'disability', 'consciousness', 'begin', 'policeman', 'popular', 'simultaneously', 'invite', 'criticism', 'matter', 'voter', 'never', 'will', 'praise', 'let', 'dramatic', 'eleven', 'fifteen', 'have', 'opposition', 'element', 'selection', 'form', 'comparison', 'harassment', 'as', 'disaster', 'strike', 'suicide', 'health', 'category', 'recall', 'know', 'pause', 'because', 'possible', 'twenty', 'minor', 'question', 'anyway', 'sometimes', 'ordinary', 'fire', 'want', 'joy', 'thinking', 'maybe', 'consist', 'notion', 'place', 'science', 'insurance', 'crowd', 'advocate', 'move', 'retire', 'ugly', 'else', 'album', 'cast', 'spouse', 'exciting', 'context', 'expect', 'inspire', 'moderate', 'fiction', 'normally', 'consequence', 'happily', 'most', 'urge', 'welcome', 'species', 'future', 'brave', 'say', 'tell', 'competitive', 'bowl', 'number', 'public', 'chase', 'separate', 'bench', 'cup', 'presidential', 'president', 'increasingly', 'must', 'stuff', 'widespread', 'familiar', 'theme', 'fit', 'condition', 'emotional', 'disease', 'detective', 'gentleman', 'sexual', 'confusion', 'refuse', 'violent', 'game', 'wet', 'coming', 'respond', 'orange', 'coup', 'dynamic', 'offender', 'unhappy', 'hopefully', 'silent', 'every', 'courtroom', 'weird', 'pride', 'come', 'bitter', 'singer', 'gradually', 'scare', 'surely', 'sudden', 'tune', 'alternative', 'generation', 'who', 'particular', 'random', 'wish', 'fierce', 'guest', 'arise', 'depart', 'task', 'spite', 'everywhere', 'politics', 'inevitable', 'starter', 'secular', 'how', 'squad', 'mental', 'drag', 'constantly', 'chronic', 'case', 'disappointed', 'equation', 'once', 'respondent', 'progressive', 'factor', 'rank', 'characteristic', 'accelerate', 'all', 'bounce', 'round', 'trauma', 'type', 'dare', 'swing', 'quickly', 'here', 'interrupt', 'acceptance', 'these', 'fourth', 'police', 'recent', 'horrible', 'afraid', 'take', 'dream', 'embarrassed', 'peel', 'stress', 'situation', 'twelve', 'clerk', 'landmark', 'dilemma', 'likewise', 'ahead', 'application', 'ask', 'too', 'pillow', 'tonight', 'gay', 'kiss', 'change', 'diverse', 'opinion', 'dance', 'extreme', 'defeat', 'tournament', 'physical', 're', 'prime', 'candidate', 'partner', 'themselves', 'vacuum', 'should', 'twice', 'others', 'till', 'socially', 'but', 'symptom', 'eligible', 'freely', 'practitioner', 'terms', 'bias', 'satisfaction', 'rapid', 'loud', 'well', 'ignore', 'actor', 'warm', 'boil', 'out', 'apologize', 'contest', 'departure', 'sense', 'election', 'rolling', 'participant', 'fantasy', 'pour', 'frown', 'compose', 'evident', 'bit', 'comedy', 'inmate', 'notice', 'engineering', 'elect', 'well-known', 'myth', 'tragic', 'doubt', 'functional', 'declare', 'yours', 'ultimately', 'respectively', 'entity', 'conviction', 'talk', 'appoint', 'circuit', 'turn', 'criminal', 'universal', 'can', 'wash', 'citizen', 'riot', 'title', 'few', 'stupid', 'shine', 'rival', 'they', 'exception', 'evolve', 'like', 'simply', 'scenario', 'subsequent', 'inform', 'bond', 'occasionally', 'him', 'headache', 'swear', 'usually', 'direction', 'person', 'not', 'terrible', 'personality', 'panic', 'impulse', 'stranger', 'pick', 'bride', 'labor', 'shame', 'undergo', 'despite', 'ticket', 'among', 'possibility', 'division', 'play', 'player', 'her', 'sympathy', 'die', 'sue', 'whenever', 'debate', 'mayor', 'shake', 'innocent', 'trouble', 'suffer', 'championship', 'particularly', 'reason', 'variety', 'rain', 'genre', 'sock', 'symbol', 'read', 'final', 'appeal', 'might', 'tend', 'again', 'function', 'treat', 'order', 'frustration', 'angry', 'operate', 'twist', 'thank', 'painful', 'behave', 'understand', 'except', 'although', 'awful', 'quit', 'indeed', 'serving', 'govern', 'romance', 'refer', 'just', 'different', 'composition', 'nomination', 'provoke', 'announce', 'comment', 'cop', 'set', 'evolution', 'numerous', 'mate', 'ego', 'profession', 'against', 'would', 'yet', 'feminist', 'see', 'other', 'count', 'otherwise', 'meet', 'object', 'still', 'fame', 'primary', 'remain', 'drunk', 'decision', 'foreigner', 'hero', 'regularly', 'workplace', 'jail', 'dominant', 'cause', 'similar', 'folk', 'cry', 'surprise', 'character', 'idea', 'favorite', 'worry', 'opponent', 'resist', 'rock', 'there', 'call', 'street', 'hell', 'especially', 'multiple', 'now', 'winner', 'one', 'decide', 'obligation', 'write', 'event', 'abstract', 'professional', 'hurry', 'reminder', 'social', 'suppose', 'attorney', 'murder', 'hurt', 'happy', 'sing', 'punishment', 'consider', 'yes', 'divorce', 'proclaim', 'motion', 'transformation', 'switch', 'outsider', 'bother', 'smile', 'occur', 'ambassador', 'variation', 'similarly', 'disorder', 'violence', 'failure', 'concept', 'celebrate', 'scared', 'dinner', 'imagine', 'subject', 'recognize', 'appear', 'surprised', 'lately', 'lose', 'several', 'interesting', 'wait', 'following', 'severe', 'remember', 'any', 'consult', 'stage', 'phenomenon', 'both', 'armed', 'rare', 'feel', 'prevail', 'tendency', 'intense', 'angel', 'represent', 'distract', 'listen', 'instance', 'unlikely', 'own', 'everybody', 'constant', 'relate', 'example', 'rape', 'sorry', 'puzzle', 'what', 'swell', 'often', 'companion', 'book', 'two', 'replace', 'reality', 'repeat', 'resign', 'lover', 'urban', 'manner', 'bucket', 'then', 'competition', 'country', 'convict', 'perhaps', 'government', 'anxious', 'society', 'civil', 'governor', 'match', 'latter', 'prisoner', 'vote', 'for', 'start', 'power', 'interfere', 'various', 'forget', 'way', 'opposite', 'side', 'tired', 'exist', 'plead', 'empty', 'anger', 'forgive', 'parade', 'abroad', 'rather', 'open', 'thoroughly', 'everyone', 'justice', 'vulnerable', 'seemingly', 'shall', 'though', 'feeling', 'roll', 'anymore', 'appearance', 'grocery', 'duty', 'known', 'assignment', 'experienced', 'dad']\n",
      "Words for word banana, hash 512: ['church', 'scramble', 'sexy', 'correctly', 'uniform', 'kneel', 'actually', 'opposed', 'table', 'bold', 'qualify', 'colorful', 'someone', 'receive', 'weapon', 'tea', 'realize', 'argue', 'lemon', 'distinguish', 'drum', 'sum', 'funny', 'suitable', 'opt', 'pose', 'very', 'enjoy', 'telephone', 'issue', 'confuse', 'gently', 'learn', 'structural', 'pencil', 'medal', 'button', 'translate', 'attribute', 'job', 'impose', 'shortage', 'some', 'employ', 'mathematics', 'walk', 'slip', 'accept', 'burden', 'strategy', 'planning', 'differ', 'openly', 'basic', 'knock', 'permission', 'find', 'neither', 'prepare', 'choice', 'standard', 'teach', 'hard', 'always', 'routinely', 'nevertheless', 'couch', 'explanation', 'suggestion', 'sacrifice', 'identification', 'mere', 'lack', 'ready', 'equal', 'mean', 'steady', 'objection', 'commit', 'soft', 'blame', 'anything', 'consistently', 'servant', 'invent', 'focus', 'straw', 'rope', 'conceive', 'explain', 'booth', 'sufficient', 'rubber', 'cake', 'cooperate', 'absolute', 'pray', 'belt', 'logic', 'hook', 'tuck', 'leap', 'exactly', 'plate', 'appropriate', 'remaining', 'sharp', 'sustainable', 'ring', 'speak', 'preference', 'describe', 'breakfast', 'placement', 'climb', 'arrange', 'slope', 'try', 'relation', 'endorse', 'more', 'properly', 'gray', 'lie', 'boring', 'eager', 'concede', 'runner', 'practical', 'flip', 'bush', 'obviously', 'background', 'carefully', 'personally', 'rabbit', 'enroll', 'discuss', 'extra', 'given', 'reduction', 'employment', 'sack', 'oral', 'stable', 'politically', 'signature', 'deny', 'textbook', 'lot', 'lap', 'comply', 'ride', 'threat', 'acknowledge', 'pursue', 'error', 'handful', 'curve', 'imply', 'balanced', 'hardly', 'difficulty', 'emphasize', 'ideal', 'approve', 'dough', 'lesson', 'smart', 'opportunity', 'only', 'lots', 'aware', 'argument', 'achieve', 'construct', 'agree', 'religion', 'hold', 'quick', 'cooking', 'solid', 'claim', 'impossible', 'rating', 'flat', 'sanction', 'abortion', 'quite', 'reliable', 'dedicate', 'answer', 'propose', 'hang', 'limited', 'lucky', 'glad', 'transportation', 'ought', 'afford', 'favor', 'fairly', 'item', 'unfair', 'immediate', 'convinced', 'generally', 'accessible', 'shorts', 'tag', 'bat', 'reasonable', 'publicly', 'meal', 'abandon', 'able', 'fly', 'toss', 'deserve', 'custom', 'ten', 'jump', 'physically', 'reluctant', 'willing', 'dumb', 'concentrate', 'uncomfortable', 'verbal', 'pleased', 'addition', 'lunch', 'advise', 'execution', 'commonly', 'settle', 'comprise', 'merely', 'tolerate', 'slave', 'math', 'leg', 'intend', 'portray', 'swallow', 'preach', 'tough', 'expensive', 'method', 'margin', 'enact', 'plenty', 'hence', 'engage', 'obtain', 'stance', 'ridiculous', 'strongly', 'cream', 'classroom', 'mix', 'relatively', 'mostly', 'unemployment', 'punch', 'impress', 'mention', 'honestly', 'equivalent', 'measure', 'payment', 'careful', 'sauce', 'grass', 'sprinkle', 'insist', 'cover', 'besides', 'surprisingly', 'softly', 'necessarily', 'fight', 'seek', 'difficult', 'strong', 'champion', 'phone', 'purpose', 'behind', 'hire', 'pastor', 'aggressive', 'excuse', 'towel', 'assign', 'usual', 'introduce', 'deliver', 'disagree', 'constitute', 'devote', 'closely', 'seat', 'trainer', 'flexible', 'intelligent', 'regard', 'option', 'degree', 'spin', 'calculation', 'combination', 'hers', 'nor', 'majority', 'blessing', 'compete', 'substantial', 'classify', 'accent', 'handle', 'admission', 'communicate', 'barely', 'overcome', 'stiff', 'instrument', 'moral', 'gender', 'apply', 'purple', 'wheelchair', 'contrast', 'challenge', 'steadily', 'bread', 'recipe', 'odds', 'position', 'best', 'get', 'metaphor', 'barn', 'definition', 'cook', 'unique', 'happiness', 'serve', 'lecture', 'undertake', 'recommend', 'accommodate', 'additional', 'health-care', 'them', 'define', 'terrorism', 'representation', 'stand', 'discrimination', 'formal', 'use', 'concrete', 'wage', 'mass', 'teaspoon', 'need', 'actively', 'citizenship', 'complain', 'weed', 'emphasis', 'efficient', 'racial', 'interpret', 'easily', 'render', 'firmly', 'stone', 'nobody', 'adopt', 'convenience', 'coin', 'instead', 'distinction', 'enough', 'explicit', 'simple', 'lawn', 'coordinate', 'domestic', 'manage', 'banana', 'valid', 'prescription', 'whether', 'entitle', 'pasta', 'adjustment', 'pitch', 'significant', 'ultimate', 'specific', 'pepper', 'hug', 'pay', 'willingness', 'poverty', 'ideological', 'articulate', 'weight', 'black', 'responsibility', 'necessity', 'truth', 'seldom', 'easy', 'knife', 'obvious', 'require', 'useful', 'prompt', 'logical', 'motivation', 'luck', 'basis', 'hour', 'better', 'costly', 'nail', 'decent', 'nonetheless', 'foreign', 'introduction', 'oppose', 'constraint', 'nothing', 'virtue', 'rational', 'pretend', 'old-fashioned', 'personal', 'jeans', 'supportive', 'negotiate', 'typically', 'perceived', 'grade', 'sex', 'hesitate', 'ideology', 'rhetoric', 'accomplish', 'prefer', 'comfortable', 'least', 'unable', 'readily', 'criticize', 'double', 'cloth', 'divide', 'execute', 'fixed', 'warning', 'shoot', 'less', 'make', 'brush', 'occasional', 'chance', 'frankly', 'elaborate', 'fully', 'poor', 'attract', 'bean', 'over', 'earn', 'confident', 'aside', 'score', 'solve', 'forbid', 'identical', 'tactic', 'shift', 'direct', 'pant', 'harsh', 'lightly', 'win', 'shirt', 'egg', 'cheese', 'walking', 'sure', 'equally', 'lay', 'pair', 'subtle', 'merit', 'charge', 'accuse', 'shout', 'sandwich', 'admit', 'okay', 'justify', 'potato', 'difference', 'care', 'instruct', 'beg', 'full-time']\n",
      "Words for word grape, hash 8226: ['banking', 'central', 'spring', 'vessel', 'lake', 'surrounding', 'festival', 'art', 'desert', 'hole', 'shore', 'trading', 'camp', 'outside', 'fragment', 'exploration', 'imagination', 'expose', 'the', 'contact', 'heritage', 'pond', 'near', 'winter', 'cabin', 'grape', 'around', 'client', 'laboratory', 'monitor', 'outlet', 'tank', 'save', 'survey', 'northern', 'virus', 'shelf', 'treasure', 'soil', 'alley', 'nerve', 'secret', 'jar', 'museum', 'beneath', 'sculpture', 'wildlife', 'management', 'fragile', 'port', 'library', 'area', 'portion', 'lightning', 'shooting', 'collection', 'horn', 'zone', 'ice', 'ago', 'photographer', 'auction', 'gallery', 'hormone', 'muscle', 'center', 'sea', 'storage', 'traveler', 'town', 'north', 'bid', 'troubled', 'exhibition', 'astronomer', 'bay', 'software', 'downtown', 'artifact', 'spy', 'existing', 'month', 'ancient', 'database', 'northwest', 'northeast', 'stimulate', 'discovery', 'tumor', 'search', 'rescue', 'from', 'bank', 'somewhere', 'valley', 'facility', 'brain', 'missing', 'body', 'frozen', 'user', 'owner', 'acquisition', 'tiny', 'web', 'activity', 'inside', 'expedition', 'chunk', 'domain', 'headquarters', 'thigh', 'lab', 'gathering', 'nearby', 'coastal', 'vast', 'notebook', 'curtain', 'branch', 'eastern', 'whale', 'summer']\n",
      "Words for word fruit, hash 8704: ['inflation', 'compelling', 'tree', 'carrot', 'license', 'ha', 'convert', 'plot', 'stack', 'desk', 'bag', 'forest', 'slight', 'log', 'tablespoon', 'eat', 'clue', 'coffee', 'beside', 'convey', 'processor', 'initially', 'alone', 'mixed', 'plane', 'spoon', 'steel', 'incorporate', 'raw', 'cope', 'grow', 'capacity', 'precisely', 'leaf', 'mainly', 'parking', 'attach', 'onion', 'weigh', 'transmit', 'wooden', 'reduce', 'aluminum', 'factory', 'platform', 'shade', 'bicycle', 'import', 'blend', 'instructional', 'export', 'plastic', 'cable', 'rental', 'draw', 'light', 'produce', 'spread', 'load', 'flying', 'wood', 'developing', 'chew', 'sugar', 'correlation', 'filter', 'milk', 'sharply', 'coverage', 'paper', 'partly', 'medium', 'sell', 'oak', 'tape', 'rely', 'heavily', 'description', 'press', 'bullet', 'corn', 'debt', 'print', 'calculate', 'vendor', 'eating', 'bonus', 'bomb', 'jungle', 'squeeze', 'handsome', 'infant', 'steep', 'currency', 'hazard', 'dense', 'frequency', 'butter', 'attractive', 'borrow', 'tent', 'economics', 'sheet', \"o'clock\", 'cliff', 'flour', 'similarity', 'drop', 'peanut', 'utilize', 'gasoline', 'economic', 'hostage', 'airplane', 'safely', 'fruit', 'athletic', 'substantially', 'collect', 'beer', 'favorable', 'implication', 'transmission', 'stove', 'screw', 'photograph', 'confirm', 'derive', 'biological', 'thin', 'commodity', 'self-esteem', 'tray', 'exclusively', 'privately', 'sweater', 'pan', 'contribute', 'tax', 'cigarette', 'timber', 'available', 'summary', 'ladder', 'wheel', 'statistics', 'testimony', 'beam', 'commercial', 'wagon', 'motive', 'cotton', 'raise', 'spend', 'distribute', 'shove', 'chocolate', 'offer', 'slightly', 'exploit', 'identify', 'dependent', 'invest', 'income', 'economically', 'hay', 'increasing', 'surprising', 'manipulate', 'confession', 'vegetable', 'reading', 'elevator', 'cheap', 'airport', 'cargo', 'wire', 'flight', 'powder', 'with', 'driver', 'candle', 'short-term', 'while', 'premium', 'consumption', 'model', 'passenger', 'combine', 'material', 'consume', 'thanks', 'atop', 'homework', 'instant', 'brick', 'greatly', 'pine', 'wrap', 'construction', 'assemble', 'exclusive', 'bed', 'monthly', 'yield', 'rose', 'nut', 'thick', 'garlic', 'shrug', 'truck', 'spray', 'cling', 'buy', 'theoretical', 'production', 'oil', 'food', 'somewhat', 'lamp', 'color', 'ingredient', 'bright', 'donate', 'increase', 'supplier', 'cash', 'tobacco', 'input', 'enormous', 'integrated', 'rub', 'drawing', 'fuel', 'tall', 'airline', 'minimize', 'fiber', 'optimistic', 'soften', 'gym', 'solely', 'witness', 'mixture', 'canvas', 'cite', 'rent', 'housing', 'large', 'mortality', 'paint', 'add', 'integrate', 'advantage', 'coal', 'offering', 'frame', 'smoke', 'hike', 'report']\n",
      "Words for word cheese, hash 512: ['church', 'scramble', 'sexy', 'correctly', 'uniform', 'kneel', 'actually', 'opposed', 'table', 'bold', 'qualify', 'colorful', 'someone', 'receive', 'weapon', 'tea', 'realize', 'argue', 'lemon', 'distinguish', 'drum', 'sum', 'funny', 'suitable', 'opt', 'pose', 'very', 'enjoy', 'telephone', 'issue', 'confuse', 'gently', 'learn', 'structural', 'pencil', 'medal', 'button', 'translate', 'attribute', 'job', 'impose', 'shortage', 'some', 'employ', 'mathematics', 'walk', 'slip', 'accept', 'burden', 'strategy', 'planning', 'differ', 'openly', 'basic', 'knock', 'permission', 'find', 'neither', 'prepare', 'choice', 'standard', 'teach', 'hard', 'always', 'routinely', 'nevertheless', 'couch', 'explanation', 'suggestion', 'sacrifice', 'identification', 'mere', 'lack', 'ready', 'equal', 'mean', 'steady', 'objection', 'commit', 'soft', 'blame', 'anything', 'consistently', 'servant', 'invent', 'focus', 'straw', 'rope', 'conceive', 'explain', 'booth', 'sufficient', 'rubber', 'cake', 'cooperate', 'absolute', 'pray', 'belt', 'logic', 'hook', 'tuck', 'leap', 'exactly', 'plate', 'appropriate', 'remaining', 'sharp', 'sustainable', 'ring', 'speak', 'preference', 'describe', 'breakfast', 'placement', 'climb', 'arrange', 'slope', 'try', 'relation', 'endorse', 'more', 'properly', 'gray', 'lie', 'boring', 'eager', 'concede', 'runner', 'practical', 'flip', 'bush', 'obviously', 'background', 'carefully', 'personally', 'rabbit', 'enroll', 'discuss', 'extra', 'given', 'reduction', 'employment', 'sack', 'oral', 'stable', 'politically', 'signature', 'deny', 'textbook', 'lot', 'lap', 'comply', 'ride', 'threat', 'acknowledge', 'pursue', 'error', 'handful', 'curve', 'imply', 'balanced', 'hardly', 'difficulty', 'emphasize', 'ideal', 'approve', 'dough', 'lesson', 'smart', 'opportunity', 'only', 'lots', 'aware', 'argument', 'achieve', 'construct', 'agree', 'religion', 'hold', 'quick', 'cooking', 'solid', 'claim', 'impossible', 'rating', 'flat', 'sanction', 'abortion', 'quite', 'reliable', 'dedicate', 'answer', 'propose', 'hang', 'limited', 'lucky', 'glad', 'transportation', 'ought', 'afford', 'favor', 'fairly', 'item', 'unfair', 'immediate', 'convinced', 'generally', 'accessible', 'shorts', 'tag', 'bat', 'reasonable', 'publicly', 'meal', 'abandon', 'able', 'fly', 'toss', 'deserve', 'custom', 'ten', 'jump', 'physically', 'reluctant', 'willing', 'dumb', 'concentrate', 'uncomfortable', 'verbal', 'pleased', 'addition', 'lunch', 'advise', 'execution', 'commonly', 'settle', 'comprise', 'merely', 'tolerate', 'slave', 'math', 'leg', 'intend', 'portray', 'swallow', 'preach', 'tough', 'expensive', 'method', 'margin', 'enact', 'plenty', 'hence', 'engage', 'obtain', 'stance', 'ridiculous', 'strongly', 'cream', 'classroom', 'mix', 'relatively', 'mostly', 'unemployment', 'punch', 'impress', 'mention', 'honestly', 'equivalent', 'measure', 'payment', 'careful', 'sauce', 'grass', 'sprinkle', 'insist', 'cover', 'besides', 'surprisingly', 'softly', 'necessarily', 'fight', 'seek', 'difficult', 'strong', 'champion', 'phone', 'purpose', 'behind', 'hire', 'pastor', 'aggressive', 'excuse', 'towel', 'assign', 'usual', 'introduce', 'deliver', 'disagree', 'constitute', 'devote', 'closely', 'seat', 'trainer', 'flexible', 'intelligent', 'regard', 'option', 'degree', 'spin', 'calculation', 'combination', 'hers', 'nor', 'majority', 'blessing', 'compete', 'substantial', 'classify', 'accent', 'handle', 'admission', 'communicate', 'barely', 'overcome', 'stiff', 'instrument', 'moral', 'gender', 'apply', 'purple', 'wheelchair', 'contrast', 'challenge', 'steadily', 'bread', 'recipe', 'odds', 'position', 'best', 'get', 'metaphor', 'barn', 'definition', 'cook', 'unique', 'happiness', 'serve', 'lecture', 'undertake', 'recommend', 'accommodate', 'additional', 'health-care', 'them', 'define', 'terrorism', 'representation', 'stand', 'discrimination', 'formal', 'use', 'concrete', 'wage', 'mass', 'teaspoon', 'need', 'actively', 'citizenship', 'complain', 'weed', 'emphasis', 'efficient', 'racial', 'interpret', 'easily', 'render', 'firmly', 'stone', 'nobody', 'adopt', 'convenience', 'coin', 'instead', 'distinction', 'enough', 'explicit', 'simple', 'lawn', 'coordinate', 'domestic', 'manage', 'banana', 'valid', 'prescription', 'whether', 'entitle', 'pasta', 'adjustment', 'pitch', 'significant', 'ultimate', 'specific', 'pepper', 'hug', 'pay', 'willingness', 'poverty', 'ideological', 'articulate', 'weight', 'black', 'responsibility', 'necessity', 'truth', 'seldom', 'easy', 'knife', 'obvious', 'require', 'useful', 'prompt', 'logical', 'motivation', 'luck', 'basis', 'hour', 'better', 'costly', 'nail', 'decent', 'nonetheless', 'foreign', 'introduction', 'oppose', 'constraint', 'nothing', 'virtue', 'rational', 'pretend', 'old-fashioned', 'personal', 'jeans', 'supportive', 'negotiate', 'typically', 'perceived', 'grade', 'sex', 'hesitate', 'ideology', 'rhetoric', 'accomplish', 'prefer', 'comfortable', 'least', 'unable', 'readily', 'criticize', 'double', 'cloth', 'divide', 'execute', 'fixed', 'warning', 'shoot', 'less', 'make', 'brush', 'occasional', 'chance', 'frankly', 'elaborate', 'fully', 'poor', 'attract', 'bean', 'over', 'earn', 'confident', 'aside', 'score', 'solve', 'forbid', 'identical', 'tactic', 'shift', 'direct', 'pant', 'harsh', 'lightly', 'win', 'shirt', 'egg', 'cheese', 'walking', 'sure', 'equally', 'lay', 'pair', 'subtle', 'merit', 'charge', 'accuse', 'shout', 'sandwich', 'admit', 'okay', 'justify', 'potato', 'difference', 'care', 'instruct', 'beg', 'full-time']\n",
      "Words for word plane, hash 8704: ['inflation', 'compelling', 'tree', 'carrot', 'license', 'ha', 'convert', 'plot', 'stack', 'desk', 'bag', 'forest', 'slight', 'log', 'tablespoon', 'eat', 'clue', 'coffee', 'beside', 'convey', 'processor', 'initially', 'alone', 'mixed', 'plane', 'spoon', 'steel', 'incorporate', 'raw', 'cope', 'grow', 'capacity', 'precisely', 'leaf', 'mainly', 'parking', 'attach', 'onion', 'weigh', 'transmit', 'wooden', 'reduce', 'aluminum', 'factory', 'platform', 'shade', 'bicycle', 'import', 'blend', 'instructional', 'export', 'plastic', 'cable', 'rental', 'draw', 'light', 'produce', 'spread', 'load', 'flying', 'wood', 'developing', 'chew', 'sugar', 'correlation', 'filter', 'milk', 'sharply', 'coverage', 'paper', 'partly', 'medium', 'sell', 'oak', 'tape', 'rely', 'heavily', 'description', 'press', 'bullet', 'corn', 'debt', 'print', 'calculate', 'vendor', 'eating', 'bonus', 'bomb', 'jungle', 'squeeze', 'handsome', 'infant', 'steep', 'currency', 'hazard', 'dense', 'frequency', 'butter', 'attractive', 'borrow', 'tent', 'economics', 'sheet', \"o'clock\", 'cliff', 'flour', 'similarity', 'drop', 'peanut', 'utilize', 'gasoline', 'economic', 'hostage', 'airplane', 'safely', 'fruit', 'athletic', 'substantially', 'collect', 'beer', 'favorable', 'implication', 'transmission', 'stove', 'screw', 'photograph', 'confirm', 'derive', 'biological', 'thin', 'commodity', 'self-esteem', 'tray', 'exclusively', 'privately', 'sweater', 'pan', 'contribute', 'tax', 'cigarette', 'timber', 'available', 'summary', 'ladder', 'wheel', 'statistics', 'testimony', 'beam', 'commercial', 'wagon', 'motive', 'cotton', 'raise', 'spend', 'distribute', 'shove', 'chocolate', 'offer', 'slightly', 'exploit', 'identify', 'dependent', 'invest', 'income', 'economically', 'hay', 'increasing', 'surprising', 'manipulate', 'confession', 'vegetable', 'reading', 'elevator', 'cheap', 'airport', 'cargo', 'wire', 'flight', 'powder', 'with', 'driver', 'candle', 'short-term', 'while', 'premium', 'consumption', 'model', 'passenger', 'combine', 'material', 'consume', 'thanks', 'atop', 'homework', 'instant', 'brick', 'greatly', 'pine', 'wrap', 'construction', 'assemble', 'exclusive', 'bed', 'monthly', 'yield', 'rose', 'nut', 'thick', 'garlic', 'shrug', 'truck', 'spray', 'cling', 'buy', 'theoretical', 'production', 'oil', 'food', 'somewhat', 'lamp', 'color', 'ingredient', 'bright', 'donate', 'increase', 'supplier', 'cash', 'tobacco', 'input', 'enormous', 'integrated', 'rub', 'drawing', 'fuel', 'tall', 'airline', 'minimize', 'fiber', 'optimistic', 'soften', 'gym', 'solely', 'witness', 'mixture', 'canvas', 'cite', 'rent', 'housing', 'large', 'mortality', 'paint', 'add', 'integrate', 'advantage', 'coal', 'offering', 'frame', 'smoke', 'hike', 'report']\n",
      "Words for word train, hash 8738: ['anonymous', 'exchange', 'agent', 'suspicious', 'transaction', 'down', 'foundation', 'author', 'teenage', 'terribly', 'daily', 'diary', 'section', 'dam', 'wealthy', 'molecule', 'employee', 'pen', 'grandfather', 'stream', 'soak', 'childhood', 'visit', 'prize', 'massive', 'gene', 'lock', 'deal', 'debris', 'newly', 'water', 'toxic', 'envelope', 'arrest', 'researcher', 'map', 'rat', 'site', 'university', 'pump', 'article', 'under', 'nutrient', 'waste', 'accident', 'investment', 'draft', 'entrepreneur', 'aunt', 'tunnel', 'examine', 'federal', 'between', 'sigh', 'economist', 'channel', 'venture', 'board', 'pioneer', 'publication', 'credit', 'fund', 'edit', 'monument', 'newspaper', 'journal', 'flood', 'workshop', 'editor', 'project', 'mysterious', 'boat', 'breathe', 'businessman', 'via', 'peer', 'deadly', 'transfer', 'spill', 'balloon', 'acid', 'spark', 'jazz', 'suburb', 'travel', 'account', 'shut', 'questionnaire', 'shallow', 'columnist', 'interview', 'regional', 'concentration', 'refugee', 'closet', 'gut', 'environment', 'old', 'dead', 'neighboring', 'founder', 'protein', 'pollution', 'station', 'meeting', 'born', 'conference', 'river', 'writer', 'organic', 'dump', 'study', 'campus', 'reserve', 'managing', 'dust', 'severely', 'defender', 'itself', 'park', 'week', 'research', 'documentary', 'developmental', 'oh', 'conclude', 'red', 'bug', 'along', 'apart', 'stomach', 'forum', 'vacation', 'alter', 'driveway', 'atmosphere', 'source', 'suck', 'through', 'development', 'train', 'daughter', 'found', 'girlfriend', 'fluid', 'republic', 'recently', 'explore', 'anniversary', 'connection', 'originally', 'forward', 'suburban', 'journalist', 'trip', 'disabled', 'column', 'connect', 'enterprise', 'rip', 'genetic', 'post', 'loan', 'diet', 'regulator', 'e-mail', 'ill', 'investor', 'traffic', 'relieve', 'bridge', 'left', 'ownership', 'engineer', 'tube', 'apparently', 'son', 'page', 'dig', 'cord', 'off', 'nonprofit', 'potentially', 'mail', 'deep', 'van', 'birth', 'sodium', 'killing', 'scientist']\n",
      "Words for word universe, hash 8224: ['compare', 'casino', 'weather', 'globe', 'galaxy', 'plunge', 'mirror', 'year', 'sensation', 'rise', 'breeze', 'fall', 'elsewhere', 'sunny', 'immune', 'builder', 'terrorist', 'sound', 'ah', 'birthday', 'flesh', 'vs', 'radiation', 'apartment', 'climate', 'damage', 'retailer', 'ecosystem', 'likelihood', 'coast', 'warehouse', 'universe', 'ship', 'inventory', 'reflect', 'recover', 'wall', 'organism', 'delight', 'bulb', 'air', 'grandparent', 'sail', 'holiday', 'afternoon', 'exposure', 'crystal', 'display', 'dealer', 'convention', 'lion', 'visual', 'its', 'computer', 'their', 'distant', 'pack', 'hotel', 'earnings', 'room', 'annual', 'cage', 'screen', 'world', 'quarter', 'mall', 'island', 'market', 'advance', 'label', 'fate', 'shell', 'glass', 'weaken', 'visitor', 'sunlight', 'ocean', 'late', 'well-being', 'battery', 'catalog', 'inherit', 'decline', 'store', 'initial', 'solar', 'sale', 'tropical', 'darkness', 'expected', 'unit', 'crew', 'developer', 'porch', 'resemble', 'temperature', 'age', 'financial', 'assess', 'bubble', 'roof', 'weakness', 'window', 'origin', 'fleet', 'disk', 'giant', 'monster', 'recession', 'attack', 'dawn', 'deck', 'syndrome', 'picture', 'marine', 'perceive', 'scan', 'marketplace', 'storm', 'economy', 'earthquake', 'await', 'sentiment', 'video', 'magnitude', 'bedroom', 'cruise', 'tourism', 'below', 'bite', 'building', 'estate', 'recovery', 'portrait', 'arena', 'palace', 'consumer', 'nest', 'excitement', 'cue', 'already', 'original', 'smell', 'sun', 'lower', 'outfit', 'insect', 'apple', 'hint', 'lobby', 'studio', 'operating', 'overwhelm', 'industrial', 'horizon', 'gather', 'destruction', 'since', 'city', 'capital', 'restaurant', 'beach', 'electronic', 'earth', 'backyard', 'shark', 'twentieth', 'wind', 'hurricane', 'planet', 'midnight', 'mansion', 'living', 'emerging', 'powerful', 'hi', 'bombing', 'revelation', 'viewer', 'property', 'shopping', 'intensity', 'creature', 'arrival', 'photo', 'basement', 'boom', 'collapse', 'exhibit', 'landscape', 'impact', 'entertainment', 'external', 'retail', 'merchant', 'electronics', 'recording', 'instinct', 'drawer']\n",
      "Words for word love, hash 544: ['same', 'invisible', 'king', 'pet', 'thing', 'another', 'eventually', 'common', 'irony', 'intent', 'afterward', 'likely', 'single', 'major', 'fail', 'conclusion', 'racism', 'hear', 'himself', 'wife', 'pressure', 'dissolve', 'you', 'danger', 'prospect', 'continued', 'soap', 'enter', 'regular', 'almost', 'also', 'strange', 'yell', 'therefore', 'watch', 'sit', 'each', 'suddenly', 'that', 'without', 'super', 'continue', 'man', 'thus', 'response', 'moment', 'even', 'look', 'forever', 'marry', 'hot', 'mystery', 'persist', 'life', 'register', 'slow', 'brutal', 'profile', 'problem', 'many', 'motivate', 'seem', 'guilty', 'beat', 'overwhelming', 'submit', 'role', 'encounter', 'today', 'norm', 'flower', 'big', 'result', 'plea', 'conscience', 'crime', 'leading', 'mode', 'sin', 'day', 'nightmare', 'quietly', 'intention', 'outcome', 'fare', 'split', 'liability', 'inevitably', 'second', 'attend', 'wave', 'distinct', 'and', 'proceed', 'happen', 'rage', 'differently', 'everything', 'passion', 'everyday', 'momentum', 'choose', 'soup', 'silly', 'action', 'characterize', 'fact', 'and/or', 'perform', 'psychological', 'prison', 'desperate', 'strain', 'slavery', 'replacement', 'manager', 'people', 'radio', 'topic', 'occasion', 'dismiss', 'together', 'benefit', 'couple', 'reverse', 'class', 'guess', 'fill', 'serious', 'drama', 'condemn', 'court', 'reflection', 'furthermore', 'adult', 'war', 'triumph', 'dancing', 'unless', 'neutral', 'struggle', 'participate', 'fantastic', 'she', 'chaos', 'tone', 'performer', 'flag', 'reject', 'join', 'race', 'laughter', 'time', 'voting', 'being', 'love', 'upset', 'alongside', 'could', 'contemplate', 'poll', 'circumstance', 'civic', 'friendly', 'avoid', 'endure', 'initiate', 'become', 'row', 'episode', 'judge', 'follow', 'victory', 'theory', 'trial', 'nominee', 'face', 'laugh', 'voice', 'think', 'whereas', 'dirty', 'discourse', 'kill', 'please', 'however', 'ourselves', 'frequently', 'juror', 'general', 'chair', 'briefly', 'drink', 'such', 'series', 'odd', 'nation', 'desire', 'hate', 'succeed', 'romantic', 'why', 'diabetes', 'lawsuit', 'disappointment', 'confrontation', 'immediately', 'cabinet', 'third', 'first', 'exit', 'unite', 'conscious', 'fault', 'something', 'leave', 'embrace', 'certain', 'either', 'status', 'bishop', 'somebody', 'altogether', 'unusual', 'reply', 'cancel', 'suffering', 'spit', 'boss', 'skip', 'cart', 'widely', 'unfortunately', 'disability', 'consciousness', 'begin', 'policeman', 'popular', 'simultaneously', 'invite', 'criticism', 'matter', 'voter', 'never', 'will', 'praise', 'let', 'dramatic', 'eleven', 'fifteen', 'have', 'opposition', 'element', 'selection', 'form', 'comparison', 'harassment', 'as', 'disaster', 'strike', 'suicide', 'health', 'category', 'recall', 'know', 'pause', 'because', 'possible', 'twenty', 'minor', 'question', 'anyway', 'sometimes', 'ordinary', 'fire', 'want', 'joy', 'thinking', 'maybe', 'consist', 'notion', 'place', 'science', 'insurance', 'crowd', 'advocate', 'move', 'retire', 'ugly', 'else', 'album', 'cast', 'spouse', 'exciting', 'context', 'expect', 'inspire', 'moderate', 'fiction', 'normally', 'consequence', 'happily', 'most', 'urge', 'welcome', 'species', 'future', 'brave', 'say', 'tell', 'competitive', 'bowl', 'number', 'public', 'chase', 'separate', 'bench', 'cup', 'presidential', 'president', 'increasingly', 'must', 'stuff', 'widespread', 'familiar', 'theme', 'fit', 'condition', 'emotional', 'disease', 'detective', 'gentleman', 'sexual', 'confusion', 'refuse', 'violent', 'game', 'wet', 'coming', 'respond', 'orange', 'coup', 'dynamic', 'offender', 'unhappy', 'hopefully', 'silent', 'every', 'courtroom', 'weird', 'pride', 'come', 'bitter', 'singer', 'gradually', 'scare', 'surely', 'sudden', 'tune', 'alternative', 'generation', 'who', 'particular', 'random', 'wish', 'fierce', 'guest', 'arise', 'depart', 'task', 'spite', 'everywhere', 'politics', 'inevitable', 'starter', 'secular', 'how', 'squad', 'mental', 'drag', 'constantly', 'chronic', 'case', 'disappointed', 'equation', 'once', 'respondent', 'progressive', 'factor', 'rank', 'characteristic', 'accelerate', 'all', 'bounce', 'round', 'trauma', 'type', 'dare', 'swing', 'quickly', 'here', 'interrupt', 'acceptance', 'these', 'fourth', 'police', 'recent', 'horrible', 'afraid', 'take', 'dream', 'embarrassed', 'peel', 'stress', 'situation', 'twelve', 'clerk', 'landmark', 'dilemma', 'likewise', 'ahead', 'application', 'ask', 'too', 'pillow', 'tonight', 'gay', 'kiss', 'change', 'diverse', 'opinion', 'dance', 'extreme', 'defeat', 'tournament', 'physical', 're', 'prime', 'candidate', 'partner', 'themselves', 'vacuum', 'should', 'twice', 'others', 'till', 'socially', 'but', 'symptom', 'eligible', 'freely', 'practitioner', 'terms', 'bias', 'satisfaction', 'rapid', 'loud', 'well', 'ignore', 'actor', 'warm', 'boil', 'out', 'apologize', 'contest', 'departure', 'sense', 'election', 'rolling', 'participant', 'fantasy', 'pour', 'frown', 'compose', 'evident', 'bit', 'comedy', 'inmate', 'notice', 'engineering', 'elect', 'well-known', 'myth', 'tragic', 'doubt', 'functional', 'declare', 'yours', 'ultimately', 'respectively', 'entity', 'conviction', 'talk', 'appoint', 'circuit', 'turn', 'criminal', 'universal', 'can', 'wash', 'citizen', 'riot', 'title', 'few', 'stupid', 'shine', 'rival', 'they', 'exception', 'evolve', 'like', 'simply', 'scenario', 'subsequent', 'inform', 'bond', 'occasionally', 'him', 'headache', 'swear', 'usually', 'direction', 'person', 'not', 'terrible', 'personality', 'panic', 'impulse', 'stranger', 'pick', 'bride', 'labor', 'shame', 'undergo', 'despite', 'ticket', 'among', 'possibility', 'division', 'play', 'player', 'her', 'sympathy', 'die', 'sue', 'whenever', 'debate', 'mayor', 'shake', 'innocent', 'trouble', 'suffer', 'championship', 'particularly', 'reason', 'variety', 'rain', 'genre', 'sock', 'symbol', 'read', 'final', 'appeal', 'might', 'tend', 'again', 'function', 'treat', 'order', 'frustration', 'angry', 'operate', 'twist', 'thank', 'painful', 'behave', 'understand', 'except', 'although', 'awful', 'quit', 'indeed', 'serving', 'govern', 'romance', 'refer', 'just', 'different', 'composition', 'nomination', 'provoke', 'announce', 'comment', 'cop', 'set', 'evolution', 'numerous', 'mate', 'ego', 'profession', 'against', 'would', 'yet', 'feminist', 'see', 'other', 'count', 'otherwise', 'meet', 'object', 'still', 'fame', 'primary', 'remain', 'drunk', 'decision', 'foreigner', 'hero', 'regularly', 'workplace', 'jail', 'dominant', 'cause', 'similar', 'folk', 'cry', 'surprise', 'character', 'idea', 'favorite', 'worry', 'opponent', 'resist', 'rock', 'there', 'call', 'street', 'hell', 'especially', 'multiple', 'now', 'winner', 'one', 'decide', 'obligation', 'write', 'event', 'abstract', 'professional', 'hurry', 'reminder', 'social', 'suppose', 'attorney', 'murder', 'hurt', 'happy', 'sing', 'punishment', 'consider', 'yes', 'divorce', 'proclaim', 'motion', 'transformation', 'switch', 'outsider', 'bother', 'smile', 'occur', 'ambassador', 'variation', 'similarly', 'disorder', 'violence', 'failure', 'concept', 'celebrate', 'scared', 'dinner', 'imagine', 'subject', 'recognize', 'appear', 'surprised', 'lately', 'lose', 'several', 'interesting', 'wait', 'following', 'severe', 'remember', 'any', 'consult', 'stage', 'phenomenon', 'both', 'armed', 'rare', 'feel', 'prevail', 'tendency', 'intense', 'angel', 'represent', 'distract', 'listen', 'instance', 'unlikely', 'own', 'everybody', 'constant', 'relate', 'example', 'rape', 'sorry', 'puzzle', 'what', 'swell', 'often', 'companion', 'book', 'two', 'replace', 'reality', 'repeat', 'resign', 'lover', 'urban', 'manner', 'bucket', 'then', 'competition', 'country', 'convict', 'perhaps', 'government', 'anxious', 'society', 'civil', 'governor', 'match', 'latter', 'prisoner', 'vote', 'for', 'start', 'power', 'interfere', 'various', 'forget', 'way', 'opposite', 'side', 'tired', 'exist', 'plead', 'empty', 'anger', 'forgive', 'parade', 'abroad', 'rather', 'open', 'thoroughly', 'everyone', 'justice', 'vulnerable', 'seemingly', 'shall', 'though', 'feeling', 'roll', 'anymore', 'appearance', 'grocery', 'duty', 'known', 'assignment', 'experienced', 'dad']\n",
      "Words for word anger, hash 544: ['same', 'invisible', 'king', 'pet', 'thing', 'another', 'eventually', 'common', 'irony', 'intent', 'afterward', 'likely', 'single', 'major', 'fail', 'conclusion', 'racism', 'hear', 'himself', 'wife', 'pressure', 'dissolve', 'you', 'danger', 'prospect', 'continued', 'soap', 'enter', 'regular', 'almost', 'also', 'strange', 'yell', 'therefore', 'watch', 'sit', 'each', 'suddenly', 'that', 'without', 'super', 'continue', 'man', 'thus', 'response', 'moment', 'even', 'look', 'forever', 'marry', 'hot', 'mystery', 'persist', 'life', 'register', 'slow', 'brutal', 'profile', 'problem', 'many', 'motivate', 'seem', 'guilty', 'beat', 'overwhelming', 'submit', 'role', 'encounter', 'today', 'norm', 'flower', 'big', 'result', 'plea', 'conscience', 'crime', 'leading', 'mode', 'sin', 'day', 'nightmare', 'quietly', 'intention', 'outcome', 'fare', 'split', 'liability', 'inevitably', 'second', 'attend', 'wave', 'distinct', 'and', 'proceed', 'happen', 'rage', 'differently', 'everything', 'passion', 'everyday', 'momentum', 'choose', 'soup', 'silly', 'action', 'characterize', 'fact', 'and/or', 'perform', 'psychological', 'prison', 'desperate', 'strain', 'slavery', 'replacement', 'manager', 'people', 'radio', 'topic', 'occasion', 'dismiss', 'together', 'benefit', 'couple', 'reverse', 'class', 'guess', 'fill', 'serious', 'drama', 'condemn', 'court', 'reflection', 'furthermore', 'adult', 'war', 'triumph', 'dancing', 'unless', 'neutral', 'struggle', 'participate', 'fantastic', 'she', 'chaos', 'tone', 'performer', 'flag', 'reject', 'join', 'race', 'laughter', 'time', 'voting', 'being', 'love', 'upset', 'alongside', 'could', 'contemplate', 'poll', 'circumstance', 'civic', 'friendly', 'avoid', 'endure', 'initiate', 'become', 'row', 'episode', 'judge', 'follow', 'victory', 'theory', 'trial', 'nominee', 'face', 'laugh', 'voice', 'think', 'whereas', 'dirty', 'discourse', 'kill', 'please', 'however', 'ourselves', 'frequently', 'juror', 'general', 'chair', 'briefly', 'drink', 'such', 'series', 'odd', 'nation', 'desire', 'hate', 'succeed', 'romantic', 'why', 'diabetes', 'lawsuit', 'disappointment', 'confrontation', 'immediately', 'cabinet', 'third', 'first', 'exit', 'unite', 'conscious', 'fault', 'something', 'leave', 'embrace', 'certain', 'either', 'status', 'bishop', 'somebody', 'altogether', 'unusual', 'reply', 'cancel', 'suffering', 'spit', 'boss', 'skip', 'cart', 'widely', 'unfortunately', 'disability', 'consciousness', 'begin', 'policeman', 'popular', 'simultaneously', 'invite', 'criticism', 'matter', 'voter', 'never', 'will', 'praise', 'let', 'dramatic', 'eleven', 'fifteen', 'have', 'opposition', 'element', 'selection', 'form', 'comparison', 'harassment', 'as', 'disaster', 'strike', 'suicide', 'health', 'category', 'recall', 'know', 'pause', 'because', 'possible', 'twenty', 'minor', 'question', 'anyway', 'sometimes', 'ordinary', 'fire', 'want', 'joy', 'thinking', 'maybe', 'consist', 'notion', 'place', 'science', 'insurance', 'crowd', 'advocate', 'move', 'retire', 'ugly', 'else', 'album', 'cast', 'spouse', 'exciting', 'context', 'expect', 'inspire', 'moderate', 'fiction', 'normally', 'consequence', 'happily', 'most', 'urge', 'welcome', 'species', 'future', 'brave', 'say', 'tell', 'competitive', 'bowl', 'number', 'public', 'chase', 'separate', 'bench', 'cup', 'presidential', 'president', 'increasingly', 'must', 'stuff', 'widespread', 'familiar', 'theme', 'fit', 'condition', 'emotional', 'disease', 'detective', 'gentleman', 'sexual', 'confusion', 'refuse', 'violent', 'game', 'wet', 'coming', 'respond', 'orange', 'coup', 'dynamic', 'offender', 'unhappy', 'hopefully', 'silent', 'every', 'courtroom', 'weird', 'pride', 'come', 'bitter', 'singer', 'gradually', 'scare', 'surely', 'sudden', 'tune', 'alternative', 'generation', 'who', 'particular', 'random', 'wish', 'fierce', 'guest', 'arise', 'depart', 'task', 'spite', 'everywhere', 'politics', 'inevitable', 'starter', 'secular', 'how', 'squad', 'mental', 'drag', 'constantly', 'chronic', 'case', 'disappointed', 'equation', 'once', 'respondent', 'progressive', 'factor', 'rank', 'characteristic', 'accelerate', 'all', 'bounce', 'round', 'trauma', 'type', 'dare', 'swing', 'quickly', 'here', 'interrupt', 'acceptance', 'these', 'fourth', 'police', 'recent', 'horrible', 'afraid', 'take', 'dream', 'embarrassed', 'peel', 'stress', 'situation', 'twelve', 'clerk', 'landmark', 'dilemma', 'likewise', 'ahead', 'application', 'ask', 'too', 'pillow', 'tonight', 'gay', 'kiss', 'change', 'diverse', 'opinion', 'dance', 'extreme', 'defeat', 'tournament', 'physical', 're', 'prime', 'candidate', 'partner', 'themselves', 'vacuum', 'should', 'twice', 'others', 'till', 'socially', 'but', 'symptom', 'eligible', 'freely', 'practitioner', 'terms', 'bias', 'satisfaction', 'rapid', 'loud', 'well', 'ignore', 'actor', 'warm', 'boil', 'out', 'apologize', 'contest', 'departure', 'sense', 'election', 'rolling', 'participant', 'fantasy', 'pour', 'frown', 'compose', 'evident', 'bit', 'comedy', 'inmate', 'notice', 'engineering', 'elect', 'well-known', 'myth', 'tragic', 'doubt', 'functional', 'declare', 'yours', 'ultimately', 'respectively', 'entity', 'conviction', 'talk', 'appoint', 'circuit', 'turn', 'criminal', 'universal', 'can', 'wash', 'citizen', 'riot', 'title', 'few', 'stupid', 'shine', 'rival', 'they', 'exception', 'evolve', 'like', 'simply', 'scenario', 'subsequent', 'inform', 'bond', 'occasionally', 'him', 'headache', 'swear', 'usually', 'direction', 'person', 'not', 'terrible', 'personality', 'panic', 'impulse', 'stranger', 'pick', 'bride', 'labor', 'shame', 'undergo', 'despite', 'ticket', 'among', 'possibility', 'division', 'play', 'player', 'her', 'sympathy', 'die', 'sue', 'whenever', 'debate', 'mayor', 'shake', 'innocent', 'trouble', 'suffer', 'championship', 'particularly', 'reason', 'variety', 'rain', 'genre', 'sock', 'symbol', 'read', 'final', 'appeal', 'might', 'tend', 'again', 'function', 'treat', 'order', 'frustration', 'angry', 'operate', 'twist', 'thank', 'painful', 'behave', 'understand', 'except', 'although', 'awful', 'quit', 'indeed', 'serving', 'govern', 'romance', 'refer', 'just', 'different', 'composition', 'nomination', 'provoke', 'announce', 'comment', 'cop', 'set', 'evolution', 'numerous', 'mate', 'ego', 'profession', 'against', 'would', 'yet', 'feminist', 'see', 'other', 'count', 'otherwise', 'meet', 'object', 'still', 'fame', 'primary', 'remain', 'drunk', 'decision', 'foreigner', 'hero', 'regularly', 'workplace', 'jail', 'dominant', 'cause', 'similar', 'folk', 'cry', 'surprise', 'character', 'idea', 'favorite', 'worry', 'opponent', 'resist', 'rock', 'there', 'call', 'street', 'hell', 'especially', 'multiple', 'now', 'winner', 'one', 'decide', 'obligation', 'write', 'event', 'abstract', 'professional', 'hurry', 'reminder', 'social', 'suppose', 'attorney', 'murder', 'hurt', 'happy', 'sing', 'punishment', 'consider', 'yes', 'divorce', 'proclaim', 'motion', 'transformation', 'switch', 'outsider', 'bother', 'smile', 'occur', 'ambassador', 'variation', 'similarly', 'disorder', 'violence', 'failure', 'concept', 'celebrate', 'scared', 'dinner', 'imagine', 'subject', 'recognize', 'appear', 'surprised', 'lately', 'lose', 'several', 'interesting', 'wait', 'following', 'severe', 'remember', 'any', 'consult', 'stage', 'phenomenon', 'both', 'armed', 'rare', 'feel', 'prevail', 'tendency', 'intense', 'angel', 'represent', 'distract', 'listen', 'instance', 'unlikely', 'own', 'everybody', 'constant', 'relate', 'example', 'rape', 'sorry', 'puzzle', 'what', 'swell', 'often', 'companion', 'book', 'two', 'replace', 'reality', 'repeat', 'resign', 'lover', 'urban', 'manner', 'bucket', 'then', 'competition', 'country', 'convict', 'perhaps', 'government', 'anxious', 'society', 'civil', 'governor', 'match', 'latter', 'prisoner', 'vote', 'for', 'start', 'power', 'interfere', 'various', 'forget', 'way', 'opposite', 'side', 'tired', 'exist', 'plead', 'empty', 'anger', 'forgive', 'parade', 'abroad', 'rather', 'open', 'thoroughly', 'everyone', 'justice', 'vulnerable', 'seemingly', 'shall', 'though', 'feeling', 'roll', 'anymore', 'appearance', 'grocery', 'duty', 'known', 'assignment', 'experienced', 'dad']\n"
     ]
    }
   ],
   "source": [
    "compare_vocabulary_hashes(EMBEDDING_MODEL, SuperBitLsh(hash_length=14, num_bits_per_batch=4), search_terms)"
   ]
  },
  {
   "cell_type": "code",
   "execution_count": 31,
   "metadata": {},
   "outputs": [
    {
     "name": "stdout",
     "output_type": "stream",
     "text": [
      "Comparing vocabulary hashes for glove-wiki-gigaword-100 embeddings model with HierarchicalLsh (num_levels=10)\n",
      "Embedding vocabulary of 4319 words\n",
      "Training hasher with all 4253 vocabulary embeddings\n",
      "Using a random subset of 1000 samples for hierarchical clustering\n",
      "Hashing all 4253 vocabulary embeddings\n",
      "Words for word apple, hash 1111110011: ['telephone', 'cable', 'computer', 'digital', 'mobile', 'chip', 'phone', 'virtual', 'software', 'apple', 'instant', 'communication', 'electronic', 'technology']\n",
      "Words for word orange, hash 1011101111: ['fur', 'shade', 'dark', 'light', 'patch', 'pink', 'dense', 'orange', 'purple', 'red', 'blue', 'bright', 'yellow', 'pale']\n",
      "Words for word banana, hash 1000111110: ['herb', 'peanut', 'palm', 'hay', 'banana', 'bean', 'potato']\n",
      "Words for word grape, hash 10000111: ['leaf', 'grape', 'fruit', 'organic', 'vegetable']\n",
      "Words for word fruit, hash 10000111: ['leaf', 'grape', 'fruit', 'organic', 'vegetable']\n",
      "Words for word cheese, hash 10000000: ['butter', 'candy', 'honey', 'cream', 'chocolate', 'cheese']\n",
      "Words for word plane, hash 1100011111: ['plane', 'pilot', 'airplane', 'jet', 'flight', 'helicopter']\n",
      "Words for word train, hash 1101011110: ['radio', 'channel', 'transit', 'station', 'bus', 'airport', 'train', 'traffic']\n",
      "Words for word universe, hash 0110111101: ['soap', 'programming', 'universe', 'vision', 'inevitable', 'universal', 'scenario', 'beauty', 'reality', 'prediction']\n",
      "Words for word love, hash 1011010001: ['remark', 'irony', 'sensation', 'evil', 'humor', 'delight', 'guess', 'love', 'laugh', 'soul', 'heaven', 'magic', 'monster', 'dare', 'dream', 'wow', 'fool', 'crazy', 'stranger', 'curiosity', 'ego', 'duck', 'wonder', 'ghost', 'hell', 'imagine', 'remember', 'angel', 'joke', 'forget', 'devil', 'lonely']\n",
      "Words for word anger, hash 0111111001: ['tension', 'rage', 'confrontation', 'confusion', 'uncertain', 'weakness', 'grief', 'speculation', 'sentiment', 'uncertainty', 'sympathy', 'frustration', 'conflict', 'violence', 'anger']\n"
     ]
    }
   ],
   "source": [
    "compare_vocabulary_hashes(EMBEDDING_MODEL, HierarchicalLsh(num_levels=10), search_terms)\n",
    "# note that this takes 60 seconds to run"
   ]
  },
  {
   "cell_type": "code",
   "execution_count": 40,
   "metadata": {},
   "outputs": [
    {
     "name": "stdout",
     "output_type": "stream",
     "text": [
      "Comparing vocabulary hashes for glove-wiki-gigaword-100 embeddings model with HierarchicalHyperplaneLsh(num_levels=10)\n",
      "Embedding vocabulary of 4319 words\n",
      "Training hasher with all 4253 vocabulary embeddings\n",
      "Using full 4253 data items as leaves in hierarchical clustering\n",
      "Building hierarchy over 4253 leaves\n",
      "Enriching clusters with parents and levels and hyperplanes\n",
      "10 hierarchical hyperplanes calculated\n",
      "Hashing all 4253 vocabulary embeddings\n",
      "Words for word apple, hash 1111011110: ['used', 'cell', 'learning', 'determine', 'consequently', 'same', 'possibly', 'uniform', 'actually', 'common', 'weapon', 'artificial', 'convert', 'suspicious', 'contain', 'protective', 'suitable', 'very', 'assume', 'therefore', 'detail', 'aspect', 'builder', 'striking', 'exact', 'active', 'reference', 'programming', 'comparable', 'discount', 'thus', 'detailed', 'life', 'employ', 'surrounding', 'attraction', 'vary', 'journey', 'differ', 'indigenous', 'basic', 'incorporate', 'encounter', 'norm', 'standard', 'structure', 'history', 'precisely', 'fare', 'mere', 'language', 'distinct', 'complicated', 'mainly', 'mean', 'attach', 'specify', 'complex', 'nature', 'rich', 'assumption', 'reflect', 'fact', 'and/or', 'perform', 'harmony', 'forth', 'relationship', 'replacement', 'proper', 'topic', 'knowledge', 'figure', 'map', 'popularity', 'class', 'preference', 'visible', 'valuable', 'existence', 'furthermore', 'adult', 'relation', 'neutral', 'athlete', 'tone', 'shared', 'background', 'produce', 'content', 'performance', 'cab', 'distant', 'associated', 'legacy', 'beyond', 'whereas', 'work', 'specifically', 'related', 'wilderness', 'such', 'spare', 'expression', 'paper', 'ideal', 'organ', 'household', 'criteria', 'lots', 'tape', 'none', 'fault', 'construct', 'certain', 'ritual', 'manufacturer', 'approach', 'either', 'survey', 'battery', 'matter', 'print', 'limited', 'element', 'selection', 'form', 'comparison', 'stick', 'item', 'course', 'calculate', 'category', 'probably', 'accessible', 'tag', 'trace', 'anywhere', 'pure', 'sometimes', 'ordinary', 'delivery', 'consist', 'influence', 'notion', 'highly', 'context', 'attractive', 'age', 'whole', 'species', 'economics', 'noise', 'academic', 'number', 'separation', 'procedure', 'changing', 'text', 'addition', 'utilize', 'commonly', 'exclude', 'sexual', 'compound', 'airplane', 'gear', 'clock', 'alternative', 'tool', 'generation', 'origin', 'expensive', 'particular', 'method', 'hence', 'transmission', 'how', 'relatively', 'primarily', 'system', 'complexity', 'progressive', 'equivalent', 'image', 'characteristic', 'type', 'chemical', 'period', 'shape', 'these', 'besides', 'individual', 'relevant', 'routine', 'meaning', 'unknown', 'application', 'purpose', 'mainstream', 'destination', 'important', 'historical', 'philosophy', 'usual', 'available', 'secondary', 'organic', 'correct', 'constitute', 'flexible', 'statistics', 'degree', 'spin', 'modify', 'combination', 'cultural', 'lifetime', 'itself', 'versus', 'formula', 'precise', 'literature', 'gender', 'outline', 'civilization', 'rider', 'contrast', 'machine', 'animal', 'can', 'identify', 'location', 'conventional', 'dependent', 'so-called', 'sacred', 'definition', 'worldwide', 'transform', 'historically', 'natural', 'lifestyle', 'usually', 'direction', 'define', 'reading', 'use', 'link', 'existing', 'advanced', 'superior', 'symbolic', 'remote', 'pattern', 'emphasis', 'alter', 'spiritual', 'particularly', 'symbol', 'observe', 'might', 'convenience', 'moon', 'distinction', 'premium', 'source', 'depending', 'model', 'explicit', 'normal', 'simple', 'although', 'indeed', 'regardless', 'refer', 'apple', 'material', 'culture', 'variable', 'moreover', 'female', 'actual', 'specific', 'profession', 'found', 'eye', 'note', 'product', 'see', 'primary', 'capable', 'format', 'require', 'dominant', 'view', 'similar', 'explore', 'useful', 'idea', 'interpretation', 'especially', 'body', 'offense', 'hidden', 'earth', 'introduction', 'virtue', 'unlike', 'word', 'switch', 'chart', 'typically', 'occur', 'variation', 'grade', 'male', 'sport', 'column', 'ideology', 'concept', 'twentieth', 'connect', 'perspective', 'talent', 'food', 'subject', 'rural', 'typical', 'color', 'within', 'fixed', 'suggest', 'ingredient', 'living', 'phenomenon', 'less', 'supplier', 'hardware', 'instance', 'customer', 'integrated', 'example', 'drawing', 'guide', 'intact', 'writing', 'identical', 'bird', 'urban', 'manner', 'burn', 'value', 'indicate', 'perhaps', 'cite', 'latter', 'drill', 'predator', 'specialize', 'involve', 'opposite', 'substance', 'required', 'exist', 'competitor', 'rather', 'brand', 'difference', 'though', 'relative', 'birth', 'bear', 'known', 'conversion']\n",
      "Words for word orange, hash 0111010111: ['cold', 'hot', 'cool', 'water', 'temperature', 'wet', 'orange', 'warm', 'dry']\n",
      "Words for word banana, hash 0011100010: ['banana']\n",
      "Words for word grape, hash 00100100: ['grape']\n",
      "Words for word fruit, hash 0011110111: ['flavor', 'jar', 'honey', 'fruit', 'sweet']\n",
      "Words for word cheese, hash 0011110101: ['butter', 'bread', 'cheese']\n",
      "Words for word plane, hash 1101111010: ['plane', 'crash', 'jet', 'rocket', 'helicopter', 'aircraft']\n",
      "Words for word train, hash 1101110110: ['driving', 'bus', 'car', 'pickup', 'train', 'vehicle']\n",
      "Words for word universe, hash 1001111110: ['adolescent', 'sensation', 'inspiration', 'narrative', 'universe', 'genius', 'grace', 'divine', 'love', 'buddy', 'ancestor', 'mysterious', 'magic', 'silent', 'celebrity', 'myth', 'personality', 'genre', 'beauty', 'character', 'beautiful']\n",
      "Words for word love, hash 1001111110: ['adolescent', 'sensation', 'inspiration', 'narrative', 'universe', 'genius', 'grace', 'divine', 'love', 'buddy', 'ancestor', 'mysterious', 'magic', 'silent', 'celebrity', 'myth', 'personality', 'genre', 'beauty', 'character', 'beautiful']\n",
      "Words for word anger, hash 1110111101: ['retreat', 'attempt', 'peace', 'decade', 'prospect', 'resolve', 'warn', 'response', 'brutal', 'occupation', 'role', 'fighting', 'terror', 'dispute', 'blame', 'action', 'cease', 'people', 'war', 'repeatedly', 'threat', 'fate', 'confrontation', 'turkey', 'claim', 'publicity', 'intervention', 'question', 'offensive', 'counter', 'shadow', 'internal', 'attention', 'undermine', 'violent', 'coup', 'bitter', 'tough', 'fierce', 'crush', 'hostile', 'concern', 'defend', 'regime', 'recent', 'fight', 'rule', 'invasion', 'diplomatic', 'wake', 'declare', 'engagement', 'tribal', 'troubled', 'subsequent', 'terrorism', 'mass', 'possibility', 'unprecedented', 'yet', 'bloody', 'midst', 'hunger', 'ongoing', 'conflict', 'violence', 'what', 'harsh', 'civil', 'threaten', 'aggression', 'anger', 'crisis']\n"
     ]
    }
   ],
   "source": [
    "compare_vocabulary_hashes(EMBEDDING_MODEL, HierarchicalHyperplaneLsh(num_levels=10, maximum_sample_size=10000), search_terms)"
   ]
  },
  {
   "cell_type": "markdown",
   "metadata": {},
   "source": [
    "# Gensim similarity comparison"
   ]
  },
  {
   "cell_type": "code",
   "execution_count": 16,
   "metadata": {},
   "outputs": [],
   "source": [
    "def print_gensim_word_neighbourhood(word, embeddings_model_wrapper):\n",
    "    neighbourhood = []\n",
    "    for neighbourhood_word, _ in embeddings_model_wrapper.embeddings_model.most_similar(word, topn=20):\n",
    "        if neighbourhood_word in vocabulary:\n",
    "            neighbourhood.append(neighbourhood_word)\n",
    "    print(f'Gensim words for word {word}: {neighbourhood}')\n",
    "\n",
    "def compare_gensim_word_neighbourhood(embeddings_model_name, search_terms):\n",
    "    embeddings_model_wrapper = EmbeddingsModel.get(embeddings_model_name)\n",
    "    print(f\"Comparing vocabulary hashes for {embeddings_model_name} embeddings model\")\n",
    "    for term in search_terms:\n",
    "        print_gensim_word_neighbourhood(term, embeddings_model_wrapper)"
   ]
  },
  {
   "cell_type": "code",
   "execution_count": 17,
   "metadata": {},
   "outputs": [
    {
     "name": "stdout",
     "output_type": "stream",
     "text": [
      "Comparing vocabulary hashes for glove-wiki-gigaword-100 embeddings model\n",
      "Gensim words for word apple: ['software', 'computer']\n",
      "Gensim words for word orange: ['yellow', 'red', 'blue', 'green', 'pink', 'purple', 'black', 'lemon', 'brown', 'juice', 'white', 'gray', 'bright', 'cream', 'dark']\n",
      "Gensim words for word banana: ['potato', 'fruit', 'peanut', 'sugar', 'nut', 'tomato', 'coffee', 'bean']\n",
      "Gensim words for word grape: ['wine', 'fruit', 'tomato']\n",
      "Gensim words for word fruit: ['vegetable', 'coffee', 'juice', 'flavor', 'banana', 'grape', 'tomato', 'tea']\n",
      "Gensim words for word cheese: ['cream', 'butter', 'chocolate', 'bread', 'sandwich', 'sauce', 'pasta', 'potato', 'tomato', 'goat']\n",
      "Gensim words for word plane: ['airplane', 'flight', 'jet', 'crash', 'helicopter', 'flying', 'aircraft', 'pilot', 'landing', 'crew', 'cargo', 'fly']\n",
      "Gensim words for word train: ['bus', 'rail', 'passenger', 'traffic', 'truck', 'ride', 'car', 'plane', 'route']\n",
      "Gensim words for word universe: ['planet', 'earth', 'reality', 'realm', 'evolution', 'dimension', 'fantasy', 'existence', 'concept', 'fiction']\n",
      "Gensim words for word love: ['passion', 'life', 'dream', 'you', 'always', 'wonder', 'mind', 'feel', 'happy', 'fun', 'kind', 'soul', 'she']\n",
      "Gensim words for word anger: ['frustration', 'fear', 'anxiety', 'rage', 'grief']\n"
     ]
    }
   ],
   "source": [
    "compare_gensim_word_neighbourhood(EMBEDDING_MODEL, search_terms)"
   ]
  }
 ],
 "metadata": {
  "kernelspec": {
   "display_name": ".venv",
   "language": "python",
   "name": "python3"
  },
  "language_info": {
   "codemirror_mode": {
    "name": "ipython",
    "version": 3
   },
   "file_extension": ".py",
   "mimetype": "text/x-python",
   "name": "python",
   "nbconvert_exporter": "python",
   "pygments_lexer": "ipython3",
   "version": "3.10.6"
  }
 },
 "nbformat": 4,
 "nbformat_minor": 2
}
